{
 "cells": [
  {
   "cell_type": "markdown",
   "metadata": {},
   "source": [
    "# Introductory Jupyter notebook\n",
    "\n",
    "**asterisks**\n",
    "\n",
    "This notebook shows off some basic IPython/Jupyter features.  This cell is actually written using [Markdown](https://en.wikipedia.org/wiki/Markdown), which Jupyter natively supports along with some extensions for things like embedding $\\LaTeX$.  Notice that if you mouse-over the header above, you get a ¶ symbol that is a link to this part of the document.  Try double-clicking this cell to view the Markdown source."
   ]
  },
  {
   "cell_type": "code",
   "execution_count": 1,
   "metadata": {
    "collapsed": true
   },
   "outputs": [],
   "source": [
    "import numpy as np\n",
    "from numpy import pi\n",
    "from matplotlib import pyplot as plt"
   ]
  },
  {
   "cell_type": "markdown",
   "metadata": {},
   "source": [
    "---\n",
    "Here's a basic IPython cell that we can run by highlighting it and pressing **`<ctrl>+<enter>`** or **`<shift>+<enter>`**.  It creates an output cell that contains the *last* result of whatever we did in that cell."
   ]
  },
  {
   "cell_type": "code",
   "execution_count": 2,
   "metadata": {
    "collapsed": false
   },
   "outputs": [
    {
     "data": {
      "text/plain": [
       "2"
      ]
     },
     "execution_count": 2,
     "metadata": {},
     "output_type": "execute_result"
    }
   ],
   "source": [
    "1 + 1"
   ]
  },
  {
   "cell_type": "markdown",
   "metadata": {},
   "source": [
    "In this cell, we assign some variables.  Notice that we don't get an output cell when we run it, because assignment doesn't return anything in Python!"
   ]
  },
  {
   "cell_type": "code",
   "execution_count": 3,
   "metadata": {
    "collapsed": true
   },
   "outputs": [],
   "source": [
    "a = 5\n",
    "b = 10\n",
    "\n",
    "c = a*b"
   ]
  },
  {
   "cell_type": "markdown",
   "metadata": {},
   "source": [
    "We can, of course, check the value ourselves..."
   ]
  },
  {
   "cell_type": "code",
   "execution_count": 4,
   "metadata": {
    "collapsed": false
   },
   "outputs": [
    {
     "name": "stdout",
     "output_type": "stream",
     "text": [
      "50\n"
     ]
    }
   ],
   "source": [
    "print(c)"
   ]
  },
  {
   "cell_type": "markdown",
   "metadata": {},
   "source": [
    "We can access variables from this kernel in any other cell, at any time!  Try running the line below and then re-running the previous cell."
   ]
  },
  {
   "cell_type": "code",
   "execution_count": 5,
   "metadata": {
    "collapsed": false
   },
   "outputs": [
    {
     "name": "stdout",
     "output_type": "stream",
     "text": [
      "2500\n"
     ]
    }
   ],
   "source": [
    "c = c**2\n",
    "print(c)"
   ]
  },
  {
   "cell_type": "markdown",
   "metadata": {},
   "source": [
    "IPython has some [magic commands](https://ipython.org/ipython-doc/3/interactive/magics.html), beginning with the symbol `%`, that do Interesting Things™"
   ]
  },
  {
   "cell_type": "markdown",
   "metadata": {},
   "source": [
    "** With %who, we can list current defined references, including sorting by the type we want **"
   ]
  },
  {
   "cell_type": "code",
   "execution_count": 6,
   "metadata": {
    "collapsed": false
   },
   "outputs": [
    {
     "name": "stdout",
     "output_type": "stream",
     "text": [
      "a\t b\t c\t mydict\t myfloat\t mylist\t np\t pi\t plt\t \n",
      "\n",
      "a\t b\t c\t \n",
      "mydict\t \n"
     ]
    }
   ],
   "source": [
    "mydict = {}\n",
    "mylist = []\n",
    "myfloat = 1.0\n",
    "%who\n",
    "%who int\n",
    "%who dict"
   ]
  },
  {
   "cell_type": "markdown",
   "metadata": {},
   "source": [
    "** To see how long a single execution of a cell takes, use %time **"
   ]
  },
  {
   "cell_type": "code",
   "execution_count": 7,
   "metadata": {
    "collapsed": false
   },
   "outputs": [
    {
     "name": "stdout",
     "output_type": "stream",
     "text": [
      "CPU times: user 6 µs, sys: 4 µs, total: 10 µs\n",
      "Wall time: 20 µs\n"
     ]
    }
   ],
   "source": [
    "%time \n",
    "powersof2 = [ 2**i for i in range(0,64) ]"
   ]
  },
  {
   "cell_type": "markdown",
   "metadata": {},
   "source": [
    "** To profile a statement by running it multiple times using the timeit module, use %timeit **"
   ]
  },
  {
   "cell_type": "code",
   "execution_count": 8,
   "metadata": {
    "collapsed": false
   },
   "outputs": [
    {
     "name": "stdout",
     "output_type": "stream",
     "text": [
      "The slowest run took 7.83 times longer than the fastest. This could mean that an intermediate result is being cached.\n",
      "100000 loops, best of 3: 12.5 µs per loop\n"
     ]
    }
   ],
   "source": [
    "%timeit powersof2 = [ 2**i for i in range(0,64) ]"
   ]
  },
  {
   "cell_type": "markdown",
   "metadata": {},
   "source": [
    "** The Jupyter notebook interface really shines when used with this matplotlib magic that allows for in-line plotting. **"
   ]
  },
  {
   "cell_type": "code",
   "execution_count": 9,
   "metadata": {
    "collapsed": false,
    "scrolled": true
   },
   "outputs": [
    {
     "data": {
      "text/plain": [
       "[<matplotlib.lines.Line2D at 0x7f31dd194350>,\n",
       " <matplotlib.lines.Line2D at 0x7f31dd194510>]"
      ]
     },
     "execution_count": 9,
     "metadata": {},
     "output_type": "execute_result"
    },
    {
     "data": {
      "image/png": "[encoded data removed]",
      "text/plain": [
       "<matplotlib.figure.Figure at 0x7f31dd2565d0>"
      ]
     },
     "metadata": {},
     "output_type": "display_data"
    }
   ],
   "source": [
    "%matplotlib inline\n",
    "\n",
    "x = np.arange(0,100)\n",
    "y1 = np.sin(x * 2*pi/50)\n",
    "y2 = np.cos(x * 2*pi/50)\n",
    "plt.plot(x, y1, 'red', x, y2, 'black')"
   ]
  },
  {
   "cell_type": "markdown",
   "metadata": {},
   "source": [
    "** Here's a useful trick using IPython's Display submodule and Jupyter's support for terminals.  Very helpful if you don't use the alpha version of JupyterLab **"
   ]
  },
  {
   "cell_type": "code",
   "execution_count": 10,
   "metadata": {
    "collapsed": false,
    "scrolled": true
   },
   "outputs": [
    {
     "data": {
      "text/html": [
       "\n",
       "        <iframe\n",
       "            width=\"800\"\n",
       "            height=\"300\"\n",
       "            src=\"/terminals/mySpecialTerminal\"\n",
       "            frameborder=\"0\"\n",
       "            allowfullscreen\n",
       "        ></iframe>\n",
       "        "
      ],
      "text/plain": [
       "<IPython.lib.display.IFrame at 0x7f31dd256710>"
      ]
     },
     "execution_count": 10,
     "metadata": {},
     "output_type": "execute_result"
    }
   ],
   "source": [
    "from IPython.display import IFrame\n",
    "IFrame(\"/terminals/mySpecialTerminal\", width=800, height=300)"
   ]
  },
  {
   "cell_type": "markdown",
   "metadata": {},
   "source": [
    "** All we really did here was create an `IFrame`, a web page container, and point it at Jupyter's interface.  If you open this running terminal elsewhere, it really is the same session! **"
   ]
  }
 ],
 "metadata": {
  "kernelspec": {
   "display_name": "Python 2",
   "language": "python",
   "name": "python2"
  },
  "language_info": {
   "codemirror_mode": {
    "name": "ipython",
    "version": 2
   },
   "file_extension": ".py",
   "mimetype": "text/x-python",
   "name": "python",
   "nbconvert_exporter": "python",
   "pygments_lexer": "ipython2",
   "version": "2.7.10"
  },
  "widgets": {
   "state": {},
   "version": "1.1.2"
  }
 },
 "nbformat": 4,
 "nbformat_minor": 1
}
