{
 "cells": [
  {
   "cell_type": "markdown",
   "metadata": {},
   "source": [
    "Adapted from https://github.com/estimate/pandas-exercises"
   ]
  },
  {
   "cell_type": "code",
   "execution_count": 100,
   "metadata": {
    "collapsed": true
   },
   "outputs": [],
   "source": [
    "import pandas as pd\n",
    "import numpy as np\n",
    "import matplotlib.pyplot as plt\n",
    "%matplotlib inline\n",
    "\n",
    "def side_by_side(*objs, **kwds):\n",
    "    space = kwds.get('space', 4)\n",
    "    reprs = [repr(obj).split('\\n') for obj in objs]\n",
    "    print pd.formats.printing.adjoin(space, *reprs)\n",
    "\n",
    "plt.rc('figure', figsize=(10, 6))\n",
    "# pandas.set_printoptions(notebook_repr_html=False)"
   ]
  },
  {
   "cell_type": "markdown",
   "metadata": {},
   "source": [
    "Series\n",
    "======"
   ]
  },
  {
   "cell_type": "code",
   "execution_count": 2,
   "metadata": {
    "collapsed": false
   },
   "outputs": [
    {
     "data": {
      "text/plain": [
       "array([ 1.28613583, -1.8101942 ,  0.8146967 ,  0.15612694,  1.24261073])"
      ]
     },
     "execution_count": 2,
     "metadata": {},
     "output_type": "execute_result"
    }
   ],
   "source": [
    "np.random.randn(5)"
   ]
  },
  {
   "cell_type": "code",
   "execution_count": 3,
   "metadata": {
    "collapsed": false
   },
   "outputs": [
    {
     "data": {
      "text/plain": [
       "a    1.084043\n",
       "b   -0.016019\n",
       "c    1.857771\n",
       "d   -1.583148\n",
       "e    1.041377\n",
       "dtype: float64"
      ]
     },
     "execution_count": 3,
     "metadata": {},
     "output_type": "execute_result"
    }
   ],
   "source": [
    "labels = ['a', 'b', 'c', 'd', 'e']\n",
    "s = pd.Series(np.random.randn(5), index=labels)\n",
    "s"
   ]
  },
  {
   "cell_type": "code",
   "execution_count": 4,
   "metadata": {
    "collapsed": false
   },
   "outputs": [
    {
     "data": {
      "text/plain": [
       "True"
      ]
     },
     "execution_count": 4,
     "metadata": {},
     "output_type": "execute_result"
    }
   ],
   "source": [
    "'b' in s"
   ]
  },
  {
   "cell_type": "code",
   "execution_count": 5,
   "metadata": {
    "collapsed": false
   },
   "outputs": [
    {
     "data": {
      "text/plain": [
       "-0.016018976103740146"
      ]
     },
     "execution_count": 5,
     "metadata": {},
     "output_type": "execute_result"
    }
   ],
   "source": [
    "s['b']"
   ]
  },
  {
   "cell_type": "code",
   "execution_count": 6,
   "metadata": {
    "collapsed": false
   },
   "outputs": [
    {
     "data": {
      "text/plain": [
       "Index([u'a', u'b', u'c', u'd', u'e'], dtype='object')"
      ]
     },
     "execution_count": 6,
     "metadata": {},
     "output_type": "execute_result"
    }
   ],
   "source": [
    "s.index"
   ]
  },
  {
   "cell_type": "code",
   "execution_count": 7,
   "metadata": {
    "collapsed": false
   },
   "outputs": [
    {
     "data": {
      "text/plain": [
       "a    1.084043\n",
       "b   -0.016019\n",
       "c    1.857771\n",
       "d   -1.583148\n",
       "e    1.041377\n",
       "dtype: float64"
      ]
     },
     "execution_count": 7,
     "metadata": {},
     "output_type": "execute_result"
    }
   ],
   "source": [
    "s"
   ]
  },
  {
   "cell_type": "code",
   "execution_count": 8,
   "metadata": {
    "collapsed": false
   },
   "outputs": [
    {
     "data": {
      "text/plain": [
       "{'a': 1.0840434268114549,\n",
       " 'b': -0.016018976103740146,\n",
       " 'c': 1.8577711729464179,\n",
       " 'd': -1.5831475841093166,\n",
       " 'e': 1.0413769572464304}"
      ]
     },
     "execution_count": 8,
     "metadata": {},
     "output_type": "execute_result"
    }
   ],
   "source": [
    "mapping = s.to_dict()\n",
    "mapping"
   ]
  },
  {
   "cell_type": "code",
   "execution_count": 11,
   "metadata": {
    "collapsed": false
   },
   "outputs": [
    {
     "data": {
      "text/plain": [
       "b   -0.016019\n",
       "e    1.041377\n",
       "a    1.084043\n",
       "d   -1.583148\n",
       "f         NaN\n",
       "dtype: float64"
      ]
     },
     "execution_count": 11,
     "metadata": {},
     "output_type": "execute_result"
    }
   ],
   "source": [
    "s = pd.Series(mapping, index=['b', 'e', 'a', 'd', 'f'])\n",
    "s"
   ]
  },
  {
   "cell_type": "code",
   "execution_count": 13,
   "metadata": {
    "collapsed": false
   },
   "outputs": [
    {
     "data": {
      "text/plain": [
       "b   -0.016019\n",
       "e    1.041377\n",
       "a    1.084043\n",
       "d   -1.583148\n",
       "dtype: float64"
      ]
     },
     "execution_count": 13,
     "metadata": {},
     "output_type": "execute_result"
    }
   ],
   "source": [
    "s[pd.notnull(s)]"
   ]
  },
  {
   "cell_type": "code",
   "execution_count": 14,
   "metadata": {
    "collapsed": false
   },
   "outputs": [
    {
     "data": {
      "text/plain": [
       "b   -0.016019\n",
       "e    1.041377\n",
       "a    1.084043\n",
       "d   -1.583148\n",
       "dtype: float64"
      ]
     },
     "execution_count": 14,
     "metadata": {},
     "output_type": "execute_result"
    }
   ],
   "source": [
    "s.dropna()"
   ]
  },
  {
   "cell_type": "code",
   "execution_count": 15,
   "metadata": {
    "collapsed": false
   },
   "outputs": [
    {
     "data": {
      "text/plain": [
       "b   -0.032038\n",
       "e    2.082754\n",
       "a    2.168087\n",
       "d   -3.166295\n",
       "f         NaN\n",
       "dtype: float64"
      ]
     },
     "execution_count": 15,
     "metadata": {},
     "output_type": "execute_result"
    }
   ],
   "source": [
    "s * 2"
   ]
  },
  {
   "cell_type": "code",
   "execution_count": 16,
   "metadata": {
    "collapsed": false
   },
   "outputs": [
    {
     "data": {
      "text/plain": [
       "b   -0.016019\n",
       "e    1.041377\n",
       "a    1.084043\n",
       "dtype: float64"
      ]
     },
     "execution_count": 16,
     "metadata": {},
     "output_type": "execute_result"
    }
   ],
   "source": [
    "s[:3]"
   ]
  },
  {
   "cell_type": "code",
   "execution_count": 17,
   "metadata": {
    "collapsed": false
   },
   "outputs": [
    {
     "data": {
      "text/plain": [
       "Index([u'b', u'e', u'a', u'd', u'f'], dtype='object')"
      ]
     },
     "execution_count": 17,
     "metadata": {},
     "output_type": "execute_result"
    }
   ],
   "source": [
    "s.index"
   ]
  },
  {
   "cell_type": "markdown",
   "metadata": {},
   "source": [
    "DataFrame: 2D collection of Series\n",
    "=================================="
   ]
  },
  {
   "cell_type": "code",
   "execution_count": 19,
   "metadata": {
    "collapsed": false
   },
   "outputs": [
    {
     "data": {
      "text/html": [
       "<div>\n",
       "<table border=\"1\" class=\"dataframe\">\n",
       "  <thead>\n",
       "    <tr style=\"text-align: right;\">\n",
       "      <th></th>\n",
       "      <th>a</th>\n",
       "      <th>b</th>\n",
       "      <th>c</th>\n",
       "      <th>d</th>\n",
       "    </tr>\n",
       "  </thead>\n",
       "  <tbody>\n",
       "    <tr>\n",
       "      <th>0</th>\n",
       "      <td>-0.848690</td>\n",
       "      <td>foo</td>\n",
       "      <td>0.131127</td>\n",
       "      <td>0</td>\n",
       "    </tr>\n",
       "    <tr>\n",
       "      <th>1</th>\n",
       "      <td>-1.107928</td>\n",
       "      <td>bar</td>\n",
       "      <td>-0.703635</td>\n",
       "      <td>1</td>\n",
       "    </tr>\n",
       "    <tr>\n",
       "      <th>2</th>\n",
       "      <td>-0.983092</td>\n",
       "      <td>foo</td>\n",
       "      <td>0.848839</td>\n",
       "      <td>2</td>\n",
       "    </tr>\n",
       "    <tr>\n",
       "      <th>3</th>\n",
       "      <td>0.118038</td>\n",
       "      <td>bar</td>\n",
       "      <td>2.057203</td>\n",
       "      <td>3</td>\n",
       "    </tr>\n",
       "    <tr>\n",
       "      <th>4</th>\n",
       "      <td>-0.444245</td>\n",
       "      <td>foo</td>\n",
       "      <td>-0.661794</td>\n",
       "      <td>4</td>\n",
       "    </tr>\n",
       "    <tr>\n",
       "      <th>5</th>\n",
       "      <td>0.078918</td>\n",
       "      <td>bar</td>\n",
       "      <td>-1.016432</td>\n",
       "      <td>5</td>\n",
       "    </tr>\n",
       "  </tbody>\n",
       "</table>\n",
       "</div>"
      ],
      "text/plain": [
       "          a    b         c  d\n",
       "0 -0.848690  foo  0.131127  0\n",
       "1 -1.107928  bar -0.703635  1\n",
       "2 -0.983092  foo  0.848839  2\n",
       "3  0.118038  bar  2.057203  3\n",
       "4 -0.444245  foo -0.661794  4\n",
       "5  0.078918  bar -1.016432  5"
      ]
     },
     "execution_count": 19,
     "metadata": {},
     "output_type": "execute_result"
    }
   ],
   "source": [
    "df = pd.DataFrame({'a': np.random.randn(6),\n",
    "                'b': ['foo', 'bar'] * 3,\n",
    "                'c': np.random.randn(6)})\n",
    "df['d'] = range(6)\n",
    "df"
   ]
  },
  {
   "cell_type": "code",
   "execution_count": 20,
   "metadata": {
    "collapsed": false
   },
   "outputs": [
    {
     "data": {
      "text/plain": [
       "0    foo\n",
       "1    bar\n",
       "2    foo\n",
       "3    bar\n",
       "4    foo\n",
       "5    bar\n",
       "Name: b, dtype: object"
      ]
     },
     "execution_count": 20,
     "metadata": {},
     "output_type": "execute_result"
    }
   ],
   "source": [
    "df['b']    # by column"
   ]
  },
  {
   "cell_type": "code",
   "execution_count": 21,
   "metadata": {
    "collapsed": false
   },
   "outputs": [
    {
     "data": {
      "text/html": [
       "<div>\n",
       "<table border=\"1\" class=\"dataframe\">\n",
       "  <thead>\n",
       "    <tr style=\"text-align: right;\">\n",
       "      <th></th>\n",
       "      <th>a</th>\n",
       "      <th>b</th>\n",
       "      <th>c</th>\n",
       "      <th>d</th>\n",
       "    </tr>\n",
       "  </thead>\n",
       "  <tbody>\n",
       "    <tr>\n",
       "      <th>0</th>\n",
       "      <td>-0.848690</td>\n",
       "      <td>foo</td>\n",
       "      <td>0.131127</td>\n",
       "      <td>0</td>\n",
       "    </tr>\n",
       "    <tr>\n",
       "      <th>1</th>\n",
       "      <td>-1.107928</td>\n",
       "      <td>bar</td>\n",
       "      <td>-0.703635</td>\n",
       "      <td>1</td>\n",
       "    </tr>\n",
       "    <tr>\n",
       "      <th>2</th>\n",
       "      <td>-0.983092</td>\n",
       "      <td>foo</td>\n",
       "      <td>0.848839</td>\n",
       "      <td>2</td>\n",
       "    </tr>\n",
       "  </tbody>\n",
       "</table>\n",
       "</div>"
      ],
      "text/plain": [
       "          a    b         c  d\n",
       "0 -0.848690  foo  0.131127  0\n",
       "1 -1.107928  bar -0.703635  1\n",
       "2 -0.983092  foo  0.848839  2"
      ]
     },
     "execution_count": 21,
     "metadata": {},
     "output_type": "execute_result"
    }
   ],
   "source": [
    "df[:3]"
   ]
  },
  {
   "cell_type": "code",
   "execution_count": 22,
   "metadata": {
    "collapsed": false
   },
   "outputs": [
    {
     "data": {
      "text/html": [
       "<div>\n",
       "<table border=\"1\" class=\"dataframe\">\n",
       "  <thead>\n",
       "    <tr style=\"text-align: right;\">\n",
       "      <th></th>\n",
       "      <th>a</th>\n",
       "      <th>b</th>\n",
       "      <th>c</th>\n",
       "      <th>d</th>\n",
       "    </tr>\n",
       "  </thead>\n",
       "  <tbody>\n",
       "    <tr>\n",
       "      <th>0</th>\n",
       "      <td>-0.848690</td>\n",
       "      <td>foo</td>\n",
       "      <td>0.131127</td>\n",
       "      <td>0</td>\n",
       "    </tr>\n",
       "    <tr>\n",
       "      <th>1</th>\n",
       "      <td>-1.107928</td>\n",
       "      <td>bar</td>\n",
       "      <td>-0.703635</td>\n",
       "      <td>1</td>\n",
       "    </tr>\n",
       "    <tr>\n",
       "      <th>2</th>\n",
       "      <td>-0.983092</td>\n",
       "      <td>foo</td>\n",
       "      <td>0.848839</td>\n",
       "      <td>2</td>\n",
       "    </tr>\n",
       "    <tr>\n",
       "      <th>3</th>\n",
       "      <td>0.118038</td>\n",
       "      <td>bar</td>\n",
       "      <td>2.057203</td>\n",
       "      <td>3</td>\n",
       "    </tr>\n",
       "  </tbody>\n",
       "</table>\n",
       "</div>"
      ],
      "text/plain": [
       "          a    b         c  d\n",
       "0 -0.848690  foo  0.131127  0\n",
       "1 -1.107928  bar -0.703635  1\n",
       "2 -0.983092  foo  0.848839  2\n",
       "3  0.118038  bar  2.057203  3"
      ]
     },
     "execution_count": 22,
     "metadata": {},
     "output_type": "execute_result"
    }
   ],
   "source": [
    "df[:-2]"
   ]
  },
  {
   "cell_type": "code",
   "execution_count": 23,
   "metadata": {
    "collapsed": false
   },
   "outputs": [
    {
     "data": {
      "text/html": [
       "<div>\n",
       "<table border=\"1\" class=\"dataframe\">\n",
       "  <thead>\n",
       "    <tr style=\"text-align: right;\">\n",
       "      <th></th>\n",
       "      <th>a</th>\n",
       "      <th>b</th>\n",
       "      <th>c</th>\n",
       "      <th>d</th>\n",
       "    </tr>\n",
       "  </thead>\n",
       "  <tbody>\n",
       "    <tr>\n",
       "      <th>4</th>\n",
       "      <td>-0.444245</td>\n",
       "      <td>foo</td>\n",
       "      <td>-0.661794</td>\n",
       "      <td>4</td>\n",
       "    </tr>\n",
       "    <tr>\n",
       "      <th>5</th>\n",
       "      <td>0.078918</td>\n",
       "      <td>bar</td>\n",
       "      <td>-1.016432</td>\n",
       "      <td>5</td>\n",
       "    </tr>\n",
       "  </tbody>\n",
       "</table>\n",
       "</div>"
      ],
      "text/plain": [
       "          a    b         c  d\n",
       "4 -0.444245  foo -0.661794  4\n",
       "5  0.078918  bar -1.016432  5"
      ]
     },
     "execution_count": 23,
     "metadata": {},
     "output_type": "execute_result"
    }
   ],
   "source": [
    "df[-2:]   # the last 2 rows"
   ]
  },
  {
   "cell_type": "code",
   "execution_count": 24,
   "metadata": {
    "collapsed": false
   },
   "outputs": [
    {
     "data": {
      "text/plain": [
       "array(['foo', 'bar', 'foo', 'bar', 'foo', 'bar'], \n",
       "      dtype='|S3')"
      ]
     },
     "execution_count": 24,
     "metadata": {},
     "output_type": "execute_result"
    }
   ],
   "source": [
    "np.tile(['foo', 'bar'], 3)   # in numpy"
   ]
  },
  {
   "cell_type": "code",
   "execution_count": 25,
   "metadata": {
    "collapsed": false
   },
   "outputs": [
    {
     "data": {
      "text/plain": [
       "a    -0.84869\n",
       "b         foo\n",
       "c    0.131127\n",
       "d           0\n",
       "Name: 0, dtype: object"
      ]
     },
     "execution_count": 25,
     "metadata": {},
     "output_type": "execute_result"
    }
   ],
   "source": [
    "df.xs(0)   # returning the first row"
   ]
  },
  {
   "cell_type": "code",
   "execution_count": 26,
   "metadata": {
    "collapsed": false
   },
   "outputs": [
    {
     "data": {
      "text/plain": [
       "a   -0.983092\n",
       "b         foo\n",
       "c    0.848839\n",
       "d           2\n",
       "Name: 2, dtype: object"
      ]
     },
     "execution_count": 26,
     "metadata": {},
     "output_type": "execute_result"
    }
   ],
   "source": [
    "df.ix[2]    # does equal thing as above. In this case, 3rd row. "
   ]
  },
  {
   "cell_type": "code",
   "execution_count": 27,
   "metadata": {
    "collapsed": false
   },
   "outputs": [
    {
     "data": {
      "text/plain": [
       "'foo'"
      ]
     },
     "execution_count": 27,
     "metadata": {},
     "output_type": "execute_result"
    }
   ],
   "source": [
    "df.ix[2, 'b']"
   ]
  },
  {
   "cell_type": "code",
   "execution_count": 28,
   "metadata": {
    "collapsed": false
   },
   "outputs": [
    {
     "data": {
      "text/plain": [
       "'foo'"
      ]
     },
     "execution_count": 28,
     "metadata": {},
     "output_type": "execute_result"
    }
   ],
   "source": [
    "df.get_value(2, 'b')"
   ]
  },
  {
   "cell_type": "code",
   "execution_count": 29,
   "metadata": {
    "collapsed": false
   },
   "outputs": [
    {
     "name": "stdout",
     "output_type": "stream",
     "text": [
      "The slowest run took 7.88 times longer than the fastest. This could mean that an intermediate result is being cached.\n",
      "100000 loops, best of 3: 10.3 µs per loop\n"
     ]
    }
   ],
   "source": [
    "timeit df.ix[2, 'b']"
   ]
  },
  {
   "cell_type": "code",
   "execution_count": 30,
   "metadata": {
    "collapsed": false
   },
   "outputs": [
    {
     "name": "stdout",
     "output_type": "stream",
     "text": [
      "The slowest run took 10.94 times longer than the fastest. This could mean that an intermediate result is being cached.\n",
      "100000 loops, best of 3: 4.12 µs per loop\n"
     ]
    }
   ],
   "source": [
    "timeit df.get_value(2, 'b')"
   ]
  },
  {
   "cell_type": "code",
   "execution_count": 31,
   "metadata": {
    "collapsed": false
   },
   "outputs": [
    {
     "data": {
      "text/plain": [
       "2    foo\n",
       "3    bar\n",
       "4    foo\n",
       "Name: b, dtype: object"
      ]
     },
     "execution_count": 31,
     "metadata": {},
     "output_type": "execute_result"
    }
   ],
   "source": [
    "df.ix[2:4, 'b']"
   ]
  },
  {
   "cell_type": "code",
   "execution_count": 32,
   "metadata": {
    "collapsed": false
   },
   "outputs": [
    {
     "data": {
      "text/html": [
       "<div>\n",
       "<table border=\"1\" class=\"dataframe\">\n",
       "  <thead>\n",
       "    <tr style=\"text-align: right;\">\n",
       "      <th></th>\n",
       "      <th>b</th>\n",
       "      <th>c</th>\n",
       "    </tr>\n",
       "  </thead>\n",
       "  <tbody>\n",
       "    <tr>\n",
       "      <th>2</th>\n",
       "      <td>foo</td>\n",
       "      <td>0.848839</td>\n",
       "    </tr>\n",
       "    <tr>\n",
       "      <th>3</th>\n",
       "      <td>bar</td>\n",
       "      <td>2.057203</td>\n",
       "    </tr>\n",
       "    <tr>\n",
       "      <th>4</th>\n",
       "      <td>foo</td>\n",
       "      <td>-0.661794</td>\n",
       "    </tr>\n",
       "  </tbody>\n",
       "</table>\n",
       "</div>"
      ],
      "text/plain": [
       "     b         c\n",
       "2  foo  0.848839\n",
       "3  bar  2.057203\n",
       "4  foo -0.661794"
      ]
     },
     "execution_count": 32,
     "metadata": {},
     "output_type": "execute_result"
    }
   ],
   "source": [
    "df.ix[2:4, ['b', 'c']]"
   ]
  },
  {
   "cell_type": "code",
   "execution_count": 33,
   "metadata": {
    "collapsed": false
   },
   "outputs": [
    {
     "data": {
      "text/html": [
       "<div>\n",
       "<table border=\"1\" class=\"dataframe\">\n",
       "  <thead>\n",
       "    <tr style=\"text-align: right;\">\n",
       "      <th></th>\n",
       "      <th>b</th>\n",
       "      <th>c</th>\n",
       "    </tr>\n",
       "  </thead>\n",
       "  <tbody>\n",
       "    <tr>\n",
       "      <th>2</th>\n",
       "      <td>foo</td>\n",
       "      <td>0.848839</td>\n",
       "    </tr>\n",
       "    <tr>\n",
       "      <th>3</th>\n",
       "      <td>bar</td>\n",
       "      <td>2.057203</td>\n",
       "    </tr>\n",
       "    <tr>\n",
       "      <th>4</th>\n",
       "      <td>foo</td>\n",
       "      <td>-0.661794</td>\n",
       "    </tr>\n",
       "  </tbody>\n",
       "</table>\n",
       "</div>"
      ],
      "text/plain": [
       "     b         c\n",
       "2  foo  0.848839\n",
       "3  bar  2.057203\n",
       "4  foo -0.661794"
      ]
     },
     "execution_count": 33,
     "metadata": {},
     "output_type": "execute_result"
    }
   ],
   "source": [
    "df.ix[2:4, 'b':'c']   # slices by column - essentially the same as above."
   ]
  },
  {
   "cell_type": "code",
   "execution_count": 34,
   "metadata": {
    "collapsed": false
   },
   "outputs": [
    {
     "data": {
      "text/html": [
       "<div>\n",
       "<table border=\"1\" class=\"dataframe\">\n",
       "  <thead>\n",
       "    <tr style=\"text-align: right;\">\n",
       "      <th></th>\n",
       "      <th>b</th>\n",
       "      <th>c</th>\n",
       "      <th>d</th>\n",
       "    </tr>\n",
       "  </thead>\n",
       "  <tbody>\n",
       "    <tr>\n",
       "      <th>0</th>\n",
       "      <td>foo</td>\n",
       "      <td>0.131127</td>\n",
       "      <td>0</td>\n",
       "    </tr>\n",
       "    <tr>\n",
       "      <th>2</th>\n",
       "      <td>foo</td>\n",
       "      <td>0.848839</td>\n",
       "      <td>2</td>\n",
       "    </tr>\n",
       "    <tr>\n",
       "      <th>4</th>\n",
       "      <td>foo</td>\n",
       "      <td>-0.661794</td>\n",
       "      <td>4</td>\n",
       "    </tr>\n",
       "  </tbody>\n",
       "</table>\n",
       "</div>"
      ],
      "text/plain": [
       "     b         c  d\n",
       "0  foo  0.131127  0\n",
       "2  foo  0.848839  2\n",
       "4  foo -0.661794  4"
      ]
     },
     "execution_count": 34,
     "metadata": {},
     "output_type": "execute_result"
    }
   ],
   "source": [
    "df.ix[[0, 2, 4], ['b', 'c', 'd']]   # pass a list of rows and columns I want to select out"
   ]
  },
  {
   "cell_type": "code",
   "execution_count": 35,
   "metadata": {
    "collapsed": false
   },
   "outputs": [
    {
     "data": {
      "text/plain": [
       "0     True\n",
       "1    False\n",
       "2     True\n",
       "3     True\n",
       "4    False\n",
       "5    False\n",
       "Name: c, dtype: bool"
      ]
     },
     "execution_count": 35,
     "metadata": {},
     "output_type": "execute_result"
    }
   ],
   "source": [
    "df['c'] > 0"
   ]
  },
  {
   "cell_type": "code",
   "execution_count": 36,
   "metadata": {
    "collapsed": false
   },
   "outputs": [
    {
     "data": {
      "text/html": [
       "<div>\n",
       "<table border=\"1\" class=\"dataframe\">\n",
       "  <thead>\n",
       "    <tr style=\"text-align: right;\">\n",
       "      <th></th>\n",
       "      <th>a</th>\n",
       "      <th>b</th>\n",
       "      <th>c</th>\n",
       "      <th>d</th>\n",
       "    </tr>\n",
       "  </thead>\n",
       "  <tbody>\n",
       "    <tr>\n",
       "      <th>0</th>\n",
       "      <td>-0.848690</td>\n",
       "      <td>foo</td>\n",
       "      <td>0.131127</td>\n",
       "      <td>0</td>\n",
       "    </tr>\n",
       "    <tr>\n",
       "      <th>2</th>\n",
       "      <td>-0.983092</td>\n",
       "      <td>foo</td>\n",
       "      <td>0.848839</td>\n",
       "      <td>2</td>\n",
       "    </tr>\n",
       "    <tr>\n",
       "      <th>3</th>\n",
       "      <td>0.118038</td>\n",
       "      <td>bar</td>\n",
       "      <td>2.057203</td>\n",
       "      <td>3</td>\n",
       "    </tr>\n",
       "  </tbody>\n",
       "</table>\n",
       "</div>"
      ],
      "text/plain": [
       "          a    b         c  d\n",
       "0 -0.848690  foo  0.131127  0\n",
       "2 -0.983092  foo  0.848839  2\n",
       "3  0.118038  bar  2.057203  3"
      ]
     },
     "execution_count": 36,
     "metadata": {},
     "output_type": "execute_result"
    }
   ],
   "source": [
    "df.ix[df['c'] > 0]   # boolean arrays"
   ]
  },
  {
   "cell_type": "code",
   "execution_count": 37,
   "metadata": {
    "collapsed": false
   },
   "outputs": [
    {
     "data": {
      "text/plain": [
       "RangeIndex(start=0, stop=6, step=1)"
      ]
     },
     "execution_count": 37,
     "metadata": {},
     "output_type": "execute_result"
    }
   ],
   "source": [
    "df.index"
   ]
  },
  {
   "cell_type": "code",
   "execution_count": 38,
   "metadata": {
    "collapsed": false
   },
   "outputs": [
    {
     "data": {
      "text/plain": [
       "Index([u'a', u'b', u'c', u'd'], dtype='object')"
      ]
     },
     "execution_count": 38,
     "metadata": {},
     "output_type": "execute_result"
    }
   ],
   "source": [
    "df.columns"
   ]
  },
  {
   "cell_type": "code",
   "execution_count": 42,
   "metadata": {
    "collapsed": false
   },
   "outputs": [
    {
     "data": {
      "text/html": [
       "<div>\n",
       "<table border=\"1\" class=\"dataframe\">\n",
       "  <thead>\n",
       "    <tr style=\"text-align: right;\">\n",
       "      <th></th>\n",
       "      <th>a</th>\n",
       "      <th>b</th>\n",
       "      <th>c</th>\n",
       "    </tr>\n",
       "  </thead>\n",
       "  <tbody>\n",
       "    <tr>\n",
       "      <th>2000-01-01</th>\n",
       "      <td>0.153456</td>\n",
       "      <td>foo</td>\n",
       "      <td>-0.590844</td>\n",
       "    </tr>\n",
       "    <tr>\n",
       "      <th>2000-01-02</th>\n",
       "      <td>-1.677967</td>\n",
       "      <td>bar</td>\n",
       "      <td>-0.327032</td>\n",
       "    </tr>\n",
       "    <tr>\n",
       "      <th>2000-01-03</th>\n",
       "      <td>-1.290512</td>\n",
       "      <td>foo</td>\n",
       "      <td>-1.151048</td>\n",
       "    </tr>\n",
       "    <tr>\n",
       "      <th>2000-01-04</th>\n",
       "      <td>-0.937034</td>\n",
       "      <td>bar</td>\n",
       "      <td>-1.212988</td>\n",
       "    </tr>\n",
       "    <tr>\n",
       "      <th>2000-01-05</th>\n",
       "      <td>-0.435035</td>\n",
       "      <td>foo</td>\n",
       "      <td>-0.036465</td>\n",
       "    </tr>\n",
       "    <tr>\n",
       "      <th>2000-01-06</th>\n",
       "      <td>0.055260</td>\n",
       "      <td>bar</td>\n",
       "      <td>0.042183</td>\n",
       "    </tr>\n",
       "  </tbody>\n",
       "</table>\n",
       "</div>"
      ],
      "text/plain": [
       "                   a    b         c\n",
       "2000-01-01  0.153456  foo -0.590844\n",
       "2000-01-02 -1.677967  bar -0.327032\n",
       "2000-01-03 -1.290512  foo -1.151048\n",
       "2000-01-04 -0.937034  bar -1.212988\n",
       "2000-01-05 -0.435035  foo -0.036465\n",
       "2000-01-06  0.055260  bar  0.042183"
      ]
     },
     "execution_count": 42,
     "metadata": {},
     "output_type": "execute_result"
    }
   ],
   "source": [
    "df = pd.DataFrame({'a': np.random.randn(6),\n",
    "                'b': ['foo', 'bar'] * 3,\n",
    "                'c': np.random.randn(6)},\n",
    "               index=pd.date_range('1/1/2000', periods=6))\n",
    "df"
   ]
  },
  {
   "cell_type": "code",
   "execution_count": 43,
   "metadata": {
    "collapsed": false
   },
   "outputs": [
    {
     "data": {
      "text/html": [
       "<div>\n",
       "<table border=\"1\" class=\"dataframe\">\n",
       "  <thead>\n",
       "    <tr style=\"text-align: right;\">\n",
       "      <th></th>\n",
       "      <th>a</th>\n",
       "      <th>b</th>\n",
       "      <th>c</th>\n",
       "      <th>d</th>\n",
       "    </tr>\n",
       "  </thead>\n",
       "  <tbody>\n",
       "    <tr>\n",
       "      <th>0</th>\n",
       "      <td>-1.325929</td>\n",
       "      <td>foo</td>\n",
       "      <td>0.750764</td>\n",
       "      <td>NaN</td>\n",
       "    </tr>\n",
       "    <tr>\n",
       "      <th>1</th>\n",
       "      <td>-0.119996</td>\n",
       "      <td>bar</td>\n",
       "      <td>0.000940</td>\n",
       "      <td>NaN</td>\n",
       "    </tr>\n",
       "    <tr>\n",
       "      <th>2</th>\n",
       "      <td>-0.734475</td>\n",
       "      <td>foo</td>\n",
       "      <td>0.998593</td>\n",
       "      <td>NaN</td>\n",
       "    </tr>\n",
       "    <tr>\n",
       "      <th>3</th>\n",
       "      <td>-1.203233</td>\n",
       "      <td>bar</td>\n",
       "      <td>-0.105186</td>\n",
       "      <td>NaN</td>\n",
       "    </tr>\n",
       "    <tr>\n",
       "      <th>4</th>\n",
       "      <td>2.053552</td>\n",
       "      <td>foo</td>\n",
       "      <td>0.309077</td>\n",
       "      <td>NaN</td>\n",
       "    </tr>\n",
       "    <tr>\n",
       "      <th>5</th>\n",
       "      <td>-0.698078</td>\n",
       "      <td>bar</td>\n",
       "      <td>-0.563166</td>\n",
       "      <td>NaN</td>\n",
       "    </tr>\n",
       "  </tbody>\n",
       "</table>\n",
       "</div>"
      ],
      "text/plain": [
       "          a    b         c    d\n",
       "0 -1.325929  foo  0.750764  NaN\n",
       "1 -0.119996  bar  0.000940  NaN\n",
       "2 -0.734475  foo  0.998593  NaN\n",
       "3 -1.203233  bar -0.105186  NaN\n",
       "4  2.053552  foo  0.309077  NaN\n",
       "5 -0.698078  bar -0.563166  NaN"
      ]
     },
     "execution_count": 43,
     "metadata": {},
     "output_type": "execute_result"
    }
   ],
   "source": [
    "df = pd.DataFrame({'a': np.random.randn(6),\n",
    "                'b': ['foo', 'bar'] * 3,\n",
    "                'c': np.random.randn(6)},\n",
    "               columns=['a', 'b', 'c', 'd'])\n",
    "df"
   ]
  },
  {
   "cell_type": "code",
   "execution_count": 44,
   "metadata": {
    "collapsed": false
   },
   "outputs": [
    {
     "data": {
      "text/html": [
       "<div>\n",
       "<table border=\"1\" class=\"dataframe\">\n",
       "  <thead>\n",
       "    <tr style=\"text-align: right;\">\n",
       "      <th></th>\n",
       "      <th>a</th>\n",
       "      <th>b</th>\n",
       "      <th>c</th>\n",
       "      <th>d</th>\n",
       "    </tr>\n",
       "  </thead>\n",
       "  <tbody>\n",
       "    <tr>\n",
       "      <th>0</th>\n",
       "      <td>False</td>\n",
       "      <td>False</td>\n",
       "      <td>False</td>\n",
       "      <td>True</td>\n",
       "    </tr>\n",
       "    <tr>\n",
       "      <th>1</th>\n",
       "      <td>False</td>\n",
       "      <td>False</td>\n",
       "      <td>False</td>\n",
       "      <td>True</td>\n",
       "    </tr>\n",
       "    <tr>\n",
       "      <th>2</th>\n",
       "      <td>False</td>\n",
       "      <td>False</td>\n",
       "      <td>False</td>\n",
       "      <td>True</td>\n",
       "    </tr>\n",
       "    <tr>\n",
       "      <th>3</th>\n",
       "      <td>False</td>\n",
       "      <td>False</td>\n",
       "      <td>False</td>\n",
       "      <td>True</td>\n",
       "    </tr>\n",
       "    <tr>\n",
       "      <th>4</th>\n",
       "      <td>False</td>\n",
       "      <td>False</td>\n",
       "      <td>False</td>\n",
       "      <td>True</td>\n",
       "    </tr>\n",
       "    <tr>\n",
       "      <th>5</th>\n",
       "      <td>False</td>\n",
       "      <td>False</td>\n",
       "      <td>False</td>\n",
       "      <td>True</td>\n",
       "    </tr>\n",
       "  </tbody>\n",
       "</table>\n",
       "</div>"
      ],
      "text/plain": [
       "       a      b      c     d\n",
       "0  False  False  False  True\n",
       "1  False  False  False  True\n",
       "2  False  False  False  True\n",
       "3  False  False  False  True\n",
       "4  False  False  False  True\n",
       "5  False  False  False  True"
      ]
     },
     "execution_count": 44,
     "metadata": {},
     "output_type": "execute_result"
    }
   ],
   "source": [
    "pd.isnull(df)"
   ]
  },
  {
   "cell_type": "markdown",
   "metadata": {},
   "source": [
    "Creation from nested dicts\n",
    "--------------------------\n",
    "\n",
    "These arise naturally in Python code"
   ]
  },
  {
   "cell_type": "code",
   "execution_count": 46,
   "metadata": {
    "collapsed": false
   },
   "outputs": [
    {
     "data": {
      "text/plain": [
       "{'bar': {'a': -0.8278778864744404,\n",
       "  'b': -0.35541280153822946,\n",
       "  'c': 0.9078062885168281,\n",
       "  'd': -0.1172205510656441},\n",
       " 'baz': {'a': -0.5060069523583954,\n",
       "  'b': 0.5693577295897921,\n",
       "  'c': 0.5355059415235814,\n",
       "  'd': 0.018681004262539526},\n",
       " 'foo': {'a': -1.0863826758862487,\n",
       "  'b': 0.46926938134984325,\n",
       "  'c': 1.5293461977408913,\n",
       "  'd': 1.1587672747193771}}"
      ]
     },
     "execution_count": 46,
     "metadata": {},
     "output_type": "execute_result"
    }
   ],
   "source": [
    "data = {}\n",
    "for col in ['foo', 'bar', 'baz']:\n",
    "    for row in ['a', 'b', 'c', 'd']:\n",
    "        data.setdefault(col, {})[row] = np.random.randn()   # sorted cols: bar, baz, foo\n",
    "data"
   ]
  },
  {
   "cell_type": "code",
   "execution_count": 47,
   "metadata": {
    "collapsed": false
   },
   "outputs": [],
   "source": [
    "del data ['foo']['c']   # delete an entry by index key (col) and row."
   ]
  },
  {
   "cell_type": "code",
   "execution_count": 48,
   "metadata": {
    "collapsed": false
   },
   "outputs": [
    {
     "data": {
      "text/html": [
       "<div>\n",
       "<table border=\"1\" class=\"dataframe\">\n",
       "  <thead>\n",
       "    <tr style=\"text-align: right;\">\n",
       "      <th></th>\n",
       "      <th>bar</th>\n",
       "      <th>baz</th>\n",
       "      <th>foo</th>\n",
       "    </tr>\n",
       "  </thead>\n",
       "  <tbody>\n",
       "    <tr>\n",
       "      <th>a</th>\n",
       "      <td>-0.827878</td>\n",
       "      <td>-0.506007</td>\n",
       "      <td>-1.086383</td>\n",
       "    </tr>\n",
       "    <tr>\n",
       "      <th>b</th>\n",
       "      <td>-0.355413</td>\n",
       "      <td>0.569358</td>\n",
       "      <td>0.469269</td>\n",
       "    </tr>\n",
       "    <tr>\n",
       "      <th>c</th>\n",
       "      <td>0.907806</td>\n",
       "      <td>0.535506</td>\n",
       "      <td>NaN</td>\n",
       "    </tr>\n",
       "    <tr>\n",
       "      <th>d</th>\n",
       "      <td>-0.117221</td>\n",
       "      <td>0.018681</td>\n",
       "      <td>1.158767</td>\n",
       "    </tr>\n",
       "  </tbody>\n",
       "</table>\n",
       "</div>"
      ],
      "text/plain": [
       "        bar       baz       foo\n",
       "a -0.827878 -0.506007 -1.086383\n",
       "b -0.355413  0.569358  0.469269\n",
       "c  0.907806  0.535506       NaN\n",
       "d -0.117221  0.018681  1.158767"
      ]
     },
     "execution_count": 48,
     "metadata": {},
     "output_type": "execute_result"
    }
   ],
   "source": [
    "pd.DataFrame(data)   # pass a dict "
   ]
  },
  {
   "cell_type": "markdown",
   "metadata": {},
   "source": [
    "Data alignment\n",
    "=============="
   ]
  },
  {
   "cell_type": "code",
   "execution_count": 49,
   "metadata": {
    "collapsed": true
   },
   "outputs": [],
   "source": [
    "close_px = pd.read_csv('stock_data.csv', index_col=0, parse_dates=True)"
   ]
  },
  {
   "cell_type": "code",
   "execution_count": 50,
   "metadata": {
    "collapsed": false
   },
   "outputs": [
    {
     "name": "stdout",
     "output_type": "stream",
     "text": [
      ",AA,AAPL,GE,IBM,JNJ,MSFT,PEP,SPX,XOM\r\n",
      "2007-10-29 00:00:00,37.41,185.09,34.46,106.78,57.13,31.78,65.67,1540.98,85.51\r\n",
      "2007-10-30 00:00:00,36.43,187.0,34.39,106.15,56.99,32.7,65.8,1531.02,83.25\r\n",
      "2007-10-31 00:00:00,36.79,189.95,34.97,108.01,57.3,33.84,65.69,1549.38,84.03\r\n",
      "2007-11-01 00:00:00,35.22,187.44,34.27,105.72,56.85,34.07,64.51,1508.44,80.84\r\n",
      "2007-11-02 00:00:00,35.83,187.87,34.27,106.59,56.95,34.07,65.03,1509.65,80.32\r\n",
      "2007-11-05 00:00:00,35.22,186.18,34.15,105.48,56.7,33.77,64.84,1502.17,80.07\r\n",
      "2007-11-06 00:00:00,35.84,191.79,34.14,105.27,56.8,33.47,65.49,1520.27,82.56\r\n",
      "2007-11-07 00:00:00,34.76,186.3,33.2,103.69,56.19,32.65,64.46,1475.62,79.96\r\n",
      "2007-11-08 00:00:00,35.0,175.47,33.15,99.05,56.79,31.94,65.5,1474.77,82.0\r\n"
     ]
    }
   ],
   "source": [
    "!head -n 10 stock_data.csv"
   ]
  },
  {
   "cell_type": "code",
   "execution_count": 52,
   "metadata": {
    "collapsed": false
   },
   "outputs": [
    {
     "data": {
      "text/html": [
       "<div>\n",
       "<table border=\"1\" class=\"dataframe\">\n",
       "  <thead>\n",
       "    <tr style=\"text-align: right;\">\n",
       "      <th></th>\n",
       "      <th>AA</th>\n",
       "      <th>AAPL</th>\n",
       "      <th>GE</th>\n",
       "      <th>IBM</th>\n",
       "      <th>JNJ</th>\n",
       "      <th>MSFT</th>\n",
       "      <th>PEP</th>\n",
       "      <th>SPX</th>\n",
       "      <th>XOM</th>\n",
       "    </tr>\n",
       "  </thead>\n",
       "  <tbody>\n",
       "    <tr>\n",
       "      <th>2007-10-29</th>\n",
       "      <td>37.41</td>\n",
       "      <td>185.09</td>\n",
       "      <td>34.46</td>\n",
       "      <td>106.78</td>\n",
       "      <td>57.13</td>\n",
       "      <td>31.78</td>\n",
       "      <td>65.67</td>\n",
       "      <td>1540.98</td>\n",
       "      <td>85.51</td>\n",
       "    </tr>\n",
       "    <tr>\n",
       "      <th>2007-10-30</th>\n",
       "      <td>36.43</td>\n",
       "      <td>187.00</td>\n",
       "      <td>34.39</td>\n",
       "      <td>106.15</td>\n",
       "      <td>56.99</td>\n",
       "      <td>32.70</td>\n",
       "      <td>65.80</td>\n",
       "      <td>1531.02</td>\n",
       "      <td>83.25</td>\n",
       "    </tr>\n",
       "    <tr>\n",
       "      <th>2007-10-31</th>\n",
       "      <td>36.79</td>\n",
       "      <td>189.95</td>\n",
       "      <td>34.97</td>\n",
       "      <td>108.01</td>\n",
       "      <td>57.30</td>\n",
       "      <td>33.84</td>\n",
       "      <td>65.69</td>\n",
       "      <td>1549.38</td>\n",
       "      <td>84.03</td>\n",
       "    </tr>\n",
       "    <tr>\n",
       "      <th>2007-11-01</th>\n",
       "      <td>35.22</td>\n",
       "      <td>187.44</td>\n",
       "      <td>34.27</td>\n",
       "      <td>105.72</td>\n",
       "      <td>56.85</td>\n",
       "      <td>34.07</td>\n",
       "      <td>64.51</td>\n",
       "      <td>1508.44</td>\n",
       "      <td>80.84</td>\n",
       "    </tr>\n",
       "    <tr>\n",
       "      <th>2007-11-02</th>\n",
       "      <td>35.83</td>\n",
       "      <td>187.87</td>\n",
       "      <td>34.27</td>\n",
       "      <td>106.59</td>\n",
       "      <td>56.95</td>\n",
       "      <td>34.07</td>\n",
       "      <td>65.03</td>\n",
       "      <td>1509.65</td>\n",
       "      <td>80.32</td>\n",
       "    </tr>\n",
       "  </tbody>\n",
       "</table>\n",
       "</div>"
      ],
      "text/plain": [
       "               AA    AAPL     GE     IBM    JNJ   MSFT    PEP      SPX    XOM\n",
       "2007-10-29  37.41  185.09  34.46  106.78  57.13  31.78  65.67  1540.98  85.51\n",
       "2007-10-30  36.43  187.00  34.39  106.15  56.99  32.70  65.80  1531.02  83.25\n",
       "2007-10-31  36.79  189.95  34.97  108.01  57.30  33.84  65.69  1549.38  84.03\n",
       "2007-11-01  35.22  187.44  34.27  105.72  56.85  34.07  64.51  1508.44  80.84\n",
       "2007-11-02  35.83  187.87  34.27  106.59  56.95  34.07  65.03  1509.65  80.32"
      ]
     },
     "execution_count": 52,
     "metadata": {},
     "output_type": "execute_result"
    }
   ],
   "source": [
    "close_px.head()"
   ]
  },
  {
   "cell_type": "code",
   "execution_count": 57,
   "metadata": {
    "collapsed": false
   },
   "outputs": [
    {
     "name": "stdout",
     "output_type": "stream",
     "text": [
      "2011-09-19    411.63          2011-09-12    379.94      \n",
      "2011-09-20    413.45          2011-09-13    384.62      \n",
      "2011-09-21    412.14          2011-09-14    389.30      \n",
      "2011-09-22    401.82          2011-09-15    392.96      \n",
      "2011-09-23    404.30          2011-09-16    400.50      \n",
      "2011-09-26    403.17          2011-09-19    411.63      \n",
      "2011-09-27    399.26          2011-09-20    413.45      \n",
      "2011-09-28    397.01          2011-09-21    412.14      \n",
      "2011-09-29    390.57          2011-09-22    401.82      \n",
      "2011-09-30    381.32          2011-09-23    404.30      \n",
      "2011-10-03    374.60          2011-09-26    403.17      \n",
      "2011-10-04    372.50          2011-09-27    399.26      \n",
      "2011-10-05    378.25          2011-09-28    397.01      \n",
      "2011-10-06    377.37          2011-09-29    390.57      \n",
      "2011-10-07    369.80          2011-09-30    381.32      \n",
      "2011-10-10    388.81          Name: AAPL, dtype: float64\n",
      "2011-10-11    400.29                                    \n",
      "2011-10-12    402.19                                    \n",
      "2011-10-13    408.43                                    \n",
      "2011-10-14    422.00                                    \n",
      "Name: AAPL, dtype: float64                              \n"
     ]
    }
   ],
   "source": [
    "s1 = close_px['AAPL'][-20:]      # the last 20 rows\n",
    "s2 = close_px['AAPL'][-25:-10]   # the last 25 - last 10 = 15 rows.\n",
    "side_by_side(s1, s2)"
   ]
  },
  {
   "cell_type": "code",
   "execution_count": 58,
   "metadata": {
    "collapsed": false
   },
   "outputs": [
    {
     "data": {
      "text/plain": [
       "2011-09-12       NaN\n",
       "2011-09-13       NaN\n",
       "2011-09-14       NaN\n",
       "2011-09-15       NaN\n",
       "2011-09-16       NaN\n",
       "2011-09-19    823.26\n",
       "2011-09-20    826.90\n",
       "2011-09-21    824.28\n",
       "2011-09-22    803.64\n",
       "2011-09-23    808.60\n",
       "2011-09-26    806.34\n",
       "2011-09-27    798.52\n",
       "2011-09-28    794.02\n",
       "2011-09-29    781.14\n",
       "2011-09-30    762.64\n",
       "2011-10-03       NaN\n",
       "2011-10-04       NaN\n",
       "2011-10-05       NaN\n",
       "2011-10-06       NaN\n",
       "2011-10-07       NaN\n",
       "2011-10-10       NaN\n",
       "2011-10-11       NaN\n",
       "2011-10-12       NaN\n",
       "2011-10-13       NaN\n",
       "2011-10-14       NaN\n",
       "Name: AAPL, dtype: float64"
      ]
     },
     "execution_count": 58,
     "metadata": {},
     "output_type": "execute_result"
    }
   ],
   "source": [
    "s1 + s2"
   ]
  },
  {
   "cell_type": "code",
   "execution_count": 59,
   "metadata": {
    "collapsed": false
   },
   "outputs": [
    {
     "data": {
      "text/plain": [
       "2011-09-12    379.94\n",
       "2011-09-13    384.62\n",
       "2011-09-14    389.30\n",
       "2011-09-15    392.96\n",
       "2011-09-16    400.50\n",
       "2011-09-19    823.26\n",
       "2011-09-20    826.90\n",
       "2011-09-21    824.28\n",
       "2011-09-22    803.64\n",
       "2011-09-23    808.60\n",
       "2011-09-26    806.34\n",
       "2011-09-27    798.52\n",
       "2011-09-28    794.02\n",
       "2011-09-29    781.14\n",
       "2011-09-30    762.64\n",
       "2011-10-03    374.60\n",
       "2011-10-04    372.50\n",
       "2011-10-05    378.25\n",
       "2011-10-06    377.37\n",
       "2011-10-07    369.80\n",
       "2011-10-10    388.81\n",
       "2011-10-11    400.29\n",
       "2011-10-12    402.19\n",
       "2011-10-13    408.43\n",
       "2011-10-14    422.00\n",
       "Name: AAPL, dtype: float64"
      ]
     },
     "execution_count": 59,
     "metadata": {},
     "output_type": "execute_result"
    }
   ],
   "source": [
    "s1.add(s2, fill_value=0)"
   ]
  },
  {
   "cell_type": "code",
   "execution_count": 60,
   "metadata": {
    "collapsed": false
   },
   "outputs": [
    {
     "data": {
      "text/plain": [
       "2011-09-19    823.26\n",
       "2011-09-20    826.90\n",
       "2011-09-21    824.28\n",
       "2011-09-22    803.64\n",
       "2011-09-23    808.60\n",
       "2011-09-26    806.34\n",
       "2011-09-27    798.52\n",
       "2011-09-28    794.02\n",
       "2011-09-29    781.14\n",
       "2011-09-30    762.64\n",
       "Name: AAPL, dtype: float64"
      ]
     },
     "execution_count": 60,
     "metadata": {},
     "output_type": "execute_result"
    }
   ],
   "source": [
    "(s1 + s2).dropna()"
   ]
  },
  {
   "cell_type": "code",
   "execution_count": 61,
   "metadata": {
    "collapsed": false
   },
   "outputs": [
    {
     "data": {
      "text/html": [
       "<div>\n",
       "<table border=\"1\" class=\"dataframe\">\n",
       "  <thead>\n",
       "    <tr style=\"text-align: right;\">\n",
       "      <th></th>\n",
       "      <th>AA</th>\n",
       "      <th>AAPL</th>\n",
       "      <th>GE</th>\n",
       "    </tr>\n",
       "  </thead>\n",
       "  <tbody>\n",
       "    <tr>\n",
       "      <th>2011-10-03</th>\n",
       "      <td>8.90</td>\n",
       "      <td>374.60</td>\n",
       "      <td>14.69</td>\n",
       "    </tr>\n",
       "    <tr>\n",
       "      <th>2011-10-04</th>\n",
       "      <td>9.12</td>\n",
       "      <td>372.50</td>\n",
       "      <td>14.86</td>\n",
       "    </tr>\n",
       "    <tr>\n",
       "      <th>2011-10-05</th>\n",
       "      <td>9.37</td>\n",
       "      <td>378.25</td>\n",
       "      <td>15.27</td>\n",
       "    </tr>\n",
       "    <tr>\n",
       "      <th>2011-10-06</th>\n",
       "      <td>9.88</td>\n",
       "      <td>377.37</td>\n",
       "      <td>15.53</td>\n",
       "    </tr>\n",
       "    <tr>\n",
       "      <th>2011-10-07</th>\n",
       "      <td>9.71</td>\n",
       "      <td>369.80</td>\n",
       "      <td>15.50</td>\n",
       "    </tr>\n",
       "    <tr>\n",
       "      <th>2011-10-10</th>\n",
       "      <td>10.09</td>\n",
       "      <td>388.81</td>\n",
       "      <td>16.14</td>\n",
       "    </tr>\n",
       "    <tr>\n",
       "      <th>2011-10-11</th>\n",
       "      <td>10.30</td>\n",
       "      <td>400.29</td>\n",
       "      <td>16.14</td>\n",
       "    </tr>\n",
       "    <tr>\n",
       "      <th>2011-10-12</th>\n",
       "      <td>10.05</td>\n",
       "      <td>402.19</td>\n",
       "      <td>16.40</td>\n",
       "    </tr>\n",
       "    <tr>\n",
       "      <th>2011-10-13</th>\n",
       "      <td>10.10</td>\n",
       "      <td>408.43</td>\n",
       "      <td>16.22</td>\n",
       "    </tr>\n",
       "    <tr>\n",
       "      <th>2011-10-14</th>\n",
       "      <td>10.26</td>\n",
       "      <td>422.00</td>\n",
       "      <td>16.60</td>\n",
       "    </tr>\n",
       "  </tbody>\n",
       "</table>\n",
       "</div>"
      ],
      "text/plain": [
       "               AA    AAPL     GE\n",
       "2011-10-03   8.90  374.60  14.69\n",
       "2011-10-04   9.12  372.50  14.86\n",
       "2011-10-05   9.37  378.25  15.27\n",
       "2011-10-06   9.88  377.37  15.53\n",
       "2011-10-07   9.71  369.80  15.50\n",
       "2011-10-10  10.09  388.81  16.14\n",
       "2011-10-11  10.30  400.29  16.14\n",
       "2011-10-12  10.05  402.19  16.40\n",
       "2011-10-13  10.10  408.43  16.22\n",
       "2011-10-14  10.26  422.00  16.60"
      ]
     },
     "execution_count": 61,
     "metadata": {},
     "output_type": "execute_result"
    }
   ],
   "source": [
    "df = close_px.ix[-10:, :3]\n",
    "df"
   ]
  },
  {
   "cell_type": "code",
   "execution_count": 62,
   "metadata": {
    "collapsed": false
   },
   "outputs": [
    {
     "name": "stdout",
     "output_type": "stream",
     "text": [
      "2011-09-12       NaN          2011-09-12    379.94      \n",
      "2011-09-13       NaN          2011-09-13    384.62      \n",
      "2011-09-14       NaN          2011-09-14    389.30      \n",
      "2011-09-15       NaN          2011-09-15    392.96      \n",
      "2011-09-16       NaN          2011-09-16    400.50      \n",
      "2011-09-19    411.63          2011-09-19    411.63      \n",
      "2011-09-20    413.45          2011-09-20    413.45      \n",
      "2011-09-21    412.14          2011-09-21    412.14      \n",
      "2011-09-22    401.82          2011-09-22    401.82      \n",
      "2011-09-23    404.30          2011-09-23    404.30      \n",
      "2011-09-26    403.17          2011-09-26    403.17      \n",
      "2011-09-27    399.26          2011-09-27    399.26      \n",
      "2011-09-28    397.01          2011-09-28    397.01      \n",
      "2011-09-29    390.57          2011-09-29    390.57      \n",
      "2011-09-30    381.32          2011-09-30    381.32      \n",
      "Name: AAPL, dtype: float64    Name: AAPL, dtype: float64\n"
     ]
    }
   ],
   "source": [
    "side_by_side(s1.reindex(s2.index), s2)   # align indexes of s1 and s2. Print 2 objects alongside each other."
   ]
  },
  {
   "cell_type": "code",
   "execution_count": 63,
   "metadata": {
    "collapsed": false
   },
   "outputs": [
    {
     "name": "stdout",
     "output_type": "stream",
     "text": [
      "2011-09-12       NaN          2011-09-12    379.94      \n",
      "2011-09-13       NaN          2011-09-13    384.62      \n",
      "2011-09-14       NaN          2011-09-14    389.30      \n",
      "2011-09-15       NaN          2011-09-15    392.96      \n",
      "2011-09-16       NaN          2011-09-16    400.50      \n",
      "2011-09-19    411.63          2011-09-19    411.63      \n",
      "2011-09-20    413.45          2011-09-20    413.45      \n",
      "2011-09-21    412.14          2011-09-21    412.14      \n",
      "2011-09-22    401.82          2011-09-22    401.82      \n",
      "2011-09-23    404.30          2011-09-23    404.30      \n",
      "2011-09-26    403.17          2011-09-26    403.17      \n",
      "2011-09-27    399.26          2011-09-27    399.26      \n",
      "2011-09-28    397.01          2011-09-28    397.01      \n",
      "2011-09-29    390.57          2011-09-29    390.57      \n",
      "2011-09-30    381.32          2011-09-30    381.32      \n",
      "Name: AAPL, dtype: float64    Name: AAPL, dtype: float64\n"
     ]
    }
   ],
   "source": [
    "side_by_side(s1.ix[s2.index], s2)   # same as above, supported in newer version of 0.12 ipython."
   ]
  },
  {
   "cell_type": "code",
   "execution_count": 64,
   "metadata": {
    "collapsed": false
   },
   "outputs": [
    {
     "name": "stdout",
     "output_type": "stream",
     "text": [
      "2011-09-19    411.63          2011-09-19    411.63      \n",
      "2011-09-20    413.45          2011-09-20    413.45      \n",
      "2011-09-21    412.14          2011-09-21    412.14      \n",
      "2011-09-22    401.82          2011-09-22    401.82      \n",
      "2011-09-23    404.30          2011-09-23    404.30      \n",
      "2011-09-26    403.17          2011-09-26    403.17      \n",
      "2011-09-27    399.26          2011-09-27    399.26      \n",
      "2011-09-28    397.01          2011-09-28    397.01      \n",
      "2011-09-29    390.57          2011-09-29    390.57      \n",
      "2011-09-30    381.32          2011-09-30    381.32      \n",
      "Name: AAPL, dtype: float64    Name: AAPL, dtype: float64\n"
     ]
    }
   ],
   "source": [
    "b, c  = s1.align(s2, join='inner')\n",
    "side_by_side(b, c)"
   ]
  },
  {
   "cell_type": "code",
   "execution_count": 65,
   "metadata": {
    "collapsed": false
   },
   "outputs": [
    {
     "name": "stdout",
     "output_type": "stream",
     "text": [
      "2011-09-12       NaN          2011-09-12    379.94      \n",
      "2011-09-13       NaN          2011-09-13    384.62      \n",
      "2011-09-14       NaN          2011-09-14    389.30      \n",
      "2011-09-15       NaN          2011-09-15    392.96      \n",
      "2011-09-16       NaN          2011-09-16    400.50      \n",
      "2011-09-19    411.63          2011-09-19    411.63      \n",
      "2011-09-20    413.45          2011-09-20    413.45      \n",
      "2011-09-21    412.14          2011-09-21    412.14      \n",
      "2011-09-22    401.82          2011-09-22    401.82      \n",
      "2011-09-23    404.30          2011-09-23    404.30      \n",
      "2011-09-26    403.17          2011-09-26    403.17      \n",
      "2011-09-27    399.26          2011-09-27    399.26      \n",
      "2011-09-28    397.01          2011-09-28    397.01      \n",
      "2011-09-29    390.57          2011-09-29    390.57      \n",
      "2011-09-30    381.32          2011-09-30    381.32      \n",
      "2011-10-03    374.60          2011-10-03       NaN      \n",
      "2011-10-04    372.50          2011-10-04       NaN      \n",
      "2011-10-05    378.25          2011-10-05       NaN      \n",
      "2011-10-06    377.37          2011-10-06       NaN      \n",
      "2011-10-07    369.80          2011-10-07       NaN      \n",
      "2011-10-10    388.81          2011-10-10       NaN      \n",
      "2011-10-11    400.29          2011-10-11       NaN      \n",
      "2011-10-12    402.19          2011-10-12       NaN      \n",
      "2011-10-13    408.43          2011-10-13       NaN      \n",
      "2011-10-14    422.00          2011-10-14       NaN      \n",
      "Name: AAPL, dtype: float64    Name: AAPL, dtype: float64\n"
     ]
    }
   ],
   "source": [
    "b, c  = s1.align(s2, join='outer')\n",
    "side_by_side(b, c)"
   ]
  },
  {
   "cell_type": "code",
   "execution_count": 66,
   "metadata": {
    "collapsed": false
   },
   "outputs": [
    {
     "name": "stdout",
     "output_type": "stream",
     "text": [
      "2011-09-12       NaN          2011-09-12    379.94      \n",
      "2011-09-13       NaN          2011-09-13    384.62      \n",
      "2011-09-14       NaN          2011-09-14    389.30      \n",
      "2011-09-15       NaN          2011-09-15    392.96      \n",
      "2011-09-16       NaN          2011-09-16    400.50      \n",
      "2011-09-19    411.63          2011-09-19    411.63      \n",
      "2011-09-20    413.45          2011-09-20    413.45      \n",
      "2011-09-21    412.14          2011-09-21    412.14      \n",
      "2011-09-22    401.82          2011-09-22    401.82      \n",
      "2011-09-23    404.30          2011-09-23    404.30      \n",
      "2011-09-26    403.17          2011-09-26    403.17      \n",
      "2011-09-27    399.26          2011-09-27    399.26      \n",
      "2011-09-28    397.01          2011-09-28    397.01      \n",
      "2011-09-29    390.57          2011-09-29    390.57      \n",
      "2011-09-30    381.32          2011-09-30    381.32      \n",
      "Name: AAPL, dtype: float64    Name: AAPL, dtype: float64\n"
     ]
    }
   ],
   "source": [
    "b, c  = s1.align(s2, join='right')\n",
    "side_by_side(b, c)"
   ]
  },
  {
   "cell_type": "code",
   "execution_count": 67,
   "metadata": {
    "collapsed": false
   },
   "outputs": [
    {
     "data": {
      "text/html": [
       "<div>\n",
       "<table border=\"1\" class=\"dataframe\">\n",
       "  <thead>\n",
       "    <tr style=\"text-align: right;\">\n",
       "      <th></th>\n",
       "      <th>AAPL</th>\n",
       "      <th>IBM</th>\n",
       "      <th>MSFT</th>\n",
       "    </tr>\n",
       "  </thead>\n",
       "  <tbody>\n",
       "    <tr>\n",
       "      <th>2011-10-03</th>\n",
       "      <td>374.60</td>\n",
       "      <td>173.29</td>\n",
       "      <td>24.53</td>\n",
       "    </tr>\n",
       "    <tr>\n",
       "      <th>2011-10-04</th>\n",
       "      <td>372.50</td>\n",
       "      <td>174.74</td>\n",
       "      <td>25.34</td>\n",
       "    </tr>\n",
       "    <tr>\n",
       "      <th>2011-10-05</th>\n",
       "      <td>378.25</td>\n",
       "      <td>176.85</td>\n",
       "      <td>25.89</td>\n",
       "    </tr>\n",
       "    <tr>\n",
       "      <th>2011-10-06</th>\n",
       "      <td>377.37</td>\n",
       "      <td>181.69</td>\n",
       "      <td>26.34</td>\n",
       "    </tr>\n",
       "    <tr>\n",
       "      <th>2011-10-07</th>\n",
       "      <td>369.80</td>\n",
       "      <td>182.39</td>\n",
       "      <td>26.25</td>\n",
       "    </tr>\n",
       "    <tr>\n",
       "      <th>2011-10-10</th>\n",
       "      <td>388.81</td>\n",
       "      <td>186.62</td>\n",
       "      <td>26.94</td>\n",
       "    </tr>\n",
       "    <tr>\n",
       "      <th>2011-10-11</th>\n",
       "      <td>400.29</td>\n",
       "      <td>185.00</td>\n",
       "      <td>27.00</td>\n",
       "    </tr>\n",
       "    <tr>\n",
       "      <th>2011-10-12</th>\n",
       "      <td>402.19</td>\n",
       "      <td>186.12</td>\n",
       "      <td>26.96</td>\n",
       "    </tr>\n",
       "    <tr>\n",
       "      <th>2011-10-13</th>\n",
       "      <td>408.43</td>\n",
       "      <td>186.82</td>\n",
       "      <td>27.18</td>\n",
       "    </tr>\n",
       "    <tr>\n",
       "      <th>2011-10-14</th>\n",
       "      <td>422.00</td>\n",
       "      <td>190.53</td>\n",
       "      <td>27.27</td>\n",
       "    </tr>\n",
       "  </tbody>\n",
       "</table>\n",
       "</div>"
      ],
      "text/plain": [
       "              AAPL     IBM   MSFT\n",
       "2011-10-03  374.60  173.29  24.53\n",
       "2011-10-04  372.50  174.74  25.34\n",
       "2011-10-05  378.25  176.85  25.89\n",
       "2011-10-06  377.37  181.69  26.34\n",
       "2011-10-07  369.80  182.39  26.25\n",
       "2011-10-10  388.81  186.62  26.94\n",
       "2011-10-11  400.29  185.00  27.00\n",
       "2011-10-12  402.19  186.12  26.96\n",
       "2011-10-13  408.43  186.82  27.18\n",
       "2011-10-14  422.00  190.53  27.27"
      ]
     },
     "execution_count": 67,
     "metadata": {},
     "output_type": "execute_result"
    }
   ],
   "source": [
    "df = close_px.ix[-10:, ['AAPL', 'IBM', 'MSFT']]\n",
    "df"
   ]
  },
  {
   "cell_type": "code",
   "execution_count": 68,
   "metadata": {
    "collapsed": false
   },
   "outputs": [
    {
     "name": "stdout",
     "output_type": "stream",
     "text": [
      "              AAPL     IBM   MSFT                   IBM   MSFT\n",
      "2011-10-03  374.60  173.29  24.53    2011-10-03  173.29  24.53\n",
      "2011-10-04  372.50  174.74  25.34    2011-10-05  176.85  25.89\n",
      "2011-10-05  378.25  176.85  25.89    2011-10-07  182.39  26.25\n",
      "2011-10-06  377.37  181.69  26.34    2011-10-11  185.00  27.00\n",
      "2011-10-07  369.80  182.39  26.25    2011-10-13  186.82  27.18\n",
      "2011-10-10  388.81  186.62  26.94                             \n",
      "2011-10-11  400.29  185.00  27.00                             \n",
      "2011-10-12  402.19  186.12  26.96                             \n",
      "2011-10-13  408.43  186.82  27.18                             \n",
      "2011-10-14  422.00  190.53  27.27                             \n"
     ]
    }
   ],
   "source": [
    "df2 = df.ix[::2, ['IBM', 'MSFT']]\n",
    "side_by_side(df, df2)"
   ]
  },
  {
   "cell_type": "code",
   "execution_count": 69,
   "metadata": {
    "collapsed": false
   },
   "outputs": [
    {
     "data": {
      "text/html": [
       "<div>\n",
       "<table border=\"1\" class=\"dataframe\">\n",
       "  <thead>\n",
       "    <tr style=\"text-align: right;\">\n",
       "      <th></th>\n",
       "      <th>AAPL</th>\n",
       "      <th>IBM</th>\n",
       "      <th>MSFT</th>\n",
       "    </tr>\n",
       "  </thead>\n",
       "  <tbody>\n",
       "    <tr>\n",
       "      <th>2011-10-03</th>\n",
       "      <td>NaN</td>\n",
       "      <td>346.58</td>\n",
       "      <td>49.06</td>\n",
       "    </tr>\n",
       "    <tr>\n",
       "      <th>2011-10-04</th>\n",
       "      <td>NaN</td>\n",
       "      <td>NaN</td>\n",
       "      <td>NaN</td>\n",
       "    </tr>\n",
       "    <tr>\n",
       "      <th>2011-10-05</th>\n",
       "      <td>NaN</td>\n",
       "      <td>353.70</td>\n",
       "      <td>51.78</td>\n",
       "    </tr>\n",
       "    <tr>\n",
       "      <th>2011-10-06</th>\n",
       "      <td>NaN</td>\n",
       "      <td>NaN</td>\n",
       "      <td>NaN</td>\n",
       "    </tr>\n",
       "    <tr>\n",
       "      <th>2011-10-07</th>\n",
       "      <td>NaN</td>\n",
       "      <td>364.78</td>\n",
       "      <td>52.50</td>\n",
       "    </tr>\n",
       "    <tr>\n",
       "      <th>2011-10-10</th>\n",
       "      <td>NaN</td>\n",
       "      <td>NaN</td>\n",
       "      <td>NaN</td>\n",
       "    </tr>\n",
       "    <tr>\n",
       "      <th>2011-10-11</th>\n",
       "      <td>NaN</td>\n",
       "      <td>370.00</td>\n",
       "      <td>54.00</td>\n",
       "    </tr>\n",
       "    <tr>\n",
       "      <th>2011-10-12</th>\n",
       "      <td>NaN</td>\n",
       "      <td>NaN</td>\n",
       "      <td>NaN</td>\n",
       "    </tr>\n",
       "    <tr>\n",
       "      <th>2011-10-13</th>\n",
       "      <td>NaN</td>\n",
       "      <td>373.64</td>\n",
       "      <td>54.36</td>\n",
       "    </tr>\n",
       "    <tr>\n",
       "      <th>2011-10-14</th>\n",
       "      <td>NaN</td>\n",
       "      <td>NaN</td>\n",
       "      <td>NaN</td>\n",
       "    </tr>\n",
       "  </tbody>\n",
       "</table>\n",
       "</div>"
      ],
      "text/plain": [
       "            AAPL     IBM   MSFT\n",
       "2011-10-03   NaN  346.58  49.06\n",
       "2011-10-04   NaN     NaN    NaN\n",
       "2011-10-05   NaN  353.70  51.78\n",
       "2011-10-06   NaN     NaN    NaN\n",
       "2011-10-07   NaN  364.78  52.50\n",
       "2011-10-10   NaN     NaN    NaN\n",
       "2011-10-11   NaN  370.00  54.00\n",
       "2011-10-12   NaN     NaN    NaN\n",
       "2011-10-13   NaN  373.64  54.36\n",
       "2011-10-14   NaN     NaN    NaN"
      ]
     },
     "execution_count": 69,
     "metadata": {},
     "output_type": "execute_result"
    }
   ],
   "source": [
    "df + df2"
   ]
  },
  {
   "cell_type": "code",
   "execution_count": 70,
   "metadata": {
    "collapsed": false
   },
   "outputs": [
    {
     "name": "stdout",
     "output_type": "stream",
     "text": [
      "               IBM   MSFT                   IBM   MSFT\n",
      "2011-10-03  173.29  24.53    2011-10-03  173.29  24.53\n",
      "2011-10-05  176.85  25.89    2011-10-05  176.85  25.89\n",
      "2011-10-07  182.39  26.25    2011-10-07  182.39  26.25\n",
      "2011-10-11  185.00  27.00    2011-10-11  185.00  27.00\n",
      "2011-10-13  186.82  27.18    2011-10-13  186.82  27.18\n"
     ]
    }
   ],
   "source": [
    "b, c = df.align(df2, join='inner')\n",
    "side_by_side(b, c) "
   ]
  },
  {
   "cell_type": "markdown",
   "metadata": {},
   "source": [
    "Transposing: no copy if all columns are same type\n",
    "-------------------------------------------------"
   ]
  },
  {
   "cell_type": "code",
   "execution_count": 71,
   "metadata": {
    "collapsed": false
   },
   "outputs": [
    {
     "data": {
      "text/html": [
       "<div>\n",
       "<table border=\"1\" class=\"dataframe\">\n",
       "  <thead>\n",
       "    <tr style=\"text-align: right;\">\n",
       "      <th></th>\n",
       "      <th>2011-10-03 00:00:00</th>\n",
       "      <th>2011-10-04 00:00:00</th>\n",
       "      <th>2011-10-05 00:00:00</th>\n",
       "      <th>2011-10-06 00:00:00</th>\n",
       "      <th>2011-10-07 00:00:00</th>\n",
       "    </tr>\n",
       "  </thead>\n",
       "  <tbody>\n",
       "    <tr>\n",
       "      <th>AAPL</th>\n",
       "      <td>374.60</td>\n",
       "      <td>372.50</td>\n",
       "      <td>378.25</td>\n",
       "      <td>377.37</td>\n",
       "      <td>369.80</td>\n",
       "    </tr>\n",
       "    <tr>\n",
       "      <th>IBM</th>\n",
       "      <td>173.29</td>\n",
       "      <td>174.74</td>\n",
       "      <td>176.85</td>\n",
       "      <td>181.69</td>\n",
       "      <td>182.39</td>\n",
       "    </tr>\n",
       "    <tr>\n",
       "      <th>MSFT</th>\n",
       "      <td>24.53</td>\n",
       "      <td>25.34</td>\n",
       "      <td>25.89</td>\n",
       "      <td>26.34</td>\n",
       "      <td>26.25</td>\n",
       "    </tr>\n",
       "  </tbody>\n",
       "</table>\n",
       "</div>"
      ],
      "text/plain": [
       "      2011-10-03  2011-10-04  2011-10-05  2011-10-06  2011-10-07\n",
       "AAPL      374.60      372.50      378.25      377.37      369.80\n",
       "IBM       173.29      174.74      176.85      181.69      182.39\n",
       "MSFT       24.53       25.34       25.89       26.34       26.25"
      ]
     },
     "execution_count": 71,
     "metadata": {},
     "output_type": "execute_result"
    }
   ],
   "source": [
    "df[:5].T"
   ]
  },
  {
   "cell_type": "markdown",
   "metadata": {},
   "source": [
    "Columns can be any type\n",
    "-----------------------"
   ]
  },
  {
   "cell_type": "code",
   "execution_count": 72,
   "metadata": {
    "collapsed": false
   },
   "outputs": [
    {
     "data": {
      "text/html": [
       "<div>\n",
       "<table border=\"1\" class=\"dataframe\">\n",
       "  <thead>\n",
       "    <tr style=\"text-align: right;\">\n",
       "      <th></th>\n",
       "      <th>floats</th>\n",
       "      <th>ints</th>\n",
       "      <th>strings</th>\n",
       "      <th>bools</th>\n",
       "      <th>objects</th>\n",
       "    </tr>\n",
       "  </thead>\n",
       "  <tbody>\n",
       "    <tr>\n",
       "      <th>0</th>\n",
       "      <td>0.190906</td>\n",
       "      <td>0</td>\n",
       "      <td>foo</td>\n",
       "      <td>True</td>\n",
       "      <td>2000-01-01</td>\n",
       "    </tr>\n",
       "    <tr>\n",
       "      <th>1</th>\n",
       "      <td>-0.945461</td>\n",
       "      <td>1</td>\n",
       "      <td>bar</td>\n",
       "      <td>False</td>\n",
       "      <td>2000-01-02</td>\n",
       "    </tr>\n",
       "    <tr>\n",
       "      <th>2</th>\n",
       "      <td>-0.706659</td>\n",
       "      <td>2</td>\n",
       "      <td>foo</td>\n",
       "      <td>False</td>\n",
       "      <td>2000-01-03</td>\n",
       "    </tr>\n",
       "    <tr>\n",
       "      <th>3</th>\n",
       "      <td>0.068337</td>\n",
       "      <td>3</td>\n",
       "      <td>bar</td>\n",
       "      <td>True</td>\n",
       "      <td>2000-01-04</td>\n",
       "    </tr>\n",
       "    <tr>\n",
       "      <th>4</th>\n",
       "      <td>0.734483</td>\n",
       "      <td>4</td>\n",
       "      <td>foo</td>\n",
       "      <td>True</td>\n",
       "      <td>2000-01-05</td>\n",
       "    </tr>\n",
       "    <tr>\n",
       "      <th>5</th>\n",
       "      <td>-1.416421</td>\n",
       "      <td>5</td>\n",
       "      <td>bar</td>\n",
       "      <td>False</td>\n",
       "      <td>2000-01-06</td>\n",
       "    </tr>\n",
       "    <tr>\n",
       "      <th>6</th>\n",
       "      <td>-1.280230</td>\n",
       "      <td>6</td>\n",
       "      <td>foo</td>\n",
       "      <td>False</td>\n",
       "      <td>2000-01-07</td>\n",
       "    </tr>\n",
       "    <tr>\n",
       "      <th>7</th>\n",
       "      <td>0.097477</td>\n",
       "      <td>7</td>\n",
       "      <td>bar</td>\n",
       "      <td>True</td>\n",
       "      <td>2000-01-08</td>\n",
       "    </tr>\n",
       "    <tr>\n",
       "      <th>8</th>\n",
       "      <td>1.041905</td>\n",
       "      <td>8</td>\n",
       "      <td>foo</td>\n",
       "      <td>True</td>\n",
       "      <td>2000-01-09</td>\n",
       "    </tr>\n",
       "    <tr>\n",
       "      <th>9</th>\n",
       "      <td>0.164735</td>\n",
       "      <td>9</td>\n",
       "      <td>bar</td>\n",
       "      <td>True</td>\n",
       "      <td>2000-01-10</td>\n",
       "    </tr>\n",
       "  </tbody>\n",
       "</table>\n",
       "</div>"
      ],
      "text/plain": [
       "     floats  ints strings  bools    objects\n",
       "0  0.190906     0     foo   True 2000-01-01\n",
       "1 -0.945461     1     bar  False 2000-01-02\n",
       "2 -0.706659     2     foo  False 2000-01-03\n",
       "3  0.068337     3     bar   True 2000-01-04\n",
       "4  0.734483     4     foo   True 2000-01-05\n",
       "5 -1.416421     5     bar  False 2000-01-06\n",
       "6 -1.280230     6     foo  False 2000-01-07\n",
       "7  0.097477     7     bar   True 2000-01-08\n",
       "8  1.041905     8     foo   True 2000-01-09\n",
       "9  0.164735     9     bar   True 2000-01-10"
      ]
     },
     "execution_count": 72,
     "metadata": {},
     "output_type": "execute_result"
    }
   ],
   "source": [
    "n = 10\n",
    "foo = pd.DataFrame(index=range(n))\n",
    "foo['floats'] = np.random.randn(n)\n",
    "foo['ints'] = np.arange(n)\n",
    "foo['strings'] = ['foo', 'bar'] * (n / 2)\n",
    "foo['bools'] = foo['floats'] > 0\n",
    "foo['objects'] = pd.date_range('1/1/2000', periods=n)\n",
    "foo"
   ]
  },
  {
   "cell_type": "code",
   "execution_count": 73,
   "metadata": {
    "collapsed": false
   },
   "outputs": [
    {
     "data": {
      "text/plain": [
       "floats            float64\n",
       "ints                int64\n",
       "strings            object\n",
       "bools                bool\n",
       "objects    datetime64[ns]\n",
       "dtype: object"
      ]
     },
     "execution_count": 73,
     "metadata": {},
     "output_type": "execute_result"
    }
   ],
   "source": [
    "foo.dtypes"
   ]
  },
  {
   "cell_type": "markdown",
   "metadata": {},
   "source": [
    "N.B. transposing is not roundtrippable in this case (column-oriented data structure)"
   ]
  },
  {
   "cell_type": "code",
   "execution_count": 76,
   "metadata": {
    "collapsed": false
   },
   "outputs": [
    {
     "data": {
      "text/html": [
       "<div>\n",
       "<table border=\"1\" class=\"dataframe\">\n",
       "  <thead>\n",
       "    <tr style=\"text-align: right;\">\n",
       "      <th></th>\n",
       "      <th>floats</th>\n",
       "      <th>ints</th>\n",
       "      <th>strings</th>\n",
       "      <th>bools</th>\n",
       "      <th>objects</th>\n",
       "    </tr>\n",
       "  </thead>\n",
       "  <tbody>\n",
       "    <tr>\n",
       "      <th>0</th>\n",
       "      <td>0.190906</td>\n",
       "      <td>0</td>\n",
       "      <td>foo</td>\n",
       "      <td>True</td>\n",
       "      <td>2000-01-01 00:00:00</td>\n",
       "    </tr>\n",
       "    <tr>\n",
       "      <th>1</th>\n",
       "      <td>-0.945461</td>\n",
       "      <td>1</td>\n",
       "      <td>bar</td>\n",
       "      <td>False</td>\n",
       "      <td>2000-01-02 00:00:00</td>\n",
       "    </tr>\n",
       "    <tr>\n",
       "      <th>2</th>\n",
       "      <td>-0.706659</td>\n",
       "      <td>2</td>\n",
       "      <td>foo</td>\n",
       "      <td>False</td>\n",
       "      <td>2000-01-03 00:00:00</td>\n",
       "    </tr>\n",
       "    <tr>\n",
       "      <th>3</th>\n",
       "      <td>0.0683365</td>\n",
       "      <td>3</td>\n",
       "      <td>bar</td>\n",
       "      <td>True</td>\n",
       "      <td>2000-01-04 00:00:00</td>\n",
       "    </tr>\n",
       "    <tr>\n",
       "      <th>4</th>\n",
       "      <td>0.734483</td>\n",
       "      <td>4</td>\n",
       "      <td>foo</td>\n",
       "      <td>True</td>\n",
       "      <td>2000-01-05 00:00:00</td>\n",
       "    </tr>\n",
       "    <tr>\n",
       "      <th>5</th>\n",
       "      <td>-1.41642</td>\n",
       "      <td>5</td>\n",
       "      <td>bar</td>\n",
       "      <td>False</td>\n",
       "      <td>2000-01-06 00:00:00</td>\n",
       "    </tr>\n",
       "    <tr>\n",
       "      <th>6</th>\n",
       "      <td>-1.28023</td>\n",
       "      <td>6</td>\n",
       "      <td>foo</td>\n",
       "      <td>False</td>\n",
       "      <td>2000-01-07 00:00:00</td>\n",
       "    </tr>\n",
       "    <tr>\n",
       "      <th>7</th>\n",
       "      <td>0.0974773</td>\n",
       "      <td>7</td>\n",
       "      <td>bar</td>\n",
       "      <td>True</td>\n",
       "      <td>2000-01-08 00:00:00</td>\n",
       "    </tr>\n",
       "    <tr>\n",
       "      <th>8</th>\n",
       "      <td>1.04191</td>\n",
       "      <td>8</td>\n",
       "      <td>foo</td>\n",
       "      <td>True</td>\n",
       "      <td>2000-01-09 00:00:00</td>\n",
       "    </tr>\n",
       "    <tr>\n",
       "      <th>9</th>\n",
       "      <td>0.164735</td>\n",
       "      <td>9</td>\n",
       "      <td>bar</td>\n",
       "      <td>True</td>\n",
       "      <td>2000-01-10 00:00:00</td>\n",
       "    </tr>\n",
       "  </tbody>\n",
       "</table>\n",
       "</div>"
      ],
      "text/plain": [
       "      floats ints strings  bools              objects\n",
       "0   0.190906    0     foo   True  2000-01-01 00:00:00\n",
       "1  -0.945461    1     bar  False  2000-01-02 00:00:00\n",
       "2  -0.706659    2     foo  False  2000-01-03 00:00:00\n",
       "3  0.0683365    3     bar   True  2000-01-04 00:00:00\n",
       "4   0.734483    4     foo   True  2000-01-05 00:00:00\n",
       "5   -1.41642    5     bar  False  2000-01-06 00:00:00\n",
       "6   -1.28023    6     foo  False  2000-01-07 00:00:00\n",
       "7  0.0974773    7     bar   True  2000-01-08 00:00:00\n",
       "8    1.04191    8     foo   True  2000-01-09 00:00:00\n",
       "9   0.164735    9     bar   True  2000-01-10 00:00:00"
      ]
     },
     "execution_count": 76,
     "metadata": {},
     "output_type": "execute_result"
    }
   ],
   "source": [
    "foo.T.T"
   ]
  },
  {
   "cell_type": "code",
   "execution_count": 77,
   "metadata": {
    "collapsed": false
   },
   "outputs": [
    {
     "data": {
      "text/plain": [
       "floats     object\n",
       "ints       object\n",
       "strings    object\n",
       "bools      object\n",
       "objects    object\n",
       "dtype: object"
      ]
     },
     "execution_count": 77,
     "metadata": {},
     "output_type": "execute_result"
    }
   ],
   "source": [
    "foo.T.T.dtypes"
   ]
  },
  {
   "cell_type": "markdown",
   "metadata": {},
   "source": [
    "Function application\n",
    "====================\n",
    "\n",
    "You can apply arbitrary functions to the rows or columns of a DataFrame"
   ]
  },
  {
   "cell_type": "code",
   "execution_count": 78,
   "metadata": {
    "collapsed": false
   },
   "outputs": [
    {
     "data": {
      "text/plain": [
       "AAPL    389.424\n",
       "IBM     182.405\n",
       "MSFT     26.370\n",
       "dtype: float64"
      ]
     },
     "execution_count": 78,
     "metadata": {},
     "output_type": "execute_result"
    }
   ],
   "source": [
    "df.apply(np.mean)"
   ]
  },
  {
   "cell_type": "code",
   "execution_count": 79,
   "metadata": {
    "collapsed": false
   },
   "outputs": [
    {
     "data": {
      "text/plain": [
       "AAPL    389.424\n",
       "IBM     182.405\n",
       "MSFT     26.370\n",
       "dtype: float64"
      ]
     },
     "execution_count": 79,
     "metadata": {},
     "output_type": "execute_result"
    }
   ],
   "source": [
    "df.mean()   # same as above.   df.mean? to look up the function usage."
   ]
  },
  {
   "cell_type": "code",
   "execution_count": 80,
   "metadata": {
    "collapsed": false
   },
   "outputs": [
    {
     "data": {
      "text/plain": [
       "2011-10-03    190.806667\n",
       "2011-10-04    190.860000\n",
       "2011-10-05    193.663333\n",
       "2011-10-06    195.133333\n",
       "2011-10-07    192.813333\n",
       "2011-10-10    200.790000\n",
       "2011-10-11    204.096667\n",
       "2011-10-12    205.090000\n",
       "2011-10-13    207.476667\n",
       "2011-10-14    213.266667\n",
       "dtype: float64"
      ]
     },
     "execution_count": 80,
     "metadata": {},
     "output_type": "execute_result"
    }
   ],
   "source": [
    "df.mean(1)   # get the mean of the rows based on a column. Also excludes missing data (NaN: not a number)."
   ]
  },
  {
   "cell_type": "code",
   "execution_count": 81,
   "metadata": {
    "collapsed": false
   },
   "outputs": [
    {
     "data": {
      "text/plain": [
       "2011-10-03    190.806667\n",
       "2011-10-04    190.860000\n",
       "2011-10-05    193.663333\n",
       "2011-10-06    195.133333\n",
       "2011-10-07    192.813333\n",
       "2011-10-10    200.790000\n",
       "2011-10-11    204.096667\n",
       "2011-10-12    205.090000\n",
       "2011-10-13    207.476667\n",
       "2011-10-14    213.266667\n",
       "dtype: float64"
      ]
     },
     "execution_count": 81,
     "metadata": {},
     "output_type": "execute_result"
    }
   ],
   "source": [
    "df.mean(1, skipna=False)   # flag skipna: to include NaN. In this data, no NaN."
   ]
  },
  {
   "cell_type": "code",
   "execution_count": 82,
   "metadata": {
    "collapsed": false
   },
   "outputs": [
    {
     "data": {
      "text/plain": [
       "2011-10-03    190.806667\n",
       "2011-10-04    190.860000\n",
       "2011-10-05    193.663333\n",
       "2011-10-06    195.133333\n",
       "2011-10-07    192.813333\n",
       "2011-10-10    200.790000\n",
       "2011-10-11    204.096667\n",
       "2011-10-12    205.090000\n",
       "2011-10-13    207.476667\n",
       "2011-10-14    213.266667\n",
       "dtype: float64"
      ]
     },
     "execution_count": 82,
     "metadata": {},
     "output_type": "execute_result"
    }
   ],
   "source": [
    "df.apply(np.mean, axis=1)   # same as above."
   ]
  },
  {
   "cell_type": "markdown",
   "metadata": {},
   "source": [
    "You can get as fancy as you want"
   ]
  },
  {
   "cell_type": "code",
   "execution_count": 84,
   "metadata": {
    "collapsed": false
   },
   "outputs": [
    {
     "data": {
      "text/html": [
       "<div>\n",
       "<table border=\"1\" class=\"dataframe\">\n",
       "  <thead>\n",
       "    <tr style=\"text-align: right;\">\n",
       "      <th></th>\n",
       "      <th>AA</th>\n",
       "      <th>AAPL</th>\n",
       "      <th>GE</th>\n",
       "      <th>IBM</th>\n",
       "      <th>JNJ</th>\n",
       "      <th>MSFT</th>\n",
       "      <th>PEP</th>\n",
       "      <th>SPX</th>\n",
       "      <th>XOM</th>\n",
       "    </tr>\n",
       "  </thead>\n",
       "  <tbody>\n",
       "    <tr>\n",
       "      <th>2007-10-29</th>\n",
       "      <td>37.41</td>\n",
       "      <td>185.09</td>\n",
       "      <td>34.46</td>\n",
       "      <td>106.78</td>\n",
       "      <td>57.13</td>\n",
       "      <td>31.78</td>\n",
       "      <td>65.67</td>\n",
       "      <td>1540.98</td>\n",
       "      <td>85.51</td>\n",
       "    </tr>\n",
       "    <tr>\n",
       "      <th>2007-10-30</th>\n",
       "      <td>36.43</td>\n",
       "      <td>187.00</td>\n",
       "      <td>34.39</td>\n",
       "      <td>106.15</td>\n",
       "      <td>56.99</td>\n",
       "      <td>32.70</td>\n",
       "      <td>65.80</td>\n",
       "      <td>1531.02</td>\n",
       "      <td>83.25</td>\n",
       "    </tr>\n",
       "    <tr>\n",
       "      <th>2007-10-31</th>\n",
       "      <td>36.79</td>\n",
       "      <td>189.95</td>\n",
       "      <td>34.97</td>\n",
       "      <td>108.01</td>\n",
       "      <td>57.30</td>\n",
       "      <td>33.84</td>\n",
       "      <td>65.69</td>\n",
       "      <td>1549.38</td>\n",
       "      <td>84.03</td>\n",
       "    </tr>\n",
       "    <tr>\n",
       "      <th>2007-11-01</th>\n",
       "      <td>35.22</td>\n",
       "      <td>187.44</td>\n",
       "      <td>34.27</td>\n",
       "      <td>105.72</td>\n",
       "      <td>56.85</td>\n",
       "      <td>34.07</td>\n",
       "      <td>64.51</td>\n",
       "      <td>1508.44</td>\n",
       "      <td>80.84</td>\n",
       "    </tr>\n",
       "    <tr>\n",
       "      <th>2007-11-02</th>\n",
       "      <td>35.83</td>\n",
       "      <td>187.87</td>\n",
       "      <td>34.27</td>\n",
       "      <td>106.59</td>\n",
       "      <td>56.95</td>\n",
       "      <td>34.07</td>\n",
       "      <td>65.03</td>\n",
       "      <td>1509.65</td>\n",
       "      <td>80.32</td>\n",
       "    </tr>\n",
       "  </tbody>\n",
       "</table>\n",
       "</div>"
      ],
      "text/plain": [
       "               AA    AAPL     GE     IBM    JNJ   MSFT    PEP      SPX    XOM\n",
       "2007-10-29  37.41  185.09  34.46  106.78  57.13  31.78  65.67  1540.98  85.51\n",
       "2007-10-30  36.43  187.00  34.39  106.15  56.99  32.70  65.80  1531.02  83.25\n",
       "2007-10-31  36.79  189.95  34.97  108.01  57.30  33.84  65.69  1549.38  84.03\n",
       "2007-11-01  35.22  187.44  34.27  105.72  56.85  34.07  64.51  1508.44  80.84\n",
       "2007-11-02  35.83  187.87  34.27  106.59  56.95  34.07  65.03  1509.65  80.32"
      ]
     },
     "execution_count": 84,
     "metadata": {},
     "output_type": "execute_result"
    }
   ],
   "source": [
    "close_px.head()    # Output: 1000 rows."
   ]
  },
  {
   "cell_type": "code",
   "execution_count": 85,
   "metadata": {
    "collapsed": false
   },
   "outputs": [
    {
     "data": {
      "text/plain": [
       "2007-10-29    185.09\n",
       "2007-10-30    187.00\n",
       "2007-10-31    189.95\n",
       "2007-11-01    187.44\n",
       "2007-11-02    187.87\n",
       "2007-11-05    186.18\n",
       "2007-11-06    191.79\n",
       "2007-11-07    186.30\n",
       "2007-11-08    175.47\n",
       "2007-11-09    165.37\n",
       "2007-11-12    153.76\n",
       "2007-11-13    169.96\n",
       "2007-11-14    166.11\n",
       "2007-11-15    164.30\n",
       "2007-11-16    166.39\n",
       "2007-11-19    163.95\n",
       "2007-11-20    168.85\n",
       "2007-11-21    168.46\n",
       "2007-11-23    171.54\n",
       "2007-11-26    172.54\n",
       "2007-11-27    174.81\n",
       "2007-11-28    180.22\n",
       "2007-11-29    184.29\n",
       "2007-11-30    182.22\n",
       "2007-12-03    178.86\n",
       "2007-12-04    179.81\n",
       "2007-12-05    185.50\n",
       "2007-12-06    189.95\n",
       "2007-12-07    194.30\n",
       "2007-12-10    194.21\n",
       "               ...  \n",
       "2011-09-02    374.05\n",
       "2011-09-06    379.74\n",
       "2011-09-07    383.93\n",
       "2011-09-08    384.14\n",
       "2011-09-09    377.48\n",
       "2011-09-12    379.94\n",
       "2011-09-13    384.62\n",
       "2011-09-14    389.30\n",
       "2011-09-15    392.96\n",
       "2011-09-16    400.50\n",
       "2011-09-19    411.63\n",
       "2011-09-20    413.45\n",
       "2011-09-21    412.14\n",
       "2011-09-22    401.82\n",
       "2011-09-23    404.30\n",
       "2011-09-26    403.17\n",
       "2011-09-27    399.26\n",
       "2011-09-28    397.01\n",
       "2011-09-29    390.57\n",
       "2011-09-30    381.32\n",
       "2011-10-03    374.60\n",
       "2011-10-04    372.50\n",
       "2011-10-05    378.25\n",
       "2011-10-06    377.37\n",
       "2011-10-07    369.80\n",
       "2011-10-10    388.81\n",
       "2011-10-11    400.29\n",
       "2011-10-12    402.19\n",
       "2011-10-13    408.43\n",
       "2011-10-14    422.00\n",
       "Name: AAPL, dtype: float64"
      ]
     },
     "execution_count": 85,
     "metadata": {},
     "output_type": "execute_result"
    }
   ],
   "source": [
    "close_px.AAPL     # For easier typing, after dot ., use tab to select the name of the stock."
   ]
  },
  {
   "cell_type": "code",
   "execution_count": 86,
   "metadata": {
    "collapsed": false
   },
   "outputs": [
    {
     "data": {
      "text/plain": [
       "Timestamp('2011-10-14 00:00:00')"
      ]
     },
     "execution_count": 86,
     "metadata": {},
     "output_type": "execute_result"
    }
   ],
   "source": [
    "close_px.AAPL.idxmax() # gives index of its maximum value."
   ]
  },
  {
   "cell_type": "code",
   "execution_count": 93,
   "metadata": {
    "collapsed": false
   },
   "outputs": [
    {
     "data": {
      "text/plain": [
       "AAPL    52.20\n",
       "IBM     17.24\n",
       "MSFT     2.74\n",
       "dtype: float64"
      ]
     },
     "execution_count": 93,
     "metadata": {},
     "output_type": "execute_result"
    }
   ],
   "source": [
    "df.apply(lambda x: x.max() - x.min()) # np.ptp"
   ]
  },
  {
   "cell_type": "code",
   "execution_count": 94,
   "metadata": {
    "collapsed": false
   },
   "outputs": [
    {
     "data": {
      "text/html": [
       "<div>\n",
       "<table border=\"1\" class=\"dataframe\">\n",
       "  <thead>\n",
       "    <tr style=\"text-align: right;\">\n",
       "      <th></th>\n",
       "      <th>AA</th>\n",
       "      <th>AAPL</th>\n",
       "      <th>GE</th>\n",
       "      <th>IBM</th>\n",
       "      <th>JNJ</th>\n",
       "      <th>MSFT</th>\n",
       "      <th>PEP</th>\n",
       "      <th>SPX</th>\n",
       "      <th>XOM</th>\n",
       "    </tr>\n",
       "  </thead>\n",
       "  <tbody>\n",
       "    <tr>\n",
       "      <th>2007-10-29</th>\n",
       "      <td>3.621938</td>\n",
       "      <td>5.220842</td>\n",
       "      <td>3.539799</td>\n",
       "      <td>4.670771</td>\n",
       "      <td>4.045329</td>\n",
       "      <td>3.458837</td>\n",
       "      <td>4.184642</td>\n",
       "      <td>7.340174</td>\n",
       "      <td>4.448633</td>\n",
       "    </tr>\n",
       "    <tr>\n",
       "      <th>2007-10-30</th>\n",
       "      <td>3.595393</td>\n",
       "      <td>5.231109</td>\n",
       "      <td>3.537766</td>\n",
       "      <td>4.664853</td>\n",
       "      <td>4.042876</td>\n",
       "      <td>3.487375</td>\n",
       "      <td>4.186620</td>\n",
       "      <td>7.333689</td>\n",
       "      <td>4.421848</td>\n",
       "    </tr>\n",
       "    <tr>\n",
       "      <th>2007-10-31</th>\n",
       "      <td>3.605226</td>\n",
       "      <td>5.246761</td>\n",
       "      <td>3.554491</td>\n",
       "      <td>4.682224</td>\n",
       "      <td>4.048301</td>\n",
       "      <td>3.521644</td>\n",
       "      <td>4.184947</td>\n",
       "      <td>7.345610</td>\n",
       "      <td>4.431174</td>\n",
       "    </tr>\n",
       "    <tr>\n",
       "      <th>2007-11-01</th>\n",
       "      <td>3.561614</td>\n",
       "      <td>5.233459</td>\n",
       "      <td>3.534270</td>\n",
       "      <td>4.660794</td>\n",
       "      <td>4.040416</td>\n",
       "      <td>3.528417</td>\n",
       "      <td>4.166820</td>\n",
       "      <td>7.318831</td>\n",
       "      <td>4.392472</td>\n",
       "    </tr>\n",
       "    <tr>\n",
       "      <th>2007-11-02</th>\n",
       "      <td>3.578786</td>\n",
       "      <td>5.235750</td>\n",
       "      <td>3.534270</td>\n",
       "      <td>4.668990</td>\n",
       "      <td>4.042174</td>\n",
       "      <td>3.528417</td>\n",
       "      <td>4.174849</td>\n",
       "      <td>7.319633</td>\n",
       "      <td>4.386019</td>\n",
       "    </tr>\n",
       "    <tr>\n",
       "      <th>2007-11-05</th>\n",
       "      <td>3.561614</td>\n",
       "      <td>5.226714</td>\n",
       "      <td>3.530763</td>\n",
       "      <td>4.658521</td>\n",
       "      <td>4.037774</td>\n",
       "      <td>3.519573</td>\n",
       "      <td>4.171923</td>\n",
       "      <td>7.314666</td>\n",
       "      <td>4.382901</td>\n",
       "    </tr>\n",
       "    <tr>\n",
       "      <th>2007-11-06</th>\n",
       "      <td>3.579065</td>\n",
       "      <td>5.256401</td>\n",
       "      <td>3.530470</td>\n",
       "      <td>4.656528</td>\n",
       "      <td>4.039536</td>\n",
       "      <td>3.510650</td>\n",
       "      <td>4.181897</td>\n",
       "      <td>7.326643</td>\n",
       "      <td>4.413525</td>\n",
       "    </tr>\n",
       "    <tr>\n",
       "      <th>2007-11-07</th>\n",
       "      <td>3.548467</td>\n",
       "      <td>5.227358</td>\n",
       "      <td>3.502550</td>\n",
       "      <td>4.641406</td>\n",
       "      <td>4.028739</td>\n",
       "      <td>3.485845</td>\n",
       "      <td>4.166045</td>\n",
       "      <td>7.296834</td>\n",
       "      <td>4.381527</td>\n",
       "    </tr>\n",
       "    <tr>\n",
       "      <th>2007-11-08</th>\n",
       "      <td>3.555348</td>\n",
       "      <td>5.167468</td>\n",
       "      <td>3.501043</td>\n",
       "      <td>4.595625</td>\n",
       "      <td>4.039360</td>\n",
       "      <td>3.463859</td>\n",
       "      <td>4.182050</td>\n",
       "      <td>7.296257</td>\n",
       "      <td>4.406719</td>\n",
       "    </tr>\n",
       "    <tr>\n",
       "      <th>2007-11-09</th>\n",
       "      <td>3.540089</td>\n",
       "      <td>5.108185</td>\n",
       "      <td>3.484619</td>\n",
       "      <td>4.538817</td>\n",
       "      <td>4.048126</td>\n",
       "      <td>3.434310</td>\n",
       "      <td>4.181745</td>\n",
       "      <td>7.281867</td>\n",
       "      <td>4.377516</td>\n",
       "    </tr>\n",
       "    <tr>\n",
       "      <th>2007-11-12</th>\n",
       "      <td>3.506458</td>\n",
       "      <td>5.035393</td>\n",
       "      <td>3.481240</td>\n",
       "      <td>4.550714</td>\n",
       "      <td>4.065602</td>\n",
       "      <td>3.423937</td>\n",
       "      <td>4.169297</td>\n",
       "      <td>7.271829</td>\n",
       "      <td>4.350536</td>\n",
       "    </tr>\n",
       "    <tr>\n",
       "      <th>2007-11-13</th>\n",
       "      <td>3.527536</td>\n",
       "      <td>5.135563</td>\n",
       "      <td>3.505858</td>\n",
       "      <td>4.587719</td>\n",
       "      <td>4.080584</td>\n",
       "      <td>3.459152</td>\n",
       "      <td>4.179757</td>\n",
       "      <td>7.300507</td>\n",
       "      <td>4.377893</td>\n",
       "    </tr>\n",
       "    <tr>\n",
       "      <th>2007-11-14</th>\n",
       "      <td>3.533687</td>\n",
       "      <td>5.112650</td>\n",
       "      <td>3.500741</td>\n",
       "      <td>4.570165</td>\n",
       "      <td>4.074312</td>\n",
       "      <td>3.443618</td>\n",
       "      <td>4.189503</td>\n",
       "      <td>7.293412</td>\n",
       "      <td>4.371345</td>\n",
       "    </tr>\n",
       "    <tr>\n",
       "      <th>2007-11-15</th>\n",
       "      <td>3.519277</td>\n",
       "      <td>5.101694</td>\n",
       "      <td>3.482777</td>\n",
       "      <td>4.571717</td>\n",
       "      <td>4.074142</td>\n",
       "      <td>3.438493</td>\n",
       "      <td>4.183118</td>\n",
       "      <td>7.280112</td>\n",
       "      <td>4.350020</td>\n",
       "    </tr>\n",
       "    <tr>\n",
       "      <th>2007-11-16</th>\n",
       "      <td>3.518684</td>\n",
       "      <td>5.114334</td>\n",
       "      <td>3.491647</td>\n",
       "      <td>4.583129</td>\n",
       "      <td>4.086984</td>\n",
       "      <td>3.448081</td>\n",
       "      <td>4.190866</td>\n",
       "      <td>7.285328</td>\n",
       "      <td>4.357222</td>\n",
       "    </tr>\n",
       "    <tr>\n",
       "      <th>2007-11-19</th>\n",
       "      <td>3.484005</td>\n",
       "      <td>5.099562</td>\n",
       "      <td>3.478776</td>\n",
       "      <td>4.558288</td>\n",
       "      <td>4.084631</td>\n",
       "      <td>3.444257</td>\n",
       "      <td>4.203199</td>\n",
       "      <td>7.267714</td>\n",
       "      <td>4.345492</td>\n",
       "    </tr>\n",
       "    <tr>\n",
       "      <th>2007-11-20</th>\n",
       "      <td>3.492865</td>\n",
       "      <td>5.129011</td>\n",
       "      <td>3.475686</td>\n",
       "      <td>4.569957</td>\n",
       "      <td>4.085472</td>\n",
       "      <td>3.462606</td>\n",
       "      <td>4.200055</td>\n",
       "      <td>7.272190</td>\n",
       "      <td>4.388630</td>\n",
       "    </tr>\n",
       "    <tr>\n",
       "      <th>2007-11-21</th>\n",
       "      <td>3.486763</td>\n",
       "      <td>5.126698</td>\n",
       "      <td>3.452524</td>\n",
       "      <td>4.558288</td>\n",
       "      <td>4.078046</td>\n",
       "      <td>3.452207</td>\n",
       "      <td>4.202750</td>\n",
       "      <td>7.256135</td>\n",
       "      <td>4.379774</td>\n",
       "    </tr>\n",
       "    <tr>\n",
       "      <th>2007-11-23</th>\n",
       "      <td>3.486151</td>\n",
       "      <td>5.144816</td>\n",
       "      <td>3.466048</td>\n",
       "      <td>4.576050</td>\n",
       "      <td>4.080246</td>\n",
       "      <td>3.448717</td>\n",
       "      <td>4.209012</td>\n",
       "      <td>7.272884</td>\n",
       "      <td>4.393955</td>\n",
       "    </tr>\n",
       "    <tr>\n",
       "      <th>2007-11-26</th>\n",
       "      <td>3.478467</td>\n",
       "      <td>5.150629</td>\n",
       "      <td>3.440739</td>\n",
       "      <td>4.555875</td>\n",
       "      <td>4.087656</td>\n",
       "      <td>3.414772</td>\n",
       "      <td>4.198104</td>\n",
       "      <td>7.249371</td>\n",
       "      <td>4.363990</td>\n",
       "    </tr>\n",
       "    <tr>\n",
       "      <th>2007-11-27</th>\n",
       "      <td>3.483085</td>\n",
       "      <td>5.163700</td>\n",
       "      <td>3.460095</td>\n",
       "      <td>4.573886</td>\n",
       "      <td>4.093010</td>\n",
       "      <td>3.417399</td>\n",
       "      <td>4.214347</td>\n",
       "      <td>7.264191</td>\n",
       "      <td>4.372103</td>\n",
       "    </tr>\n",
       "    <tr>\n",
       "      <th>2007-11-28</th>\n",
       "      <td>3.516013</td>\n",
       "      <td>5.194178</td>\n",
       "      <td>3.486763</td>\n",
       "      <td>4.607468</td>\n",
       "      <td>4.101982</td>\n",
       "      <td>3.436565</td>\n",
       "      <td>4.230622</td>\n",
       "      <td>7.292351</td>\n",
       "      <td>4.389747</td>\n",
       "    </tr>\n",
       "    <tr>\n",
       "      <th>2007-11-29</th>\n",
       "      <td>3.525478</td>\n",
       "      <td>5.216511</td>\n",
       "      <td>3.478158</td>\n",
       "      <td>4.608664</td>\n",
       "      <td>4.102809</td>\n",
       "      <td>3.433342</td>\n",
       "      <td>4.222445</td>\n",
       "      <td>7.292827</td>\n",
       "      <td>4.397408</td>\n",
       "    </tr>\n",
       "    <tr>\n",
       "      <th>2007-11-30</th>\n",
       "      <td>3.520461</td>\n",
       "      <td>5.205215</td>\n",
       "      <td>3.482163</td>\n",
       "      <td>4.586803</td>\n",
       "      <td>4.093177</td>\n",
       "      <td>3.433665</td>\n",
       "      <td>4.230913</td>\n",
       "      <td>7.300567</td>\n",
       "      <td>4.403788</td>\n",
       "    </tr>\n",
       "    <tr>\n",
       "      <th>2007-12-03</th>\n",
       "      <td>3.495901</td>\n",
       "      <td>5.186603</td>\n",
       "      <td>3.446171</td>\n",
       "      <td>4.592996</td>\n",
       "      <td>4.092677</td>\n",
       "      <td>3.413126</td>\n",
       "      <td>4.223031</td>\n",
       "      <td>7.294663</td>\n",
       "      <td>4.400358</td>\n",
       "    </tr>\n",
       "    <tr>\n",
       "      <th>2007-12-04</th>\n",
       "      <td>3.489208</td>\n",
       "      <td>5.191901</td>\n",
       "      <td>3.427515</td>\n",
       "      <td>4.600560</td>\n",
       "      <td>4.096010</td>\n",
       "      <td>3.408835</td>\n",
       "      <td>4.223910</td>\n",
       "      <td>7.288101</td>\n",
       "      <td>4.392101</td>\n",
       "    </tr>\n",
       "    <tr>\n",
       "      <th>2007-12-05</th>\n",
       "      <td>3.499231</td>\n",
       "      <td>5.223055</td>\n",
       "      <td>3.440098</td>\n",
       "      <td>4.614823</td>\n",
       "      <td>4.099995</td>\n",
       "      <td>3.449988</td>\n",
       "      <td>4.223910</td>\n",
       "      <td>7.303177</td>\n",
       "      <td>4.412313</td>\n",
       "    </tr>\n",
       "    <tr>\n",
       "      <th>2007-12-06</th>\n",
       "      <td>3.506158</td>\n",
       "      <td>5.246761</td>\n",
       "      <td>3.455054</td>\n",
       "      <td>4.628887</td>\n",
       "      <td>4.101320</td>\n",
       "      <td>3.461665</td>\n",
       "      <td>4.233817</td>\n",
       "      <td>7.318102</td>\n",
       "      <td>4.429029</td>\n",
       "    </tr>\n",
       "    <tr>\n",
       "      <th>2007-12-07</th>\n",
       "      <td>3.535145</td>\n",
       "      <td>5.269403</td>\n",
       "      <td>3.454106</td>\n",
       "      <td>4.621240</td>\n",
       "      <td>4.092176</td>\n",
       "      <td>3.461037</td>\n",
       "      <td>4.233382</td>\n",
       "      <td>7.316322</td>\n",
       "      <td>4.429745</td>\n",
       "    </tr>\n",
       "    <tr>\n",
       "      <th>2007-12-10</th>\n",
       "      <td>3.560193</td>\n",
       "      <td>5.268940</td>\n",
       "      <td>3.458837</td>\n",
       "      <td>4.626051</td>\n",
       "      <td>4.093844</td>\n",
       "      <td>3.467609</td>\n",
       "      <td>4.237001</td>\n",
       "      <td>7.323804</td>\n",
       "      <td>4.435449</td>\n",
       "    </tr>\n",
       "    <tr>\n",
       "      <th>...</th>\n",
       "      <td>...</td>\n",
       "      <td>...</td>\n",
       "      <td>...</td>\n",
       "      <td>...</td>\n",
       "      <td>...</td>\n",
       "      <td>...</td>\n",
       "      <td>...</td>\n",
       "      <td>...</td>\n",
       "      <td>...</td>\n",
       "    </tr>\n",
       "    <tr>\n",
       "      <th>2011-09-02</th>\n",
       "      <td>2.488234</td>\n",
       "      <td>5.924389</td>\n",
       "      <td>2.747912</td>\n",
       "      <td>5.117874</td>\n",
       "      <td>4.159976</td>\n",
       "      <td>3.250374</td>\n",
       "      <td>4.147885</td>\n",
       "      <td>7.068146</td>\n",
       "      <td>4.278609</td>\n",
       "    </tr>\n",
       "    <tr>\n",
       "      <th>2011-09-06</th>\n",
       "      <td>2.465554</td>\n",
       "      <td>5.939487</td>\n",
       "      <td>2.715357</td>\n",
       "      <td>5.106612</td>\n",
       "      <td>4.168833</td>\n",
       "      <td>3.239071</td>\n",
       "      <td>4.134366</td>\n",
       "      <td>7.060682</td>\n",
       "      <td>4.264790</td>\n",
       "    </tr>\n",
       "    <tr>\n",
       "      <th>2011-09-07</th>\n",
       "      <td>2.505526</td>\n",
       "      <td>5.950460</td>\n",
       "      <td>2.750471</td>\n",
       "      <td>5.119848</td>\n",
       "      <td>4.180981</td>\n",
       "      <td>3.258097</td>\n",
       "      <td>4.120986</td>\n",
       "      <td>7.088926</td>\n",
       "      <td>4.299324</td>\n",
       "    </tr>\n",
       "    <tr>\n",
       "      <th>2011-09-08</th>\n",
       "      <td>2.487404</td>\n",
       "      <td>5.951007</td>\n",
       "      <td>2.736962</td>\n",
       "      <td>5.107459</td>\n",
       "      <td>4.173618</td>\n",
       "      <td>3.266522</td>\n",
       "      <td>4.116432</td>\n",
       "      <td>7.078257</td>\n",
       "      <td>4.287991</td>\n",
       "    </tr>\n",
       "    <tr>\n",
       "      <th>2011-09-09</th>\n",
       "      <td>2.449279</td>\n",
       "      <td>5.933518</td>\n",
       "      <td>2.704711</td>\n",
       "      <td>5.083700</td>\n",
       "      <td>4.153242</td>\n",
       "      <td>3.248046</td>\n",
       "      <td>4.094178</td>\n",
       "      <td>7.051189</td>\n",
       "      <td>4.262821</td>\n",
       "    </tr>\n",
       "    <tr>\n",
       "      <th>2011-09-12</th>\n",
       "      <td>2.446685</td>\n",
       "      <td>5.940013</td>\n",
       "      <td>2.699346</td>\n",
       "      <td>5.090186</td>\n",
       "      <td>4.152456</td>\n",
       "      <td>3.253857</td>\n",
       "      <td>4.096675</td>\n",
       "      <td>7.058130</td>\n",
       "      <td>4.274441</td>\n",
       "    </tr>\n",
       "    <tr>\n",
       "      <th>2011-09-13</th>\n",
       "      <td>2.453588</td>\n",
       "      <td>5.952256</td>\n",
       "      <td>2.725235</td>\n",
       "      <td>5.096385</td>\n",
       "      <td>4.152771</td>\n",
       "      <td>3.259634</td>\n",
       "      <td>4.103304</td>\n",
       "      <td>7.067209</td>\n",
       "      <td>4.271793</td>\n",
       "    </tr>\n",
       "    <tr>\n",
       "      <th>2011-09-14</th>\n",
       "      <td>2.462150</td>\n",
       "      <td>5.964350</td>\n",
       "      <td>2.749832</td>\n",
       "      <td>5.119430</td>\n",
       "      <td>4.154655</td>\n",
       "      <td>3.277145</td>\n",
       "      <td>4.120337</td>\n",
       "      <td>7.080599</td>\n",
       "      <td>4.285516</td>\n",
       "    </tr>\n",
       "    <tr>\n",
       "      <th>2011-09-15</th>\n",
       "      <td>2.483239</td>\n",
       "      <td>5.973708</td>\n",
       "      <td>2.777576</td>\n",
       "      <td>5.136328</td>\n",
       "      <td>4.165114</td>\n",
       "      <td>3.295466</td>\n",
       "      <td>4.146621</td>\n",
       "      <td>7.097640</td>\n",
       "      <td>4.304200</td>\n",
       "    </tr>\n",
       "    <tr>\n",
       "      <th>2011-09-16</th>\n",
       "      <td>2.482404</td>\n",
       "      <td>5.992714</td>\n",
       "      <td>2.793004</td>\n",
       "      <td>5.153234</td>\n",
       "      <td>4.168060</td>\n",
       "      <td>3.300271</td>\n",
       "      <td>4.127941</td>\n",
       "      <td>7.103330</td>\n",
       "      <td>4.311470</td>\n",
       "    </tr>\n",
       "    <tr>\n",
       "      <th>2011-09-19</th>\n",
       "      <td>2.449279</td>\n",
       "      <td>6.020125</td>\n",
       "      <td>2.783776</td>\n",
       "      <td>5.154043</td>\n",
       "      <td>4.161068</td>\n",
       "      <td>3.303585</td>\n",
       "      <td>4.103635</td>\n",
       "      <td>7.093479</td>\n",
       "      <td>4.300003</td>\n",
       "    </tr>\n",
       "    <tr>\n",
       "      <th>2011-09-20</th>\n",
       "      <td>2.420368</td>\n",
       "      <td>6.024537</td>\n",
       "      <td>2.775086</td>\n",
       "      <td>5.163185</td>\n",
       "      <td>4.162315</td>\n",
       "      <td>3.295096</td>\n",
       "      <td>4.100824</td>\n",
       "      <td>7.091817</td>\n",
       "      <td>4.304200</td>\n",
       "    </tr>\n",
       "    <tr>\n",
       "      <th>2011-09-21</th>\n",
       "      <td>2.383243</td>\n",
       "      <td>6.021363</td>\n",
       "      <td>2.733068</td>\n",
       "      <td>5.153407</td>\n",
       "      <td>4.145196</td>\n",
       "      <td>3.257712</td>\n",
       "      <td>4.107425</td>\n",
       "      <td>7.061986</td>\n",
       "      <td>4.276249</td>\n",
       "    </tr>\n",
       "    <tr>\n",
       "      <th>2011-09-22</th>\n",
       "      <td>2.313525</td>\n",
       "      <td>5.996004</td>\n",
       "      <td>2.710713</td>\n",
       "      <td>5.127648</td>\n",
       "      <td>4.125843</td>\n",
       "      <td>3.221273</td>\n",
       "      <td>4.109562</td>\n",
       "      <td>7.029583</td>\n",
       "      <td>4.237579</td>\n",
       "    </tr>\n",
       "    <tr>\n",
       "      <th>2011-09-23</th>\n",
       "      <td>2.309561</td>\n",
       "      <td>6.002157</td>\n",
       "      <td>2.721953</td>\n",
       "      <td>5.131909</td>\n",
       "      <td>4.120500</td>\n",
       "      <td>3.221273</td>\n",
       "      <td>4.099995</td>\n",
       "      <td>7.035647</td>\n",
       "      <td>4.238589</td>\n",
       "    </tr>\n",
       "    <tr>\n",
       "      <th>2011-09-26</th>\n",
       "      <td>2.346602</td>\n",
       "      <td>5.999358</td>\n",
       "      <td>2.745346</td>\n",
       "      <td>5.161982</td>\n",
       "      <td>4.138202</td>\n",
       "      <td>3.236323</td>\n",
       "      <td>4.125359</td>\n",
       "      <td>7.058715</td>\n",
       "      <td>4.272770</td>\n",
       "    </tr>\n",
       "    <tr>\n",
       "      <th>2011-09-27</th>\n",
       "      <td>2.349469</td>\n",
       "      <td>5.989613</td>\n",
       "      <td>2.757475</td>\n",
       "      <td>5.180153</td>\n",
       "      <td>4.156067</td>\n",
       "      <td>3.245323</td>\n",
       "      <td>4.134046</td>\n",
       "      <td>7.069347</td>\n",
       "      <td>4.289226</td>\n",
       "    </tr>\n",
       "    <tr>\n",
       "      <th>2011-09-28</th>\n",
       "      <td>2.299581</td>\n",
       "      <td>5.983961</td>\n",
       "      <td>2.737609</td>\n",
       "      <td>5.179252</td>\n",
       "      <td>4.147095</td>\n",
       "      <td>3.241811</td>\n",
       "      <td>4.126650</td>\n",
       "      <td>7.048439</td>\n",
       "      <td>4.277638</td>\n",
       "    </tr>\n",
       "    <tr>\n",
       "      <th>2011-09-29</th>\n",
       "      <td>2.308567</td>\n",
       "      <td>5.967607</td>\n",
       "      <td>2.763800</td>\n",
       "      <td>5.188335</td>\n",
       "      <td>4.157319</td>\n",
       "      <td>3.236716</td>\n",
       "      <td>4.136446</td>\n",
       "      <td>7.056520</td>\n",
       "      <td>4.302442</td>\n",
       "    </tr>\n",
       "    <tr>\n",
       "      <th>2011-09-30</th>\n",
       "      <td>2.258633</td>\n",
       "      <td>5.943639</td>\n",
       "      <td>2.722610</td>\n",
       "      <td>5.164043</td>\n",
       "      <td>4.154028</td>\n",
       "      <td>3.214466</td>\n",
       "      <td>4.125520</td>\n",
       "      <td>7.031229</td>\n",
       "      <td>4.285378</td>\n",
       "    </tr>\n",
       "    <tr>\n",
       "      <th>2011-10-03</th>\n",
       "      <td>2.186051</td>\n",
       "      <td>5.925859</td>\n",
       "      <td>2.687167</td>\n",
       "      <td>5.154966</td>\n",
       "      <td>4.128424</td>\n",
       "      <td>3.199897</td>\n",
       "      <td>4.099166</td>\n",
       "      <td>7.002365</td>\n",
       "      <td>4.264790</td>\n",
       "    </tr>\n",
       "    <tr>\n",
       "      <th>2011-10-04</th>\n",
       "      <td>2.210470</td>\n",
       "      <td>5.920237</td>\n",
       "      <td>2.698673</td>\n",
       "      <td>5.163299</td>\n",
       "      <td>4.129873</td>\n",
       "      <td>3.232384</td>\n",
       "      <td>4.101817</td>\n",
       "      <td>7.024605</td>\n",
       "      <td>4.288128</td>\n",
       "    </tr>\n",
       "    <tr>\n",
       "      <th>2011-10-05</th>\n",
       "      <td>2.237513</td>\n",
       "      <td>5.935555</td>\n",
       "      <td>2.725890</td>\n",
       "      <td>5.175302</td>\n",
       "      <td>4.132764</td>\n",
       "      <td>3.253857</td>\n",
       "      <td>4.099166</td>\n",
       "      <td>7.042312</td>\n",
       "      <td>4.303389</td>\n",
       "    </tr>\n",
       "    <tr>\n",
       "      <th>2011-10-06</th>\n",
       "      <td>2.290513</td>\n",
       "      <td>5.933226</td>\n",
       "      <td>2.742774</td>\n",
       "      <td>5.202302</td>\n",
       "      <td>4.140114</td>\n",
       "      <td>3.271089</td>\n",
       "      <td>4.103800</td>\n",
       "      <td>7.060451</td>\n",
       "      <td>4.302578</td>\n",
       "    </tr>\n",
       "    <tr>\n",
       "      <th>2011-10-07</th>\n",
       "      <td>2.273156</td>\n",
       "      <td>5.912962</td>\n",
       "      <td>2.740840</td>\n",
       "      <td>5.206147</td>\n",
       "      <td>4.145196</td>\n",
       "      <td>3.267666</td>\n",
       "      <td>4.111202</td>\n",
       "      <td>7.052254</td>\n",
       "      <td>4.298101</td>\n",
       "    </tr>\n",
       "    <tr>\n",
       "      <th>2011-10-10</th>\n",
       "      <td>2.311545</td>\n",
       "      <td>5.963091</td>\n",
       "      <td>2.781301</td>\n",
       "      <td>5.229074</td>\n",
       "      <td>4.165579</td>\n",
       "      <td>3.293612</td>\n",
       "      <td>4.125035</td>\n",
       "      <td>7.085809</td>\n",
       "      <td>4.334411</td>\n",
       "    </tr>\n",
       "    <tr>\n",
       "      <th>2011-10-11</th>\n",
       "      <td>2.332144</td>\n",
       "      <td>5.992189</td>\n",
       "      <td>2.781301</td>\n",
       "      <td>5.220356</td>\n",
       "      <td>4.158258</td>\n",
       "      <td>3.295837</td>\n",
       "      <td>4.110054</td>\n",
       "      <td>7.086353</td>\n",
       "      <td>4.334280</td>\n",
       "    </tr>\n",
       "    <tr>\n",
       "      <th>2011-10-12</th>\n",
       "      <td>2.307573</td>\n",
       "      <td>5.996925</td>\n",
       "      <td>2.797281</td>\n",
       "      <td>5.226392</td>\n",
       "      <td>4.164026</td>\n",
       "      <td>3.294354</td>\n",
       "      <td>4.138361</td>\n",
       "      <td>7.096100</td>\n",
       "      <td>4.345881</td>\n",
       "    </tr>\n",
       "    <tr>\n",
       "      <th>2011-10-13</th>\n",
       "      <td>2.312535</td>\n",
       "      <td>6.012321</td>\n",
       "      <td>2.786245</td>\n",
       "      <td>5.230146</td>\n",
       "      <td>4.162470</td>\n",
       "      <td>3.302481</td>\n",
       "      <td>4.132924</td>\n",
       "      <td>7.093122</td>\n",
       "      <td>4.335590</td>\n",
       "    </tr>\n",
       "    <tr>\n",
       "      <th>2011-10-14</th>\n",
       "      <td>2.328253</td>\n",
       "      <td>6.045005</td>\n",
       "      <td>2.809403</td>\n",
       "      <td>5.249810</td>\n",
       "      <td>4.170070</td>\n",
       "      <td>3.305787</td>\n",
       "      <td>4.130998</td>\n",
       "      <td>7.110353</td>\n",
       "      <td>4.358118</td>\n",
       "    </tr>\n",
       "  </tbody>\n",
       "</table>\n",
       "<p>1000 rows × 9 columns</p>\n",
       "</div>"
      ],
      "text/plain": [
       "                  AA      AAPL        GE       IBM       JNJ      MSFT  \\\n",
       "2007-10-29  3.621938  5.220842  3.539799  4.670771  4.045329  3.458837   \n",
       "2007-10-30  3.595393  5.231109  3.537766  4.664853  4.042876  3.487375   \n",
       "2007-10-31  3.605226  5.246761  3.554491  4.682224  4.048301  3.521644   \n",
       "2007-11-01  3.561614  5.233459  3.534270  4.660794  4.040416  3.528417   \n",
       "2007-11-02  3.578786  5.235750  3.534270  4.668990  4.042174  3.528417   \n",
       "2007-11-05  3.561614  5.226714  3.530763  4.658521  4.037774  3.519573   \n",
       "2007-11-06  3.579065  5.256401  3.530470  4.656528  4.039536  3.510650   \n",
       "2007-11-07  3.548467  5.227358  3.502550  4.641406  4.028739  3.485845   \n",
       "2007-11-08  3.555348  5.167468  3.501043  4.595625  4.039360  3.463859   \n",
       "2007-11-09  3.540089  5.108185  3.484619  4.538817  4.048126  3.434310   \n",
       "2007-11-12  3.506458  5.035393  3.481240  4.550714  4.065602  3.423937   \n",
       "2007-11-13  3.527536  5.135563  3.505858  4.587719  4.080584  3.459152   \n",
       "2007-11-14  3.533687  5.112650  3.500741  4.570165  4.074312  3.443618   \n",
       "2007-11-15  3.519277  5.101694  3.482777  4.571717  4.074142  3.438493   \n",
       "2007-11-16  3.518684  5.114334  3.491647  4.583129  4.086984  3.448081   \n",
       "2007-11-19  3.484005  5.099562  3.478776  4.558288  4.084631  3.444257   \n",
       "2007-11-20  3.492865  5.129011  3.475686  4.569957  4.085472  3.462606   \n",
       "2007-11-21  3.486763  5.126698  3.452524  4.558288  4.078046  3.452207   \n",
       "2007-11-23  3.486151  5.144816  3.466048  4.576050  4.080246  3.448717   \n",
       "2007-11-26  3.478467  5.150629  3.440739  4.555875  4.087656  3.414772   \n",
       "2007-11-27  3.483085  5.163700  3.460095  4.573886  4.093010  3.417399   \n",
       "2007-11-28  3.516013  5.194178  3.486763  4.607468  4.101982  3.436565   \n",
       "2007-11-29  3.525478  5.216511  3.478158  4.608664  4.102809  3.433342   \n",
       "2007-11-30  3.520461  5.205215  3.482163  4.586803  4.093177  3.433665   \n",
       "2007-12-03  3.495901  5.186603  3.446171  4.592996  4.092677  3.413126   \n",
       "2007-12-04  3.489208  5.191901  3.427515  4.600560  4.096010  3.408835   \n",
       "2007-12-05  3.499231  5.223055  3.440098  4.614823  4.099995  3.449988   \n",
       "2007-12-06  3.506158  5.246761  3.455054  4.628887  4.101320  3.461665   \n",
       "2007-12-07  3.535145  5.269403  3.454106  4.621240  4.092176  3.461037   \n",
       "2007-12-10  3.560193  5.268940  3.458837  4.626051  4.093844  3.467609   \n",
       "...              ...       ...       ...       ...       ...       ...   \n",
       "2011-09-02  2.488234  5.924389  2.747912  5.117874  4.159976  3.250374   \n",
       "2011-09-06  2.465554  5.939487  2.715357  5.106612  4.168833  3.239071   \n",
       "2011-09-07  2.505526  5.950460  2.750471  5.119848  4.180981  3.258097   \n",
       "2011-09-08  2.487404  5.951007  2.736962  5.107459  4.173618  3.266522   \n",
       "2011-09-09  2.449279  5.933518  2.704711  5.083700  4.153242  3.248046   \n",
       "2011-09-12  2.446685  5.940013  2.699346  5.090186  4.152456  3.253857   \n",
       "2011-09-13  2.453588  5.952256  2.725235  5.096385  4.152771  3.259634   \n",
       "2011-09-14  2.462150  5.964350  2.749832  5.119430  4.154655  3.277145   \n",
       "2011-09-15  2.483239  5.973708  2.777576  5.136328  4.165114  3.295466   \n",
       "2011-09-16  2.482404  5.992714  2.793004  5.153234  4.168060  3.300271   \n",
       "2011-09-19  2.449279  6.020125  2.783776  5.154043  4.161068  3.303585   \n",
       "2011-09-20  2.420368  6.024537  2.775086  5.163185  4.162315  3.295096   \n",
       "2011-09-21  2.383243  6.021363  2.733068  5.153407  4.145196  3.257712   \n",
       "2011-09-22  2.313525  5.996004  2.710713  5.127648  4.125843  3.221273   \n",
       "2011-09-23  2.309561  6.002157  2.721953  5.131909  4.120500  3.221273   \n",
       "2011-09-26  2.346602  5.999358  2.745346  5.161982  4.138202  3.236323   \n",
       "2011-09-27  2.349469  5.989613  2.757475  5.180153  4.156067  3.245323   \n",
       "2011-09-28  2.299581  5.983961  2.737609  5.179252  4.147095  3.241811   \n",
       "2011-09-29  2.308567  5.967607  2.763800  5.188335  4.157319  3.236716   \n",
       "2011-09-30  2.258633  5.943639  2.722610  5.164043  4.154028  3.214466   \n",
       "2011-10-03  2.186051  5.925859  2.687167  5.154966  4.128424  3.199897   \n",
       "2011-10-04  2.210470  5.920237  2.698673  5.163299  4.129873  3.232384   \n",
       "2011-10-05  2.237513  5.935555  2.725890  5.175302  4.132764  3.253857   \n",
       "2011-10-06  2.290513  5.933226  2.742774  5.202302  4.140114  3.271089   \n",
       "2011-10-07  2.273156  5.912962  2.740840  5.206147  4.145196  3.267666   \n",
       "2011-10-10  2.311545  5.963091  2.781301  5.229074  4.165579  3.293612   \n",
       "2011-10-11  2.332144  5.992189  2.781301  5.220356  4.158258  3.295837   \n",
       "2011-10-12  2.307573  5.996925  2.797281  5.226392  4.164026  3.294354   \n",
       "2011-10-13  2.312535  6.012321  2.786245  5.230146  4.162470  3.302481   \n",
       "2011-10-14  2.328253  6.045005  2.809403  5.249810  4.170070  3.305787   \n",
       "\n",
       "                 PEP       SPX       XOM  \n",
       "2007-10-29  4.184642  7.340174  4.448633  \n",
       "2007-10-30  4.186620  7.333689  4.421848  \n",
       "2007-10-31  4.184947  7.345610  4.431174  \n",
       "2007-11-01  4.166820  7.318831  4.392472  \n",
       "2007-11-02  4.174849  7.319633  4.386019  \n",
       "2007-11-05  4.171923  7.314666  4.382901  \n",
       "2007-11-06  4.181897  7.326643  4.413525  \n",
       "2007-11-07  4.166045  7.296834  4.381527  \n",
       "2007-11-08  4.182050  7.296257  4.406719  \n",
       "2007-11-09  4.181745  7.281867  4.377516  \n",
       "2007-11-12  4.169297  7.271829  4.350536  \n",
       "2007-11-13  4.179757  7.300507  4.377893  \n",
       "2007-11-14  4.189503  7.293412  4.371345  \n",
       "2007-11-15  4.183118  7.280112  4.350020  \n",
       "2007-11-16  4.190866  7.285328  4.357222  \n",
       "2007-11-19  4.203199  7.267714  4.345492  \n",
       "2007-11-20  4.200055  7.272190  4.388630  \n",
       "2007-11-21  4.202750  7.256135  4.379774  \n",
       "2007-11-23  4.209012  7.272884  4.393955  \n",
       "2007-11-26  4.198104  7.249371  4.363990  \n",
       "2007-11-27  4.214347  7.264191  4.372103  \n",
       "2007-11-28  4.230622  7.292351  4.389747  \n",
       "2007-11-29  4.222445  7.292827  4.397408  \n",
       "2007-11-30  4.230913  7.300567  4.403788  \n",
       "2007-12-03  4.223031  7.294663  4.400358  \n",
       "2007-12-04  4.223910  7.288101  4.392101  \n",
       "2007-12-05  4.223910  7.303177  4.412313  \n",
       "2007-12-06  4.233817  7.318102  4.429029  \n",
       "2007-12-07  4.233382  7.316322  4.429745  \n",
       "2007-12-10  4.237001  7.323804  4.435449  \n",
       "...              ...       ...       ...  \n",
       "2011-09-02  4.147885  7.068146  4.278609  \n",
       "2011-09-06  4.134366  7.060682  4.264790  \n",
       "2011-09-07  4.120986  7.088926  4.299324  \n",
       "2011-09-08  4.116432  7.078257  4.287991  \n",
       "2011-09-09  4.094178  7.051189  4.262821  \n",
       "2011-09-12  4.096675  7.058130  4.274441  \n",
       "2011-09-13  4.103304  7.067209  4.271793  \n",
       "2011-09-14  4.120337  7.080599  4.285516  \n",
       "2011-09-15  4.146621  7.097640  4.304200  \n",
       "2011-09-16  4.127941  7.103330  4.311470  \n",
       "2011-09-19  4.103635  7.093479  4.300003  \n",
       "2011-09-20  4.100824  7.091817  4.304200  \n",
       "2011-09-21  4.107425  7.061986  4.276249  \n",
       "2011-09-22  4.109562  7.029583  4.237579  \n",
       "2011-09-23  4.099995  7.035647  4.238589  \n",
       "2011-09-26  4.125359  7.058715  4.272770  \n",
       "2011-09-27  4.134046  7.069347  4.289226  \n",
       "2011-09-28  4.126650  7.048439  4.277638  \n",
       "2011-09-29  4.136446  7.056520  4.302442  \n",
       "2011-09-30  4.125520  7.031229  4.285378  \n",
       "2011-10-03  4.099166  7.002365  4.264790  \n",
       "2011-10-04  4.101817  7.024605  4.288128  \n",
       "2011-10-05  4.099166  7.042312  4.303389  \n",
       "2011-10-06  4.103800  7.060451  4.302578  \n",
       "2011-10-07  4.111202  7.052254  4.298101  \n",
       "2011-10-10  4.125035  7.085809  4.334411  \n",
       "2011-10-11  4.110054  7.086353  4.334280  \n",
       "2011-10-12  4.138361  7.096100  4.345881  \n",
       "2011-10-13  4.132924  7.093122  4.335590  \n",
       "2011-10-14  4.130998  7.110353  4.358118  \n",
       "\n",
       "[1000 rows x 9 columns]"
      ]
     },
     "execution_count": 94,
     "metadata": {},
     "output_type": "execute_result"
    }
   ],
   "source": [
    "np.log(close_px)"
   ]
  },
  {
   "cell_type": "markdown",
   "metadata": {},
   "source": [
    "Plotting\n",
    "========\n",
    "\n",
    "Some basic plotting integration with matplotlib in Series / DataFrame"
   ]
  },
  {
   "cell_type": "code",
   "execution_count": 99,
   "metadata": {
    "collapsed": false
   },
   "outputs": [
    {
     "data": {
      "text/html": [
       "<div>\n",
       "<table border=\"1\" class=\"dataframe\">\n",
       "  <thead>\n",
       "    <tr style=\"text-align: right;\">\n",
       "      <th></th>\n",
       "      <th>AAPL</th>\n",
       "      <th>IBM</th>\n",
       "      <th>MSFT</th>\n",
       "      <th>XOM</th>\n",
       "    </tr>\n",
       "  </thead>\n",
       "  <tbody>\n",
       "    <tr>\n",
       "      <th>2007-10-29</th>\n",
       "      <td>185.09</td>\n",
       "      <td>106.78</td>\n",
       "      <td>31.78</td>\n",
       "      <td>85.51</td>\n",
       "    </tr>\n",
       "    <tr>\n",
       "      <th>2007-10-30</th>\n",
       "      <td>187.00</td>\n",
       "      <td>106.15</td>\n",
       "      <td>32.70</td>\n",
       "      <td>83.25</td>\n",
       "    </tr>\n",
       "    <tr>\n",
       "      <th>2007-10-31</th>\n",
       "      <td>189.95</td>\n",
       "      <td>108.01</td>\n",
       "      <td>33.84</td>\n",
       "      <td>84.03</td>\n",
       "    </tr>\n",
       "    <tr>\n",
       "      <th>2007-11-01</th>\n",
       "      <td>187.44</td>\n",
       "      <td>105.72</td>\n",
       "      <td>34.07</td>\n",
       "      <td>80.84</td>\n",
       "    </tr>\n",
       "    <tr>\n",
       "      <th>2007-11-02</th>\n",
       "      <td>187.87</td>\n",
       "      <td>106.59</td>\n",
       "      <td>34.07</td>\n",
       "      <td>80.32</td>\n",
       "    </tr>\n",
       "    <tr>\n",
       "      <th>2007-11-05</th>\n",
       "      <td>186.18</td>\n",
       "      <td>105.48</td>\n",
       "      <td>33.77</td>\n",
       "      <td>80.07</td>\n",
       "    </tr>\n",
       "    <tr>\n",
       "      <th>2007-11-06</th>\n",
       "      <td>191.79</td>\n",
       "      <td>105.27</td>\n",
       "      <td>33.47</td>\n",
       "      <td>82.56</td>\n",
       "    </tr>\n",
       "    <tr>\n",
       "      <th>2007-11-07</th>\n",
       "      <td>186.30</td>\n",
       "      <td>103.69</td>\n",
       "      <td>32.65</td>\n",
       "      <td>79.96</td>\n",
       "    </tr>\n",
       "    <tr>\n",
       "      <th>2007-11-08</th>\n",
       "      <td>175.47</td>\n",
       "      <td>99.05</td>\n",
       "      <td>31.94</td>\n",
       "      <td>82.00</td>\n",
       "    </tr>\n",
       "    <tr>\n",
       "      <th>2007-11-09</th>\n",
       "      <td>165.37</td>\n",
       "      <td>93.58</td>\n",
       "      <td>31.01</td>\n",
       "      <td>79.64</td>\n",
       "    </tr>\n",
       "    <tr>\n",
       "      <th>2007-11-12</th>\n",
       "      <td>153.76</td>\n",
       "      <td>94.70</td>\n",
       "      <td>30.69</td>\n",
       "      <td>77.52</td>\n",
       "    </tr>\n",
       "    <tr>\n",
       "      <th>2007-11-13</th>\n",
       "      <td>169.96</td>\n",
       "      <td>98.27</td>\n",
       "      <td>31.79</td>\n",
       "      <td>79.67</td>\n",
       "    </tr>\n",
       "    <tr>\n",
       "      <th>2007-11-14</th>\n",
       "      <td>166.11</td>\n",
       "      <td>96.56</td>\n",
       "      <td>31.30</td>\n",
       "      <td>79.15</td>\n",
       "    </tr>\n",
       "    <tr>\n",
       "      <th>2007-11-15</th>\n",
       "      <td>164.30</td>\n",
       "      <td>96.71</td>\n",
       "      <td>31.14</td>\n",
       "      <td>77.48</td>\n",
       "    </tr>\n",
       "    <tr>\n",
       "      <th>2007-11-16</th>\n",
       "      <td>166.39</td>\n",
       "      <td>97.82</td>\n",
       "      <td>31.44</td>\n",
       "      <td>78.04</td>\n",
       "    </tr>\n",
       "    <tr>\n",
       "      <th>2007-11-19</th>\n",
       "      <td>163.95</td>\n",
       "      <td>95.42</td>\n",
       "      <td>31.32</td>\n",
       "      <td>77.13</td>\n",
       "    </tr>\n",
       "    <tr>\n",
       "      <th>2007-11-20</th>\n",
       "      <td>168.85</td>\n",
       "      <td>96.54</td>\n",
       "      <td>31.90</td>\n",
       "      <td>80.53</td>\n",
       "    </tr>\n",
       "    <tr>\n",
       "      <th>2007-11-21</th>\n",
       "      <td>168.46</td>\n",
       "      <td>95.42</td>\n",
       "      <td>31.57</td>\n",
       "      <td>79.82</td>\n",
       "    </tr>\n",
       "    <tr>\n",
       "      <th>2007-11-23</th>\n",
       "      <td>171.54</td>\n",
       "      <td>97.13</td>\n",
       "      <td>31.46</td>\n",
       "      <td>80.96</td>\n",
       "    </tr>\n",
       "    <tr>\n",
       "      <th>2007-11-26</th>\n",
       "      <td>172.54</td>\n",
       "      <td>95.19</td>\n",
       "      <td>30.41</td>\n",
       "      <td>78.57</td>\n",
       "    </tr>\n",
       "    <tr>\n",
       "      <th>2007-11-27</th>\n",
       "      <td>174.81</td>\n",
       "      <td>96.92</td>\n",
       "      <td>30.49</td>\n",
       "      <td>79.21</td>\n",
       "    </tr>\n",
       "    <tr>\n",
       "      <th>2007-11-28</th>\n",
       "      <td>180.22</td>\n",
       "      <td>100.23</td>\n",
       "      <td>31.08</td>\n",
       "      <td>80.62</td>\n",
       "    </tr>\n",
       "    <tr>\n",
       "      <th>2007-11-29</th>\n",
       "      <td>184.29</td>\n",
       "      <td>100.35</td>\n",
       "      <td>30.98</td>\n",
       "      <td>81.24</td>\n",
       "    </tr>\n",
       "    <tr>\n",
       "      <th>2007-11-30</th>\n",
       "      <td>182.22</td>\n",
       "      <td>98.18</td>\n",
       "      <td>30.99</td>\n",
       "      <td>81.76</td>\n",
       "    </tr>\n",
       "    <tr>\n",
       "      <th>2007-12-03</th>\n",
       "      <td>178.86</td>\n",
       "      <td>98.79</td>\n",
       "      <td>30.36</td>\n",
       "      <td>81.48</td>\n",
       "    </tr>\n",
       "    <tr>\n",
       "      <th>2007-12-04</th>\n",
       "      <td>179.81</td>\n",
       "      <td>99.54</td>\n",
       "      <td>30.23</td>\n",
       "      <td>80.81</td>\n",
       "    </tr>\n",
       "    <tr>\n",
       "      <th>2007-12-05</th>\n",
       "      <td>185.50</td>\n",
       "      <td>100.97</td>\n",
       "      <td>31.50</td>\n",
       "      <td>82.46</td>\n",
       "    </tr>\n",
       "    <tr>\n",
       "      <th>2007-12-06</th>\n",
       "      <td>189.95</td>\n",
       "      <td>102.40</td>\n",
       "      <td>31.87</td>\n",
       "      <td>83.85</td>\n",
       "    </tr>\n",
       "    <tr>\n",
       "      <th>2007-12-07</th>\n",
       "      <td>194.30</td>\n",
       "      <td>101.62</td>\n",
       "      <td>31.85</td>\n",
       "      <td>83.91</td>\n",
       "    </tr>\n",
       "    <tr>\n",
       "      <th>2007-12-10</th>\n",
       "      <td>194.21</td>\n",
       "      <td>102.11</td>\n",
       "      <td>32.06</td>\n",
       "      <td>84.39</td>\n",
       "    </tr>\n",
       "    <tr>\n",
       "      <th>...</th>\n",
       "      <td>...</td>\n",
       "      <td>...</td>\n",
       "      <td>...</td>\n",
       "      <td>...</td>\n",
       "    </tr>\n",
       "    <tr>\n",
       "      <th>2011-09-02</th>\n",
       "      <td>374.05</td>\n",
       "      <td>166.98</td>\n",
       "      <td>25.80</td>\n",
       "      <td>72.14</td>\n",
       "    </tr>\n",
       "    <tr>\n",
       "      <th>2011-09-06</th>\n",
       "      <td>379.74</td>\n",
       "      <td>165.11</td>\n",
       "      <td>25.51</td>\n",
       "      <td>71.15</td>\n",
       "    </tr>\n",
       "    <tr>\n",
       "      <th>2011-09-07</th>\n",
       "      <td>383.93</td>\n",
       "      <td>167.31</td>\n",
       "      <td>26.00</td>\n",
       "      <td>73.65</td>\n",
       "    </tr>\n",
       "    <tr>\n",
       "      <th>2011-09-08</th>\n",
       "      <td>384.14</td>\n",
       "      <td>165.25</td>\n",
       "      <td>26.22</td>\n",
       "      <td>72.82</td>\n",
       "    </tr>\n",
       "    <tr>\n",
       "      <th>2011-09-09</th>\n",
       "      <td>377.48</td>\n",
       "      <td>161.37</td>\n",
       "      <td>25.74</td>\n",
       "      <td>71.01</td>\n",
       "    </tr>\n",
       "    <tr>\n",
       "      <th>2011-09-12</th>\n",
       "      <td>379.94</td>\n",
       "      <td>162.42</td>\n",
       "      <td>25.89</td>\n",
       "      <td>71.84</td>\n",
       "    </tr>\n",
       "    <tr>\n",
       "      <th>2011-09-13</th>\n",
       "      <td>384.62</td>\n",
       "      <td>163.43</td>\n",
       "      <td>26.04</td>\n",
       "      <td>71.65</td>\n",
       "    </tr>\n",
       "    <tr>\n",
       "      <th>2011-09-14</th>\n",
       "      <td>389.30</td>\n",
       "      <td>167.24</td>\n",
       "      <td>26.50</td>\n",
       "      <td>72.64</td>\n",
       "    </tr>\n",
       "    <tr>\n",
       "      <th>2011-09-15</th>\n",
       "      <td>392.96</td>\n",
       "      <td>170.09</td>\n",
       "      <td>26.99</td>\n",
       "      <td>74.01</td>\n",
       "    </tr>\n",
       "    <tr>\n",
       "      <th>2011-09-16</th>\n",
       "      <td>400.50</td>\n",
       "      <td>172.99</td>\n",
       "      <td>27.12</td>\n",
       "      <td>74.55</td>\n",
       "    </tr>\n",
       "    <tr>\n",
       "      <th>2011-09-19</th>\n",
       "      <td>411.63</td>\n",
       "      <td>173.13</td>\n",
       "      <td>27.21</td>\n",
       "      <td>73.70</td>\n",
       "    </tr>\n",
       "    <tr>\n",
       "      <th>2011-09-20</th>\n",
       "      <td>413.45</td>\n",
       "      <td>174.72</td>\n",
       "      <td>26.98</td>\n",
       "      <td>74.01</td>\n",
       "    </tr>\n",
       "    <tr>\n",
       "      <th>2011-09-21</th>\n",
       "      <td>412.14</td>\n",
       "      <td>173.02</td>\n",
       "      <td>25.99</td>\n",
       "      <td>71.97</td>\n",
       "    </tr>\n",
       "    <tr>\n",
       "      <th>2011-09-22</th>\n",
       "      <td>401.82</td>\n",
       "      <td>168.62</td>\n",
       "      <td>25.06</td>\n",
       "      <td>69.24</td>\n",
       "    </tr>\n",
       "    <tr>\n",
       "      <th>2011-09-23</th>\n",
       "      <td>404.30</td>\n",
       "      <td>169.34</td>\n",
       "      <td>25.06</td>\n",
       "      <td>69.31</td>\n",
       "    </tr>\n",
       "    <tr>\n",
       "      <th>2011-09-26</th>\n",
       "      <td>403.17</td>\n",
       "      <td>174.51</td>\n",
       "      <td>25.44</td>\n",
       "      <td>71.72</td>\n",
       "    </tr>\n",
       "    <tr>\n",
       "      <th>2011-09-27</th>\n",
       "      <td>399.26</td>\n",
       "      <td>177.71</td>\n",
       "      <td>25.67</td>\n",
       "      <td>72.91</td>\n",
       "    </tr>\n",
       "    <tr>\n",
       "      <th>2011-09-28</th>\n",
       "      <td>397.01</td>\n",
       "      <td>177.55</td>\n",
       "      <td>25.58</td>\n",
       "      <td>72.07</td>\n",
       "    </tr>\n",
       "    <tr>\n",
       "      <th>2011-09-29</th>\n",
       "      <td>390.57</td>\n",
       "      <td>179.17</td>\n",
       "      <td>25.45</td>\n",
       "      <td>73.88</td>\n",
       "    </tr>\n",
       "    <tr>\n",
       "      <th>2011-09-30</th>\n",
       "      <td>381.32</td>\n",
       "      <td>174.87</td>\n",
       "      <td>24.89</td>\n",
       "      <td>72.63</td>\n",
       "    </tr>\n",
       "    <tr>\n",
       "      <th>2011-10-03</th>\n",
       "      <td>374.60</td>\n",
       "      <td>173.29</td>\n",
       "      <td>24.53</td>\n",
       "      <td>71.15</td>\n",
       "    </tr>\n",
       "    <tr>\n",
       "      <th>2011-10-04</th>\n",
       "      <td>372.50</td>\n",
       "      <td>174.74</td>\n",
       "      <td>25.34</td>\n",
       "      <td>72.83</td>\n",
       "    </tr>\n",
       "    <tr>\n",
       "      <th>2011-10-05</th>\n",
       "      <td>378.25</td>\n",
       "      <td>176.85</td>\n",
       "      <td>25.89</td>\n",
       "      <td>73.95</td>\n",
       "    </tr>\n",
       "    <tr>\n",
       "      <th>2011-10-06</th>\n",
       "      <td>377.37</td>\n",
       "      <td>181.69</td>\n",
       "      <td>26.34</td>\n",
       "      <td>73.89</td>\n",
       "    </tr>\n",
       "    <tr>\n",
       "      <th>2011-10-07</th>\n",
       "      <td>369.80</td>\n",
       "      <td>182.39</td>\n",
       "      <td>26.25</td>\n",
       "      <td>73.56</td>\n",
       "    </tr>\n",
       "    <tr>\n",
       "      <th>2011-10-10</th>\n",
       "      <td>388.81</td>\n",
       "      <td>186.62</td>\n",
       "      <td>26.94</td>\n",
       "      <td>76.28</td>\n",
       "    </tr>\n",
       "    <tr>\n",
       "      <th>2011-10-11</th>\n",
       "      <td>400.29</td>\n",
       "      <td>185.00</td>\n",
       "      <td>27.00</td>\n",
       "      <td>76.27</td>\n",
       "    </tr>\n",
       "    <tr>\n",
       "      <th>2011-10-12</th>\n",
       "      <td>402.19</td>\n",
       "      <td>186.12</td>\n",
       "      <td>26.96</td>\n",
       "      <td>77.16</td>\n",
       "    </tr>\n",
       "    <tr>\n",
       "      <th>2011-10-13</th>\n",
       "      <td>408.43</td>\n",
       "      <td>186.82</td>\n",
       "      <td>27.18</td>\n",
       "      <td>76.37</td>\n",
       "    </tr>\n",
       "    <tr>\n",
       "      <th>2011-10-14</th>\n",
       "      <td>422.00</td>\n",
       "      <td>190.53</td>\n",
       "      <td>27.27</td>\n",
       "      <td>78.11</td>\n",
       "    </tr>\n",
       "  </tbody>\n",
       "</table>\n",
       "<p>1000 rows × 4 columns</p>\n",
       "</div>"
      ],
      "text/plain": [
       "              AAPL     IBM   MSFT    XOM\n",
       "2007-10-29  185.09  106.78  31.78  85.51\n",
       "2007-10-30  187.00  106.15  32.70  83.25\n",
       "2007-10-31  189.95  108.01  33.84  84.03\n",
       "2007-11-01  187.44  105.72  34.07  80.84\n",
       "2007-11-02  187.87  106.59  34.07  80.32\n",
       "2007-11-05  186.18  105.48  33.77  80.07\n",
       "2007-11-06  191.79  105.27  33.47  82.56\n",
       "2007-11-07  186.30  103.69  32.65  79.96\n",
       "2007-11-08  175.47   99.05  31.94  82.00\n",
       "2007-11-09  165.37   93.58  31.01  79.64\n",
       "2007-11-12  153.76   94.70  30.69  77.52\n",
       "2007-11-13  169.96   98.27  31.79  79.67\n",
       "2007-11-14  166.11   96.56  31.30  79.15\n",
       "2007-11-15  164.30   96.71  31.14  77.48\n",
       "2007-11-16  166.39   97.82  31.44  78.04\n",
       "2007-11-19  163.95   95.42  31.32  77.13\n",
       "2007-11-20  168.85   96.54  31.90  80.53\n",
       "2007-11-21  168.46   95.42  31.57  79.82\n",
       "2007-11-23  171.54   97.13  31.46  80.96\n",
       "2007-11-26  172.54   95.19  30.41  78.57\n",
       "2007-11-27  174.81   96.92  30.49  79.21\n",
       "2007-11-28  180.22  100.23  31.08  80.62\n",
       "2007-11-29  184.29  100.35  30.98  81.24\n",
       "2007-11-30  182.22   98.18  30.99  81.76\n",
       "2007-12-03  178.86   98.79  30.36  81.48\n",
       "2007-12-04  179.81   99.54  30.23  80.81\n",
       "2007-12-05  185.50  100.97  31.50  82.46\n",
       "2007-12-06  189.95  102.40  31.87  83.85\n",
       "2007-12-07  194.30  101.62  31.85  83.91\n",
       "2007-12-10  194.21  102.11  32.06  84.39\n",
       "...            ...     ...    ...    ...\n",
       "2011-09-02  374.05  166.98  25.80  72.14\n",
       "2011-09-06  379.74  165.11  25.51  71.15\n",
       "2011-09-07  383.93  167.31  26.00  73.65\n",
       "2011-09-08  384.14  165.25  26.22  72.82\n",
       "2011-09-09  377.48  161.37  25.74  71.01\n",
       "2011-09-12  379.94  162.42  25.89  71.84\n",
       "2011-09-13  384.62  163.43  26.04  71.65\n",
       "2011-09-14  389.30  167.24  26.50  72.64\n",
       "2011-09-15  392.96  170.09  26.99  74.01\n",
       "2011-09-16  400.50  172.99  27.12  74.55\n",
       "2011-09-19  411.63  173.13  27.21  73.70\n",
       "2011-09-20  413.45  174.72  26.98  74.01\n",
       "2011-09-21  412.14  173.02  25.99  71.97\n",
       "2011-09-22  401.82  168.62  25.06  69.24\n",
       "2011-09-23  404.30  169.34  25.06  69.31\n",
       "2011-09-26  403.17  174.51  25.44  71.72\n",
       "2011-09-27  399.26  177.71  25.67  72.91\n",
       "2011-09-28  397.01  177.55  25.58  72.07\n",
       "2011-09-29  390.57  179.17  25.45  73.88\n",
       "2011-09-30  381.32  174.87  24.89  72.63\n",
       "2011-10-03  374.60  173.29  24.53  71.15\n",
       "2011-10-04  372.50  174.74  25.34  72.83\n",
       "2011-10-05  378.25  176.85  25.89  73.95\n",
       "2011-10-06  377.37  181.69  26.34  73.89\n",
       "2011-10-07  369.80  182.39  26.25  73.56\n",
       "2011-10-10  388.81  186.62  26.94  76.28\n",
       "2011-10-11  400.29  185.00  27.00  76.27\n",
       "2011-10-12  402.19  186.12  26.96  77.16\n",
       "2011-10-13  408.43  186.82  27.18  76.37\n",
       "2011-10-14  422.00  190.53  27.27  78.11\n",
       "\n",
       "[1000 rows x 4 columns]"
      ]
     },
     "execution_count": 99,
     "metadata": {},
     "output_type": "execute_result"
    }
   ],
   "source": [
    "close_px[['AAPL', 'IBM', 'MSFT', 'XOM']]#.plot()    # Can pass a list of col names to get items, so you don't have to use ix."
   ]
  },
  {
   "cell_type": "code",
   "execution_count": 117,
   "metadata": {
    "collapsed": false
   },
   "outputs": [
    {
     "data": {
      "text/plain": [
       "<matplotlib.axes._subplots.AxesSubplot at 0x7fab903c1d50>"
      ]
     },
     "execution_count": 117,
     "metadata": {},
     "output_type": "execute_result"
    },
    {
     "data": {
      "image/png": "[encoded data removed]",
      "text/plain": [
       "<matplotlib.figure.Figure at 0x7fab9019acd0>"
      ]
     },
     "metadata": {},
     "output_type": "display_data"
    }
   ],
   "source": [
    "close_px[['AAPL', 'IBM', 'MSFT', 'XOM']].plot() "
   ]
  },
  {
   "cell_type": "code",
   "execution_count": 30,
   "metadata": {
    "collapsed": false
   },
   "outputs": [
    {
     "data": {
      "text/plain": [
       "AA        10.26\n",
       "AAPL     422.00\n",
       "GE        16.60\n",
       "IBM      190.53\n",
       "JNJ       64.72\n",
       "MSFT      27.27\n",
       "PEP       62.24\n",
       "SPX     1224.58\n",
       "XOM       78.11\n",
       "Name: 2011-10-14 00:00:00"
      ]
     },
     "execution_count": 30,
     "metadata": {},
     "output_type": "execute_result"
    }
   ],
   "source": [
    "close_px.ix[-1]"
   ]
  },
  {
   "cell_type": "code",
   "execution_count": 29,
   "metadata": {
    "collapsed": false
   },
   "outputs": [
    {
     "data": {
      "text/plain": [
       "<matplotlib.lines.Line2D at 0x107675c90>"
      ]
     },
     "execution_count": 29,
     "metadata": {},
     "output_type": "execute_result"
    },
    {
     "data": {
      "image/png": "[encoded data removed]"
     },
     "metadata": {},
     "output_type": "display_data"
    }
   ],
   "source": [
    "close_px.ix[-1].plot(kind='bar')    # the last row of the data.\n",
    "title('Prices on %s' % close_px.index[-1])\n",
    "axhline(0)"
   ]
  },
  {
   "cell_type": "markdown",
   "metadata": {},
   "source": [
    "Hierarchical indexing\n",
    "---------------------"
   ]
  },
  {
   "cell_type": "code",
   "execution_count": 44,
   "metadata": {
    "collapsed": false
   },
   "outputs": [],
   "source": [
    "index = MultiIndex(levels=[['foo', 'bar', 'baz', 'qux'],\n",
    "                                   ['one', 'two', 'three']],\n",
    "                           labels=[[0, 0, 0, 1, 1, 2, 2, 3, 3, 3],\n",
    "                                   [0, 1, 2, 0, 1, 1, 2, 0, 1, 2]])\n",
    "hdf = DataFrame(np.random.randn(10, 3), index=index,\n",
    "                columns=['A', 'B', 'C'])\n",
    "hdf"
   ]
  },
  {
   "cell_type": "code",
   "execution_count": 45,
   "metadata": {
    "collapsed": false
   },
   "outputs": [],
   "source": [
    "hdf.ix['foo']"
   ]
  },
  {
   "cell_type": "code",
   "execution_count": 46,
   "metadata": {
    "collapsed": false
   },
   "outputs": [],
   "source": [
    "hdf.ix['foo'] = 0\n",
    "hdf"
   ]
  },
  {
   "cell_type": "code",
   "execution_count": 47,
   "metadata": {
    "collapsed": false
   },
   "outputs": [],
   "source": [
    "hdf.ix['foo', 'three']"
   ]
  },
  {
   "cell_type": "markdown",
   "metadata": {},
   "source": [
    "Stacking and unstacking\n",
    "-----------------------"
   ]
  },
  {
   "cell_type": "code",
   "execution_count": 48,
   "metadata": {
    "collapsed": false
   },
   "outputs": [],
   "source": [
    "tuples = zip(*[['bar', 'bar', 'baz', 'baz',\n",
    "                'foo', 'foo', 'qux', 'qux'],\n",
    "               ['one', 'two', 'one', 'two',\n",
    "                'one', 'two', 'one', 'two']])\n",
    "index = MultiIndex.from_tuples(tuples)\n",
    "columns = MultiIndex.from_tuples([('A', 'cat'), ('B', 'dog'),\n",
    "                                  ('B', 'cat'), ('A', 'dog')])\n",
    "df = DataFrame(randn(8, 4), index=index, columns=columns)\n",
    "df"
   ]
  },
  {
   "cell_type": "code",
   "execution_count": 49,
   "metadata": {
    "collapsed": false
   },
   "outputs": [],
   "source": [
    "df2 = df.ix[[0, 1, 2, 4, 5, 7]]\n",
    "df2"
   ]
  },
  {
   "cell_type": "code",
   "execution_count": 50,
   "metadata": {
    "collapsed": false
   },
   "outputs": [],
   "source": [
    "df.unstack()['B']"
   ]
  },
  {
   "cell_type": "markdown",
   "metadata": {},
   "source": [
    "GroupBy\n",
    "======="
   ]
  },
  {
   "cell_type": "code",
   "execution_count": 51,
   "metadata": {
    "collapsed": false
   },
   "outputs": [],
   "source": [
    "df = DataFrame({'A' : ['foo', 'bar', 'foo', 'bar',\n",
    "                       'foo', 'bar', 'foo', 'foo'],\n",
    "                'B' : ['one', 'one', 'two', 'three',\n",
    "                       'two', 'two', 'one', 'three'],\n",
    "                'C' : np.random.randn(8),\n",
    "                'D' : np.random.randn(8)})\n",
    "df"
   ]
  },
  {
   "cell_type": "code",
   "execution_count": 52,
   "metadata": {
    "collapsed": false
   },
   "outputs": [],
   "source": [
    "for key, group in df.groupby('A'):\n",
    "    print key\n",
    "    print group"
   ]
  },
  {
   "cell_type": "code",
   "execution_count": 53,
   "metadata": {
    "collapsed": false
   },
   "outputs": [],
   "source": [
    "df.groupby('A')['C'].describe().T"
   ]
  },
  {
   "cell_type": "code",
   "execution_count": 54,
   "metadata": {
    "collapsed": false
   },
   "outputs": [],
   "source": [
    "df.groupby('A').mean()"
   ]
  },
  {
   "cell_type": "code",
   "execution_count": 55,
   "metadata": {
    "collapsed": false
   },
   "outputs": [],
   "source": [
    "for key, group in df.groupby('A'):\n",
    "    print key\n",
    "    print group"
   ]
  },
  {
   "cell_type": "code",
   "execution_count": 56,
   "metadata": {
    "collapsed": false
   },
   "outputs": [],
   "source": [
    "df.groupby(['A', 'B']).mean()"
   ]
  },
  {
   "cell_type": "code",
   "execution_count": 57,
   "metadata": {
    "collapsed": false
   },
   "outputs": [],
   "source": [
    "df.groupby(['A', 'B'], as_index=False).mean()"
   ]
  },
  {
   "cell_type": "markdown",
   "metadata": {},
   "source": [
    "GroupBy example: linear regression by group\n",
    "-------------------------------------------"
   ]
  },
  {
   "cell_type": "code",
   "execution_count": 58,
   "metadata": {
    "collapsed": false
   },
   "outputs": [],
   "source": [
    "import scikits.statsmodels.api as sm\n",
    "rets = close_px / close_px.shift(1) - 1\n",
    "\n",
    "def get_beta(rets):\n",
    "    rets = rets.dropna()\n",
    "    rets['intercept'] = 1.\n",
    "    model = sm.OLS(rets['MSFT'], rets.ix[:, ['AAPL', 'intercept']]).fit()\n",
    "    return model.params\n",
    "\n",
    "get_beta(rets)"
   ]
  },
  {
   "cell_type": "code",
   "execution_count": 59,
   "metadata": {
    "collapsed": false
   },
   "outputs": [],
   "source": [
    "grouped = rets.groupby([lambda x: x.year, lambda x: x.month])\n",
    "beta_by_ym = grouped.apply(get_beta)\n",
    "beta_by_ym"
   ]
  },
  {
   "cell_type": "code",
   "execution_count": 60,
   "metadata": {
    "collapsed": false
   },
   "outputs": [],
   "source": [
    "beta_by_ym.unstack(0)['AAPL']"
   ]
  },
  {
   "cell_type": "markdown",
   "metadata": {},
   "source": [
    "GroupBy with hierarchical indexing\n",
    "----------------------------------"
   ]
  },
  {
   "cell_type": "code",
   "execution_count": 61,
   "metadata": {
    "collapsed": false
   },
   "outputs": [],
   "source": [
    "tuples = zip(*[['bar', 'bar', 'baz', 'baz',\n",
    "                'foo', 'foo', 'qux', 'qux'],\n",
    "               ['one', 'two', 'one', 'two',\n",
    "                'one', 'two', 'one', 'two']])\n",
    "index = MultiIndex.from_tuples(tuples)\n",
    "columns = MultiIndex.from_tuples([('A', 'cat'), ('B', 'dog'),\n",
    "                                  ('B', 'cat'), ('A', 'dog')])\n",
    "df = DataFrame(randn(8, 4), index=index, columns=columns)\n",
    "df"
   ]
  },
  {
   "cell_type": "code",
   "execution_count": 62,
   "metadata": {
    "collapsed": false
   },
   "outputs": [],
   "source": [
    "df.groupby(level=0, axis=0).mean()"
   ]
  },
  {
   "cell_type": "code",
   "execution_count": 63,
   "metadata": {
    "collapsed": false
   },
   "outputs": [],
   "source": [
    "df.stack()"
   ]
  },
  {
   "cell_type": "code",
   "execution_count": 64,
   "metadata": {
    "collapsed": false
   },
   "outputs": [],
   "source": [
    "df.stack().mean(1).unstack()"
   ]
  },
  {
   "cell_type": "code",
   "execution_count": 65,
   "metadata": {
    "collapsed": false
   },
   "outputs": [],
   "source": [
    "# could also have done\n",
    "df.groupby(level=1, axis=1).mean()"
   ]
  },
  {
   "cell_type": "code",
   "execution_count": "&nbsp;",
   "metadata": {
    "collapsed": true
   },
   "outputs": [],
   "source": []
  }
 ],
 "metadata": {
  "kernelspec": {
   "display_name": "Python 2",
   "language": "python",
   "name": "python2"
  },
  "language_info": {
   "codemirror_mode": {
    "name": "ipython",
    "version": 2
   },
   "file_extension": ".py",
   "mimetype": "text/x-python",
   "name": "python",
   "nbconvert_exporter": "python",
   "pygments_lexer": "ipython2",
   "version": "2.7.12"
  }
 },
 "nbformat": 4,
 "nbformat_minor": 1
}
