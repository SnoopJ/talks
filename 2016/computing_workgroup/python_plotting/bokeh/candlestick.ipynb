{
 "cells": [
  {
   "cell_type": "code",
   "execution_count": 7,
   "metadata": {
    "collapsed": true
   },
   "outputs": [],
   "source": [
    "from math import pi\n",
    "import pandas as pd\n",
    "import bokeh"
   ]
  },
  {
   "cell_type": "code",
   "execution_count": 8,
   "metadata": {
    "collapsed": false
   },
   "outputs": [],
   "source": [
    "# Uncomment and run this command if you don't already have the Bokeh sample data\n",
    "# bokeh.sampledata.download()\n",
    "\n",
    "from bokeh.sampledata.stocks import MSFT\n",
    "from bokeh.plotting import figure, output_notebook, show"
   ]
  },
  {
   "cell_type": "code",
   "execution_count": 9,
   "metadata": {
    "collapsed": false
   },
   "outputs": [
    {
     "data": {
      "text/html": [
       "\n",
       "    <div class=\"bk-root\">\n",
       "        <a href=\"http://bokeh.pydata.org\" target=\"_blank\" class=\"bk-logo bk-logo-small bk-logo-notebook\"></a>\n",
       "        <span id=\"48e66cd3-fa5f-46f6-9c47-6f95281eed67\">Loading BokehJS ...</span>\n",
       "    </div>"
      ]
     },
     "metadata": {},
     "output_type": "display_data"
    },
    {
     "data": {
      "application/javascript": [
       "\n",
       "(function(global) {\n",
       "  function now() {\n",
       "    return new Date();\n",
       "  }\n",
       "\n",
       "  var force = \"1\";\n",
       "\n",
       "  if (typeof (window._bokeh_onload_callbacks) === \"undefined\" || force !== \"\") {\n",
       "    window._bokeh_onload_callbacks = [];\n",
       "    window._bokeh_is_loading = undefined;\n",
       "  }\n",
       "\n",
       "\n",
       "  \n",
       "  if (typeof (window._bokeh_timeout) === \"undefined\" || force !== \"\") {\n",
       "    window._bokeh_timeout = Date.now() + 5000;\n",
       "    window._bokeh_failed_load = false;\n",
       "  }\n",
       "\n",
       "  var NB_LOAD_WARNING = {'data': {'text/html':\n",
       "     \"<div style='background-color: #fdd'>\\n\"+\n",
       "     \"<p>\\n\"+\n",
       "     \"BokehJS does not appear to have successfully loaded. If loading BokehJS from CDN, this \\n\"+\n",
       "     \"may be due to a slow or bad network connection. Possible fixes:\\n\"+\n",
       "     \"</p>\\n\"+\n",
       "     \"<ul>\\n\"+\n",
       "     \"<li>re-rerun `output_notebook()` to attempt to load from CDN again, or</li>\\n\"+\n",
       "     \"<li>use INLINE resources instead, as so:</li>\\n\"+\n",
       "     \"</ul>\\n\"+\n",
       "     \"<code>\\n\"+\n",
       "     \"from bokeh.resources import INLINE\\n\"+\n",
       "     \"output_notebook(resources=INLINE)\\n\"+\n",
       "     \"</code>\\n\"+\n",
       "     \"</div>\"}};\n",
       "\n",
       "  function display_loaded() {\n",
       "    if (window.Bokeh !== undefined) {\n",
       "      Bokeh.$(\"#48e66cd3-fa5f-46f6-9c47-6f95281eed67\").text(\"BokehJS successfully loaded.\");\n",
       "    } else if (Date.now() < window._bokeh_timeout) {\n",
       "      setTimeout(display_loaded, 100)\n",
       "    }\n",
       "  }\n",
       "\n",
       "  function run_callbacks() {\n",
       "    window._bokeh_onload_callbacks.forEach(function(callback) { callback() });\n",
       "    delete window._bokeh_onload_callbacks\n",
       "    console.info(\"Bokeh: all callbacks have finished\");\n",
       "  }\n",
       "\n",
       "  function load_libs(js_urls, callback) {\n",
       "    window._bokeh_onload_callbacks.push(callback);\n",
       "    if (window._bokeh_is_loading > 0) {\n",
       "      console.log(\"Bokeh: BokehJS is being loaded, scheduling callback at\", now());\n",
       "      return null;\n",
       "    }\n",
       "    if (js_urls == null || js_urls.length === 0) {\n",
       "      run_callbacks();\n",
       "      return null;\n",
       "    }\n",
       "    console.log(\"Bokeh: BokehJS not loaded, scheduling load and callback at\", now());\n",
       "    window._bokeh_is_loading = js_urls.length;\n",
       "    for (var i = 0; i < js_urls.length; i++) {\n",
       "      var url = js_urls[i];\n",
       "      var s = document.createElement('script');\n",
       "      s.src = url;\n",
       "      s.async = false;\n",
       "      s.onreadystatechange = s.onload = function() {\n",
       "        window._bokeh_is_loading--;\n",
       "        if (window._bokeh_is_loading === 0) {\n",
       "          console.log(\"Bokeh: all BokehJS libraries loaded\");\n",
       "          run_callbacks()\n",
       "        }\n",
       "      };\n",
       "      s.onerror = function() {\n",
       "        console.warn(\"failed to load library \" + url);\n",
       "      };\n",
       "      console.log(\"Bokeh: injecting script tag for BokehJS library: \", url);\n",
       "      document.getElementsByTagName(\"head\")[0].appendChild(s);\n",
       "    }\n",
       "  };var element = document.getElementById(\"48e66cd3-fa5f-46f6-9c47-6f95281eed67\");\n",
       "  if (element == null) {\n",
       "    console.log(\"Bokeh: ERROR: autoload.js configured with elementid '48e66cd3-fa5f-46f6-9c47-6f95281eed67' but no matching script tag was found. \")\n",
       "    return false;\n",
       "  }\n",
       "\n",
       "  var js_urls = ['https://cdn.pydata.org/bokeh/release/bokeh-0.12.2.min.js', 'https://cdn.pydata.org/bokeh/release/bokeh-widgets-0.12.2.min.js', 'https://cdn.pydata.org/bokeh/release/bokeh-compiler-0.12.2.min.js'];\n",
       "\n",
       "  var inline_js = [\n",
       "    function(Bokeh) {\n",
       "      Bokeh.set_log_level(\"info\");\n",
       "    },\n",
       "    \n",
       "    function(Bokeh) {\n",
       "      \n",
       "      Bokeh.$(\"#48e66cd3-fa5f-46f6-9c47-6f95281eed67\").text(\"BokehJS is loading...\");\n",
       "    },\n",
       "    function(Bokeh) {\n",
       "      console.log(\"Bokeh: injecting CSS: https://cdn.pydata.org/bokeh/release/bokeh-0.12.2.min.css\");\n",
       "      Bokeh.embed.inject_css(\"https://cdn.pydata.org/bokeh/release/bokeh-0.12.2.min.css\");\n",
       "      console.log(\"Bokeh: injecting CSS: https://cdn.pydata.org/bokeh/release/bokeh-widgets-0.12.2.min.css\");\n",
       "      Bokeh.embed.inject_css(\"https://cdn.pydata.org/bokeh/release/bokeh-widgets-0.12.2.min.css\");\n",
       "    }\n",
       "  ];\n",
       "\n",
       "  function run_inline_js() {\n",
       "    \n",
       "    if ((window.Bokeh !== undefined) || (force === \"1\")) {\n",
       "      for (var i = 0; i < inline_js.length; i++) {\n",
       "        inline_js[i](window.Bokeh);\n",
       "      }if (force === \"1\") {\n",
       "        display_loaded();\n",
       "      }} else if (Date.now() < window._bokeh_timeout) {\n",
       "      setTimeout(run_inline_js, 100);\n",
       "    } else if (!window._bokeh_failed_load) {\n",
       "      console.log(\"Bokeh: BokehJS failed to load within specified timeout.\");\n",
       "      window._bokeh_failed_load = true;\n",
       "    } else if (!force) {\n",
       "      var cell = $(\"#48e66cd3-fa5f-46f6-9c47-6f95281eed67\").parents('.cell').data().cell;\n",
       "      cell.output_area.append_execute_result(NB_LOAD_WARNING)\n",
       "    }\n",
       "\n",
       "  }\n",
       "\n",
       "  if (window._bokeh_is_loading === 0) {\n",
       "    console.log(\"Bokeh: BokehJS loaded, going straight to plotting\");\n",
       "    run_inline_js();\n",
       "  } else {\n",
       "    load_libs(js_urls, function() {\n",
       "      console.log(\"Bokeh: BokehJS plotting callback run at\", now());\n",
       "      run_inline_js();\n",
       "    });\n",
       "  }\n",
       "}(this));"
      ]
     },
     "metadata": {},
     "output_type": "display_data"
    }
   ],
   "source": [
    "output_notebook()"
   ]
  },
  {
   "cell_type": "code",
   "execution_count": 10,
   "metadata": {
    "collapsed": false
   },
   "outputs": [],
   "source": [
    "df = pd.DataFrame(MSFT)[:50]\n",
    "df['date'] = pd.to_datetime(df['date'])\n",
    "\n",
    "mids = (df.open + df.close)/2\n",
    "spans = abs(df.close-df.open)\n",
    "\n",
    "inc = df.close > df.open\n",
    "dec = df.open > df.close\n",
    "w = 12*60*60*1000 # half day in ms"
   ]
  },
  {
   "cell_type": "code",
   "execution_count": 11,
   "metadata": {
    "collapsed": false
   },
   "outputs": [],
   "source": [
    "p = figure(x_axis_type=\"datetime\", plot_width=800, plot_height=500, title = \"MSFT Candlestick\")\n",
    "p.xaxis.major_label_orientation = pi/4\n",
    "p.grid.grid_line_alpha=0.3"
   ]
  },
  {
   "cell_type": "code",
   "execution_count": 12,
   "metadata": {
    "collapsed": false
   },
   "outputs": [
    {
     "data": {
      "text/plain": [
       "<bokeh.models.renderers.GlyphRenderer at 0x7f684e8aaa50>"
      ]
     },
     "execution_count": 12,
     "metadata": {},
     "output_type": "execute_result"
    }
   ],
   "source": [
    "p.segment(df.date, df.high, df.date, df.low, color='black')\n",
    "p.rect(df.date[inc], mids[inc], w, spans[inc], fill_color=\"#D5E1DD\", line_color=\"black\")\n",
    "p.rect(df.date[dec], mids[dec], w, spans[dec], fill_color=\"#F2583E\", line_color=\"black\")"
   ]
  },
  {
   "cell_type": "code",
   "execution_count": 13,
   "metadata": {
    "collapsed": false
   },
   "outputs": [
    {
     "data": {
      "text/html": [
       "\n",
       "\n",
       "    <div class=\"bk-root\">\n",
       "        <div class=\"plotdiv\" id=\"01939237-178f-42bc-81e8-e0a78200e2f0\"></div>\n",
       "    </div>\n",
       "<script type=\"text/javascript\">\n",
       "  \n",
       "  (function(global) {\n",
       "    function now() {\n",
       "      return new Date();\n",
       "    }\n",
       "  \n",
       "    var force = \"\";\n",
       "  \n",
       "    if (typeof (window._bokeh_onload_callbacks) === \"undefined\" || force !== \"\") {\n",
       "      window._bokeh_onload_callbacks = [];\n",
       "      window._bokeh_is_loading = undefined;\n",
       "    }\n",
       "  \n",
       "  \n",
       "    \n",
       "    if (typeof (window._bokeh_timeout) === \"undefined\" || force !== \"\") {\n",
       "      window._bokeh_timeout = Date.now() + 0;\n",
       "      window._bokeh_failed_load = false;\n",
       "    }\n",
       "  \n",
       "    var NB_LOAD_WARNING = {'data': {'text/html':\n",
       "       \"<div style='background-color: #fdd'>\\n\"+\n",
       "       \"<p>\\n\"+\n",
       "       \"BokehJS does not appear to have successfully loaded. If loading BokehJS from CDN, this \\n\"+\n",
       "       \"may be due to a slow or bad network connection. Possible fixes:\\n\"+\n",
       "       \"</p>\\n\"+\n",
       "       \"<ul>\\n\"+\n",
       "       \"<li>re-rerun `output_notebook()` to attempt to load from CDN again, or</li>\\n\"+\n",
       "       \"<li>use INLINE resources instead, as so:</li>\\n\"+\n",
       "       \"</ul>\\n\"+\n",
       "       \"<code>\\n\"+\n",
       "       \"from bokeh.resources import INLINE\\n\"+\n",
       "       \"output_notebook(resources=INLINE)\\n\"+\n",
       "       \"</code>\\n\"+\n",
       "       \"</div>\"}};\n",
       "  \n",
       "    function display_loaded() {\n",
       "      if (window.Bokeh !== undefined) {\n",
       "        Bokeh.$(\"#01939237-178f-42bc-81e8-e0a78200e2f0\").text(\"BokehJS successfully loaded.\");\n",
       "      } else if (Date.now() < window._bokeh_timeout) {\n",
       "        setTimeout(display_loaded, 100)\n",
       "      }\n",
       "    }\n",
       "  \n",
       "    function run_callbacks() {\n",
       "      window._bokeh_onload_callbacks.forEach(function(callback) { callback() });\n",
       "      delete window._bokeh_onload_callbacks\n",
       "      console.info(\"Bokeh: all callbacks have finished\");\n",
       "    }\n",
       "  \n",
       "    function load_libs(js_urls, callback) {\n",
       "      window._bokeh_onload_callbacks.push(callback);\n",
       "      if (window._bokeh_is_loading > 0) {\n",
       "        console.log(\"Bokeh: BokehJS is being loaded, scheduling callback at\", now());\n",
       "        return null;\n",
       "      }\n",
       "      if (js_urls == null || js_urls.length === 0) {\n",
       "        run_callbacks();\n",
       "        return null;\n",
       "      }\n",
       "      console.log(\"Bokeh: BokehJS not loaded, scheduling load and callback at\", now());\n",
       "      window._bokeh_is_loading = js_urls.length;\n",
       "      for (var i = 0; i < js_urls.length; i++) {\n",
       "        var url = js_urls[i];\n",
       "        var s = document.createElement('script');\n",
       "        s.src = url;\n",
       "        s.async = false;\n",
       "        s.onreadystatechange = s.onload = function() {\n",
       "          window._bokeh_is_loading--;\n",
       "          if (window._bokeh_is_loading === 0) {\n",
       "            console.log(\"Bokeh: all BokehJS libraries loaded\");\n",
       "            run_callbacks()\n",
       "          }\n",
       "        };\n",
       "        s.onerror = function() {\n",
       "          console.warn(\"failed to load library \" + url);\n",
       "        };\n",
       "        console.log(\"Bokeh: injecting script tag for BokehJS library: \", url);\n",
       "        document.getElementsByTagName(\"head\")[0].appendChild(s);\n",
       "      }\n",
       "    };var element = document.getElementById(\"01939237-178f-42bc-81e8-e0a78200e2f0\");\n",
       "    if (element == null) {\n",
       "      console.log(\"Bokeh: ERROR: autoload.js configured with elementid '01939237-178f-42bc-81e8-e0a78200e2f0' but no matching script tag was found. \")\n",
       "      return false;\n",
       "    }\n",
       "  \n",
       "    var js_urls = [];\n",
       "  \n",
       "    var inline_js = [\n",
       "      function(Bokeh) {\n",
       "        Bokeh.$(function() {\n",
       "            var docs_json = {\"ece8498e-df12-4c2f-8616-f36cda9c5cce\":{\"roots\":{\"references\":[{\"attributes\":{\"months\":[0,4,8]},\"id\":\"d047d034-7b7f-4983-8d5b-e12a344ccd58\",\"type\":\"MonthsTicker\"},{\"attributes\":{\"line_alpha\":{\"value\":0.1},\"line_color\":{\"value\":\"#1f77b4\"},\"x0\":{\"field\":\"x0\"},\"x1\":{\"field\":\"x1\"},\"y0\":{\"field\":\"y0\"},\"y1\":{\"field\":\"y1\"}},\"id\":\"e787daa1-20fa-4759-9a79-7a1bd83b5961\",\"type\":\"Segment\"},{\"attributes\":{\"grid_line_alpha\":{\"value\":0.3},\"plot\":{\"id\":\"65c52e57-4111-43b4-9f82-5b250fb88e47\",\"subtype\":\"Figure\",\"type\":\"Plot\"},\"ticker\":{\"id\":\"c8ebefaa-80ef-4bd9-883c-a50369cb022d\",\"type\":\"DatetimeTicker\"}},\"id\":\"d1fc1acd-bef7-4053-aeba-c3a045acd6d8\",\"type\":\"Grid\"},{\"attributes\":{\"callback\":null},\"id\":\"6ef2ebcb-c278-447c-9021-be062e5d92bf\",\"type\":\"DataRange1d\"},{\"attributes\":{\"data_source\":{\"id\":\"6a505cda-0f21-438a-b983-bd61abc20964\",\"type\":\"ColumnDataSource\"},\"glyph\":{\"id\":\"5ae882f2-3089-4822-a626-f84f330f54d8\",\"type\":\"Rect\"},\"hover_glyph\":null,\"nonselection_glyph\":{\"id\":\"c99ed2dc-8d7d-4ebb-b720-ec57eb8d9071\",\"type\":\"Rect\"},\"selection_glyph\":null},\"id\":\"1103164f-0bea-474a-9708-60b4c6974f47\",\"type\":\"GlyphRenderer\"},{\"attributes\":{\"days\":[1,8,15,22]},\"id\":\"bb1e996d-71ad-4bad-a2ca-ecbd61be8949\",\"type\":\"DaysTicker\"},{\"attributes\":{\"data_source\":{\"id\":\"92ffb990-2c5f-4c3b-b445-c4938d4fcaa9\",\"type\":\"ColumnDataSource\"},\"glyph\":{\"id\":\"507f6f74-5753-4716-881b-b936f2b55e40\",\"type\":\"Segment\"},\"hover_glyph\":null,\"nonselection_glyph\":{\"id\":\"e787daa1-20fa-4759-9a79-7a1bd83b5961\",\"type\":\"Segment\"},\"selection_glyph\":null},\"id\":\"727a1bab-2fb1-404e-bb93-bb71ca65b433\",\"type\":\"GlyphRenderer\"},{\"attributes\":{\"callback\":null},\"id\":\"2928fb5f-c352-40f4-949c-fb59bb7c1440\",\"type\":\"DataRange1d\"},{\"attributes\":{\"plot\":null,\"text\":\"MSFT Candlestick\"},\"id\":\"7bb9d13e-3e15-4eee-87a9-c2f777413f42\",\"type\":\"Title\"},{\"attributes\":{\"fill_color\":{\"value\":\"#D5E1DD\"},\"height\":{\"field\":\"height\",\"units\":\"data\"},\"width\":{\"units\":\"data\",\"value\":43200000},\"x\":{\"field\":\"x\"},\"y\":{\"field\":\"y\"}},\"id\":\"72fc5432-158e-4e87-9b7a-60206689df95\",\"type\":\"Rect\"},{\"attributes\":{\"callback\":null,\"column_names\":[\"y1\",\"x0\",\"x1\",\"y0\"],\"data\":{\"x0\":[951868800000.0,951955200000.0,952041600000.0,952300800000.0,952387200000.0,952473600000.0,952560000000.0,952646400000.0,952905600000.0,952992000000.0,953078400000.0,953164800000.0,953251200000.0,953510400000.0,953596800000.0,953683200000.0,953769600000.0,953856000000.0,954115200000.0,954201600000.0,954288000000.0,954374400000.0,954460800000.0,954720000000.0,954806400000.0,954892800000.0,954979200000.0,955065600000.0,955324800000.0,955411200000.0,955497600000.0,955584000000.0,955670400000.0,955929600000.0,956016000000.0,956102400000.0,956188800000.0,956534400000.0,956620800000.0,956707200000.0,956793600000.0,956880000000.0,957139200000.0,957225600000.0,957312000000.0,957398400000.0,957484800000.0,957744000000.0,957830400000.0,957916800000.0],\"x1\":[951868800000.0,951955200000.0,952041600000.0,952300800000.0,952387200000.0,952473600000.0,952560000000.0,952646400000.0,952905600000.0,952992000000.0,953078400000.0,953164800000.0,953251200000.0,953510400000.0,953596800000.0,953683200000.0,953769600000.0,953856000000.0,954115200000.0,954201600000.0,954288000000.0,954374400000.0,954460800000.0,954720000000.0,954806400000.0,954892800000.0,954979200000.0,955065600000.0,955324800000.0,955411200000.0,955497600000.0,955584000000.0,955670400000.0,955929600000.0,956016000000.0,956102400000.0,956188800000.0,956534400000.0,956620800000.0,956707200000.0,956793600000.0,956880000000.0,957139200000.0,957225600000.0,957312000000.0,957398400000.0,957484800000.0,957744000000.0,957830400000.0,957916800000.0],\"y0\":[94.09,95.37,98.87,97.37,97.5,96.19,100.0,102.5,100.25,99.25,96.62,96.69,99.5,99.75,103.12,105.62,112.87,115.0,108.25,107.44,108.94,108.62,108.25,96.5,92.0,88.5,88.0,89.37,88.62,86.06,82.25,82.25,79.5,76.0,81.94,81.5,79.87,68.0,69.5,71.12,69.94,71.0,74.0,73.5,70.81,71.25,71.81,71.37,70.44,67.87],\"y1\":[88.94,91.12,93.87,90.12,91.94,91.0,95.0,99.5,97.5,95.12,93.69,93.25,94.5,96.5,96.5,101.12,106.62,109.56,103.94,102.37,105.12,102.5,104.12,90.0,84.94,85.87,85.27,85.0,86.0,83.5,78.75,79.0,73.25,73.0,75.87,78.12,77.5,65.0,67.62,67.37,67.37,68.25,71.69,69.5,68.81,69.31,69.87,69.69,67.5,65.75]}},\"id\":\"92ffb990-2c5f-4c3b-b445-c4938d4fcaa9\",\"type\":\"ColumnDataSource\"},{\"attributes\":{\"plot\":{\"id\":\"65c52e57-4111-43b4-9f82-5b250fb88e47\",\"subtype\":\"Figure\",\"type\":\"Plot\"}},\"id\":\"696e324e-fcaa-450f-a917-5acc670c8389\",\"type\":\"WheelZoomTool\"},{\"attributes\":{\"below\":[{\"id\":\"082cbead-a937-442a-bde3-dd7da5b03e06\",\"type\":\"DatetimeAxis\"}],\"left\":[{\"id\":\"3178a36d-c88b-4e09-a326-da0a4a58a39e\",\"type\":\"LinearAxis\"}],\"plot_height\":500,\"plot_width\":800,\"renderers\":[{\"id\":\"082cbead-a937-442a-bde3-dd7da5b03e06\",\"type\":\"DatetimeAxis\"},{\"id\":\"d1fc1acd-bef7-4053-aeba-c3a045acd6d8\",\"type\":\"Grid\"},{\"id\":\"3178a36d-c88b-4e09-a326-da0a4a58a39e\",\"type\":\"LinearAxis\"},{\"id\":\"f43cc700-05c7-4767-9fd2-dc802d7f25ae\",\"type\":\"Grid\"},{\"id\":\"e7bf2794-2f39-4998-9450-87a4fe2a8321\",\"type\":\"BoxAnnotation\"},{\"id\":\"727a1bab-2fb1-404e-bb93-bb71ca65b433\",\"type\":\"GlyphRenderer\"},{\"id\":\"b8c34dc3-ed7b-4e8c-912c-271757e137c5\",\"type\":\"GlyphRenderer\"},{\"id\":\"1103164f-0bea-474a-9708-60b4c6974f47\",\"type\":\"GlyphRenderer\"}],\"title\":{\"id\":\"7bb9d13e-3e15-4eee-87a9-c2f777413f42\",\"type\":\"Title\"},\"tool_events\":{\"id\":\"062ca5be-334b-4e36-be44-097493f11117\",\"type\":\"ToolEvents\"},\"toolbar\":{\"id\":\"61767e92-738b-49ff-8c39-b074efc36e52\",\"type\":\"Toolbar\"},\"x_range\":{\"id\":\"6ef2ebcb-c278-447c-9021-be062e5d92bf\",\"type\":\"DataRange1d\"},\"y_range\":{\"id\":\"2928fb5f-c352-40f4-949c-fb59bb7c1440\",\"type\":\"DataRange1d\"}},\"id\":\"65c52e57-4111-43b4-9f82-5b250fb88e47\",\"subtype\":\"Figure\",\"type\":\"Plot\"},{\"attributes\":{\"active_drag\":\"auto\",\"active_scroll\":\"auto\",\"active_tap\":\"auto\",\"tools\":[{\"id\":\"13be954b-fce6-4430-9bee-909cc82a175b\",\"type\":\"PanTool\"},{\"id\":\"696e324e-fcaa-450f-a917-5acc670c8389\",\"type\":\"WheelZoomTool\"},{\"id\":\"19a09199-f3a7-4611-94f2-14c4fa07b942\",\"type\":\"BoxZoomTool\"},{\"id\":\"e9885a50-0ae6-45e3-a38d-e08a78491cf4\",\"type\":\"SaveTool\"},{\"id\":\"288cab39-a0c1-4798-8dd3-555bda52e7d6\",\"type\":\"ResetTool\"},{\"id\":\"fe38e048-7012-4e2d-8560-92ad1066e71e\",\"type\":\"HelpTool\"}]},\"id\":\"61767e92-738b-49ff-8c39-b074efc36e52\",\"type\":\"Toolbar\"},{\"attributes\":{\"base\":24,\"mantissas\":[1,2,4,6,8,12],\"max_interval\":43200000.0,\"min_interval\":3600000.0,\"num_minor_ticks\":0},\"id\":\"dbd6db4f-1ffd-4139-889b-ead823860051\",\"type\":\"AdaptiveTicker\"},{\"attributes\":{},\"id\":\"062ca5be-334b-4e36-be44-097493f11117\",\"type\":\"ToolEvents\"},{\"attributes\":{\"base\":60,\"mantissas\":[1,2,5,10,15,20,30],\"max_interval\":1800000.0,\"min_interval\":1000.0,\"num_minor_ticks\":0},\"id\":\"b89c3ef6-8c0a-4d9e-bb6d-2a93e6a981dd\",\"type\":\"AdaptiveTicker\"},{\"attributes\":{\"plot\":{\"id\":\"65c52e57-4111-43b4-9f82-5b250fb88e47\",\"subtype\":\"Figure\",\"type\":\"Plot\"}},\"id\":\"e9885a50-0ae6-45e3-a38d-e08a78491cf4\",\"type\":\"SaveTool\"},{\"attributes\":{},\"id\":\"f362ed0f-f3d4-4880-a442-534af6bc9761\",\"type\":\"BasicTickFormatter\"},{\"attributes\":{\"fill_color\":{\"value\":\"#F2583E\"},\"height\":{\"field\":\"height\",\"units\":\"data\"},\"width\":{\"units\":\"data\",\"value\":43200000},\"x\":{\"field\":\"x\"},\"y\":{\"field\":\"y\"}},\"id\":\"5ae882f2-3089-4822-a626-f84f330f54d8\",\"type\":\"Rect\"},{\"attributes\":{\"days\":[1,15]},\"id\":\"63d474e0-dfc2-4401-8e60-f49e446e1df2\",\"type\":\"DaysTicker\"},{\"attributes\":{\"x0\":{\"field\":\"x0\"},\"x1\":{\"field\":\"x1\"},\"y0\":{\"field\":\"y0\"},\"y1\":{\"field\":\"y1\"}},\"id\":\"507f6f74-5753-4716-881b-b936f2b55e40\",\"type\":\"Segment\"},{\"attributes\":{\"plot\":{\"id\":\"65c52e57-4111-43b4-9f82-5b250fb88e47\",\"subtype\":\"Figure\",\"type\":\"Plot\"}},\"id\":\"288cab39-a0c1-4798-8dd3-555bda52e7d6\",\"type\":\"ResetTool\"},{\"attributes\":{\"days\":[1,2,3,4,5,6,7,8,9,10,11,12,13,14,15,16,17,18,19,20,21,22,23,24,25,26,27,28,29,30,31]},\"id\":\"b7400ede-c0d3-4a53-902f-2d1c34412ebd\",\"type\":\"DaysTicker\"},{\"attributes\":{\"data_source\":{\"id\":\"fa10da34-a8df-427e-a8d9-784eac33fbf6\",\"type\":\"ColumnDataSource\"},\"glyph\":{\"id\":\"72fc5432-158e-4e87-9b7a-60206689df95\",\"type\":\"Rect\"},\"hover_glyph\":null,\"nonselection_glyph\":{\"id\":\"c882032d-4907-4885-ba26-7209ff2e2b1d\",\"type\":\"Rect\"},\"selection_glyph\":null},\"id\":\"b8c34dc3-ed7b-4e8c-912c-271757e137c5\",\"type\":\"GlyphRenderer\"},{\"attributes\":{\"months\":[0,2,4,6,8,10]},\"id\":\"74fbde11-24ed-4a66-851b-46aa74df0cf3\",\"type\":\"MonthsTicker\"},{\"attributes\":{\"plot\":{\"id\":\"65c52e57-4111-43b4-9f82-5b250fb88e47\",\"subtype\":\"Figure\",\"type\":\"Plot\"}},\"id\":\"13be954b-fce6-4430-9bee-909cc82a175b\",\"type\":\"PanTool\"},{\"attributes\":{\"months\":[0,1,2,3,4,5,6,7,8,9,10,11]},\"id\":\"c28d32fc-32a5-4e0d-9313-d05d34596c62\",\"type\":\"MonthsTicker\"},{\"attributes\":{\"callback\":null,\"column_names\":[\"y\",\"x\",\"height\"],\"data\":{\"height\":[1.1899999999999977,1.5600000000000023,1.3700000000000045,1.75,4.689999999999998,1.4399999999999977,0.37999999999999545,0.8100000000000023,4.1200000000000045,6.0,0.4399999999999977,5.060000000000002,0.6899999999999977,2.0,0.25,2.0600000000000023,1.6200000000000045,4.060000000000002,0.3199999999999932,0.6200000000000045,2.3700000000000045,0.5699999999999932,0.18999999999999773,0.12999999999999545,0.8700000000000045],\"x\":[951868800000.0,951955200000.0,952041600000.0,952473600000.0,952560000000.0,952646400000.0,952905600000.0,953078400000.0,953251200000.0,953596800000.0,953683200000.0,953769600000.0,954201600000.0,954288000000.0,954460800000.0,955065600000.0,955929600000.0,956016000000.0,956188800000.0,956620800000.0,956793600000.0,957139200000.0,957312000000.0,957398400000.0,957484800000.0],\"y\":[90.215,92.59,95.435,94.685,97.655,100.28,97.81,94.965,97.31,99.75,103.03,109.34,103.965,106.19,106.125,88.03,75.06,78.53,78.78,69.06,68.625,73.155,70.465,70.375,70.685]}},\"id\":\"fa10da34-a8df-427e-a8d9-784eac33fbf6\",\"type\":\"ColumnDataSource\"},{\"attributes\":{\"callback\":null,\"column_names\":[\"y\",\"x\",\"height\"],\"data\":{\"height\":[5.3799999999999955,3.25,3.5,0.5699999999999932,1.3799999999999955,0.9300000000000068,3.7099999999999937,2.819999999999993,3.569999999999993,3.0,1.8799999999999955,1.8700000000000045,2.5600000000000023,1.25,2.75,1.6200000000000045,5.0,2.75,0.6299999999999955,2.0,1.0,2.9399999999999977,1.1299999999999955,2.3799999999999955,1.5600000000000023],\"x\":[952300800000.0,952387200000.0,952992000000.0,953164800000.0,953510400000.0,953856000000.0,954115200000.0,954374400000.0,954720000000.0,954806400000.0,954892800000.0,954979200000.0,955324800000.0,955411200000.0,955497600000.0,955584000000.0,955670400000.0,956102400000.0,956534400000.0,956707200000.0,956880000000.0,957225600000.0,957744000000.0,957830400000.0,957916800000.0],\"y\":[93.31,94.495,96.87,95.655,98.06,112.155,105.91499999999999,104.78,92.655,90.06,87.31,86.935,87.34,84.495,80.745,80.06,76.62,80.065,66.935,69.0,70.25,71.34,70.375,69.0,66.97]}},\"id\":\"6a505cda-0f21-438a-b983-bd61abc20964\",\"type\":\"ColumnDataSource\"},{\"attributes\":{\"fill_alpha\":{\"value\":0.1},\"fill_color\":{\"value\":\"#1f77b4\"},\"height\":{\"field\":\"height\",\"units\":\"data\"},\"line_alpha\":{\"value\":0.1},\"line_color\":{\"value\":\"#1f77b4\"},\"width\":{\"units\":\"data\",\"value\":43200000},\"x\":{\"field\":\"x\"},\"y\":{\"field\":\"y\"}},\"id\":\"c99ed2dc-8d7d-4ebb-b720-ec57eb8d9071\",\"type\":\"Rect\"},{\"attributes\":{\"plot\":{\"id\":\"65c52e57-4111-43b4-9f82-5b250fb88e47\",\"subtype\":\"Figure\",\"type\":\"Plot\"}},\"id\":\"fe38e048-7012-4e2d-8560-92ad1066e71e\",\"type\":\"HelpTool\"},{\"attributes\":{},\"id\":\"4d9478bf-6d95-481c-85d1-5776885d0ef9\",\"type\":\"YearsTicker\"},{\"attributes\":{\"formatter\":{\"id\":\"cdb04be4-136c-42f9-b2fb-d59f18f6805f\",\"type\":\"DatetimeTickFormatter\"},\"major_label_orientation\":0.7853981633974483,\"plot\":{\"id\":\"65c52e57-4111-43b4-9f82-5b250fb88e47\",\"subtype\":\"Figure\",\"type\":\"Plot\"},\"ticker\":{\"id\":\"c8ebefaa-80ef-4bd9-883c-a50369cb022d\",\"type\":\"DatetimeTicker\"}},\"id\":\"082cbead-a937-442a-bde3-dd7da5b03e06\",\"type\":\"DatetimeAxis\"},{\"attributes\":{\"formatter\":{\"id\":\"f362ed0f-f3d4-4880-a442-534af6bc9761\",\"type\":\"BasicTickFormatter\"},\"plot\":{\"id\":\"65c52e57-4111-43b4-9f82-5b250fb88e47\",\"subtype\":\"Figure\",\"type\":\"Plot\"},\"ticker\":{\"id\":\"12511703-7e04-42fb-af5a-39a354727cc6\",\"type\":\"BasicTicker\"}},\"id\":\"3178a36d-c88b-4e09-a326-da0a4a58a39e\",\"type\":\"LinearAxis\"},{\"attributes\":{\"dimension\":1,\"grid_line_alpha\":{\"value\":0.3},\"plot\":{\"id\":\"65c52e57-4111-43b4-9f82-5b250fb88e47\",\"subtype\":\"Figure\",\"type\":\"Plot\"},\"ticker\":{\"id\":\"12511703-7e04-42fb-af5a-39a354727cc6\",\"type\":\"BasicTicker\"}},\"id\":\"f43cc700-05c7-4767-9fd2-dc802d7f25ae\",\"type\":\"Grid\"},{\"attributes\":{\"fill_alpha\":{\"value\":0.1},\"fill_color\":{\"value\":\"#1f77b4\"},\"height\":{\"field\":\"height\",\"units\":\"data\"},\"line_alpha\":{\"value\":0.1},\"line_color\":{\"value\":\"#1f77b4\"},\"width\":{\"units\":\"data\",\"value\":43200000},\"x\":{\"field\":\"x\"},\"y\":{\"field\":\"y\"}},\"id\":\"c882032d-4907-4885-ba26-7209ff2e2b1d\",\"type\":\"Rect\"},{\"attributes\":{},\"id\":\"cdb04be4-136c-42f9-b2fb-d59f18f6805f\",\"type\":\"DatetimeTickFormatter\"},{\"attributes\":{\"max_interval\":500.0,\"num_minor_ticks\":0},\"id\":\"612bb97c-4805-498c-810a-ff33d3e90c35\",\"type\":\"AdaptiveTicker\"},{\"attributes\":{\"months\":[0,6]},\"id\":\"78e7383a-d8df-4efe-b3d0-a8a50ae5f05e\",\"type\":\"MonthsTicker\"},{\"attributes\":{},\"id\":\"12511703-7e04-42fb-af5a-39a354727cc6\",\"type\":\"BasicTicker\"},{\"attributes\":{\"bottom_units\":\"screen\",\"fill_alpha\":{\"value\":0.5},\"fill_color\":{\"value\":\"lightgrey\"},\"left_units\":\"screen\",\"level\":\"overlay\",\"line_alpha\":{\"value\":1.0},\"line_color\":{\"value\":\"black\"},\"line_dash\":[4,4],\"line_width\":{\"value\":2},\"plot\":null,\"render_mode\":\"css\",\"right_units\":\"screen\",\"top_units\":\"screen\"},\"id\":\"e7bf2794-2f39-4998-9450-87a4fe2a8321\",\"type\":\"BoxAnnotation\"},{\"attributes\":{\"days\":[1,4,7,10,13,16,19,22,25,28]},\"id\":\"9f92ccf6-e056-4832-be61-36fed57b7ec5\",\"type\":\"DaysTicker\"},{\"attributes\":{\"overlay\":{\"id\":\"e7bf2794-2f39-4998-9450-87a4fe2a8321\",\"type\":\"BoxAnnotation\"},\"plot\":{\"id\":\"65c52e57-4111-43b4-9f82-5b250fb88e47\",\"subtype\":\"Figure\",\"type\":\"Plot\"}},\"id\":\"19a09199-f3a7-4611-94f2-14c4fa07b942\",\"type\":\"BoxZoomTool\"},{\"attributes\":{\"num_minor_ticks\":5},\"id\":\"c8ebefaa-80ef-4bd9-883c-a50369cb022d\",\"type\":\"DatetimeTicker\"}],\"root_ids\":[\"65c52e57-4111-43b4-9f82-5b250fb88e47\"]},\"title\":\"Bokeh Application\",\"version\":\"0.12.2\"}};\n",
       "            var render_items = [{\"docid\":\"ece8498e-df12-4c2f-8616-f36cda9c5cce\",\"elementid\":\"01939237-178f-42bc-81e8-e0a78200e2f0\",\"modelid\":\"65c52e57-4111-43b4-9f82-5b250fb88e47\"}];\n",
       "            \n",
       "            Bokeh.embed.embed_items(docs_json, render_items);\n",
       "        });\n",
       "      },\n",
       "      function(Bokeh) {\n",
       "      }\n",
       "    ];\n",
       "  \n",
       "    function run_inline_js() {\n",
       "      \n",
       "      if ((window.Bokeh !== undefined) || (force === \"1\")) {\n",
       "        for (var i = 0; i < inline_js.length; i++) {\n",
       "          inline_js[i](window.Bokeh);\n",
       "        }if (force === \"1\") {\n",
       "          display_loaded();\n",
       "        }} else if (Date.now() < window._bokeh_timeout) {\n",
       "        setTimeout(run_inline_js, 100);\n",
       "      } else if (!window._bokeh_failed_load) {\n",
       "        console.log(\"Bokeh: BokehJS failed to load within specified timeout.\");\n",
       "        window._bokeh_failed_load = true;\n",
       "      } else if (!force) {\n",
       "        var cell = $(\"#01939237-178f-42bc-81e8-e0a78200e2f0\").parents('.cell').data().cell;\n",
       "        cell.output_area.append_execute_result(NB_LOAD_WARNING)\n",
       "      }\n",
       "  \n",
       "    }\n",
       "  \n",
       "    if (window._bokeh_is_loading === 0) {\n",
       "      console.log(\"Bokeh: BokehJS loaded, going straight to plotting\");\n",
       "      run_inline_js();\n",
       "    } else {\n",
       "      load_libs(js_urls, function() {\n",
       "        console.log(\"Bokeh: BokehJS plotting callback run at\", now());\n",
       "        run_inline_js();\n",
       "      });\n",
       "    }\n",
       "  }(this));\n",
       "</script>"
      ]
     },
     "metadata": {},
     "output_type": "display_data"
    }
   ],
   "source": [
    "show(p)"
   ]
  },
  {
   "cell_type": "code",
   "execution_count": null,
   "metadata": {
    "collapsed": false
   },
   "outputs": [],
   "source": []
  }
 ],
 "metadata": {
  "kernelspec": {
   "display_name": "Python 2",
   "language": "python",
   "name": "python2"
  },
  "language_info": {
   "codemirror_mode": {
    "name": "ipython",
    "version": 2
   },
   "file_extension": ".py",
   "mimetype": "text/x-python",
   "name": "python",
   "nbconvert_exporter": "python",
   "pygments_lexer": "ipython2",
   "version": "2.7.10"
  },
  "widgets": {
   "state": {},
   "version": "1.1.2"
  }
 },
 "nbformat": 4,
 "nbformat_minor": 0
}
