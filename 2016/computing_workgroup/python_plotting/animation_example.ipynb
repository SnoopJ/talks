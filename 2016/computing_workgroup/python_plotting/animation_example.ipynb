{
 "cells": [
  {
   "cell_type": "code",
   "execution_count": null,
   "metadata": {
    "collapsed": true
   },
   "outputs": [],
   "source": [
    "from matplotlib import animation\n",
    "from matplotlib import pyplot as plt\n",
    "import numpy as np\n",
    "%matplotlib inline"
   ]
  },
  {
   "cell_type": "code",
   "execution_count": null,
   "metadata": {
    "collapsed": true
   },
   "outputs": [],
   "source": [
    "from tempfile import NamedTemporaryFile\n",
    "\n",
    "VIDEO_TAG = \"\"\"<video controls>\n",
    " <source src=\"data:video/x-m4v;base64,{0}\" type=\"video/mp4\">\n",
    " Your browser does not support the video tag.\n",
    "</video>\"\"\"\n",
    "\n",
    "def anim_to_html(anim):\n",
    "    if not hasattr(anim, '_encoded_video'):\n",
    "        with NamedTemporaryFile(suffix='.mp4') as f:\n",
    "            anim.save(f.name, fps=20, extra_args=['-vcodec', 'libx264'])\n",
    "            video = open(f.name, \"rb\").read()\n",
    "        anim._encoded_video = video.encode(\"base64\")\n",
    "    \n",
    "    return VIDEO_TAG.format(anim._encoded_video)\n",
    "\n",
    "from IPython.display import HTML\n",
    "\n",
    "def display_animation(anim):\n",
    "    plt.close(anim._fig)\n",
    "    return HTML(anim_to_html(anim))\n",
    "\n",
    "animation.Animation._repr_html_ = anim_to_html"
   ]
  },
  {
   "cell_type": "code",
   "execution_count": null,
   "metadata": {
    "collapsed": false,
    "scrolled": false
   },
   "outputs": [],
   "source": [
    "framerate = 36.  # desired framerate in fps\n",
    "x = np.arange(0, 2*np.pi, 2*np.pi/100)\n",
    "nfreqs = 8\n",
    "maxfreq = 10\n",
    "wavelens = [4*np.pi * i for i in np.random.random(8)]\n",
    "freqs = maxfreq*np.random.random(nfreqs)\n",
    "maxamp = 1\n",
    "amps = maxamp*np.random.random(nfreqs)\n",
    "tanim = 5  # animation length in seconds\n",
    "\n",
    "def animate(framenum):\n",
    "    \"\"\" This function will be called to create each frame \"\"\"\n",
    "    t = framenum / framerate\n",
    "    ytot = 0\n",
    "    for w,k,amp,line in zip(freqs, wavelens, amps, lines[:-1]):\n",
    "        y = amp*np.sin(k*x - w*t)\n",
    "        ytot += y\n",
    "        line.set_data((x, y))\n",
    "    lines[-1].set_data((x, ytot))\n",
    "    \n",
    "fig = plt.figure()\n",
    "ymax = np.sum(amps)\n",
    "ax = fig.add_subplot(111, xlim=(0,2*np.pi), ylim=(-ymax,ymax))\n",
    "lines = []\n",
    "for freq in freqs:\n",
    "    line, = ax.plot([], [], markersize=3)\n",
    "    lines.append(line)\n",
    "\n",
    "line, = ax.plot([], [], 'k--', markersize=3)\n",
    "lines.append(line)\n",
    "ax.set_title(\"Look, ma!  I added up some waves!\")\n",
    "ax.grid(True)\n",
    "ani = animation.FuncAnimation(fig, animate, interval=1000/framerate, frames=range(0,int(framerate)*tanim))\n",
    "display_animation(ani)"
   ]
  }
 ],
 "metadata": {
  "kernelspec": {
   "display_name": "Python 2",
   "language": "python",
   "name": "python2"
  },
  "language_info": {
   "codemirror_mode": {
    "name": "ipython",
    "version": 2
   },
   "file_extension": ".py",
   "mimetype": "text/x-python",
   "name": "python",
   "nbconvert_exporter": "python",
   "pygments_lexer": "ipython2",
   "version": "2.7.10"
  },
  "widgets": {
   "state": {},
   "version": "1.1.2"
  }
 },
 "nbformat": 4,
 "nbformat_minor": 0
}
